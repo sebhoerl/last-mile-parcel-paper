{
 "cells": [
  {
   "cell_type": "code",
   "execution_count": null,
   "metadata": {},
   "outputs": [],
   "source": [
    "import pandas as pd\n",
    "from pathlib import Path"
   ]
  },
  {
   "cell_type": "markdown",
   "metadata": {},
   "source": [
    "### Fleet analysis\n",
    "This plot provides additional analysis on the fleet composition in the scenarios"
   ]
  },
  {
   "cell_type": "code",
   "execution_count": null,
   "metadata": {},
   "outputs": [],
   "source": [
    "# Inputs and outputs\n",
    "results_path = Path(\"../results\")\n",
    "tables_path = Path(\"tables\")"
   ]
  },
  {
   "cell_type": "code",
   "execution_count": null,
   "metadata": {},
   "outputs": [],
   "source": [
    "# Prepare case information\n",
    "values = [100, 200, 500, 1000]\n",
    "\n",
    "cases = [\n",
    "    \"baseline_2019\", \"today_2024\", \"future_2030\",\n",
    "    \"policy_co2_100EUR\", \"policy_co2_200EUR\", \"policy_co2_500EUR\", \"policy_co2_1000EUR\", \"policy_co2_1500EUR\", \"policy_co2_2000EUR\",\n",
    "    \"policy_thermic_20pct\", \"policy_thermic_50pct\", \"policy_thermic_75pct\", \"policy_thermic_100pct\",\n",
    "    \"policy_elez\", \"policy_electric\"\n",
    "]\n",
    "\n",
    "df_fleet = []\n",
    "\n",
    "for case in cases:\n",
    "    df_partial = pd.read_parquet(results_path / \"scenario_solutions/{}.vehicles.parquet\".format(case))\n",
    "    df_partial = df_partial.groupby(\"vehicle_type\").size().reset_index(name = \"count\")\n",
    "    df_partial[\"case\"] = case\n",
    "    df_fleet.append(df_partial)\n",
    "\n",
    "df_fleet = pd.concat(df_fleet)"
   ]
  },
  {
   "cell_type": "code",
   "execution_count": null,
   "metadata": {},
   "outputs": [],
   "source": [
    "# Prepare fleet composition table\n",
    "df_table = df_fleet.copy()\n",
    "\n",
    "df_table = df_table.pivot(\n",
    "    index = \"case\", columns = \"vehicle_type\", values = \"count\").fillna(0).astype(int)\n",
    "\n",
    "df_table = df_table[[\n",
    "    \"small_thermic\", \"small_electric\",\n",
    "    \"medium_thermic\", \"medium_electric\",\n",
    "    \"large_thermic\", \"large_electric\"\n",
    "]]\n",
    "\n",
    "df_table[\"sorter\"] = [cases.index(c) for c in df_table.index]\n",
    "df_table = df_table.sort_values(by = \"sorter\").drop(columns = [\"sorter\"])\n",
    "\n",
    "df_table.columns = pd.MultiIndex.from_product([\n",
    "    (\"Small\", \"Medium\", \"Large\"), (\"ICV\", \"BEV\")\n",
    "])\n",
    "\n",
    "df_table.index.name = None\n",
    "\n",
    "def replace_name(name):\n",
    "    if name == \"baseline_2019\": return \"Baseline 2019\"\n",
    "    if name == \"today_2024\": return \"Today 2024\"\n",
    "    if name == \"future_2030\": return \"Future 2030\"\n",
    "    if name == \"policy_elez\": return \"Electric LEZ\"\n",
    "    if name == \"policy_electric\": return \"100\\\\% Electric\"\n",
    "\n",
    "    if name.startswith(\"policy_co2\"):\n",
    "        return \"Carbon tax ({} EUR)\".format(name.split(\"_\")[-1].replace(\"EUR\", \"\"))\n",
    "\n",
    "    if name.startswith(\"policy_thermic\"):\n",
    "        return \"ICV tax ({}\\\\%)\".format(name.split(\"_\")[-1].replace(\"pct\", \"\"))\n",
    "\n",
    "    return name\n",
    "\n",
    "df_table.index = [replace_name(name) for name in df_table.index]\n",
    "\n",
    "with open(tables_path / \"vehicle_counts.tex\", \"w+\") as f:\n",
    "    table = df_table.to_latex(\n",
    "        caption = \"Fleet composition results across scenarios\", \n",
    "        label = \"tab:fleet_composition\", sparsify = False\n",
    "    )\n",
    "\n",
    "    table = table.replace(\"Carbon tax (100 EUR)\", \"\\\\midrule\\nCarbon tax (100 EUR)\")\n",
    "    table = table.replace(\"ICV tax (20\\\\%)\", \"\\\\midrule\\nICV tax (20\\\\%)\")\n",
    "    table = table.replace(\"Electric LEZ\", \"\\\\midrule\\nElectric LEZ\")\n",
    "\n",
    "    table = table.replace(\"\\\\begin{table}\", \"\\\\begin{table}\\n\\\\centering\")\n",
    "    \n",
    "    f.write(table)\n",
    "\n",
    "df_table"
   ]
  }
 ],
 "metadata": {
  "kernelspec": {
   "display_name": "lead",
   "language": "python",
   "name": "python3"
  },
  "language_info": {
   "codemirror_mode": {
    "name": "ipython",
    "version": 3
   },
   "file_extension": ".py",
   "mimetype": "text/x-python",
   "name": "python",
   "nbconvert_exporter": "python",
   "pygments_lexer": "ipython3",
   "version": "3.12.1"
  }
 },
 "nbformat": 4,
 "nbformat_minor": 2
}
