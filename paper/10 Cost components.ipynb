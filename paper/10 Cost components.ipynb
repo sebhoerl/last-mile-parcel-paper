{
 "cells": [
  {
   "cell_type": "code",
   "execution_count": 95,
   "metadata": {},
   "outputs": [],
   "source": [
    "import pandas as pd\n",
    "from pathlib import Path\n",
    "import re\n",
    "\n",
    "import plotly.graph_objs as go\n",
    "import plotly.express as px"
   ]
  },
  {
   "cell_type": "markdown",
   "metadata": {},
   "source": [
    "### Solution analysis\n",
    "This notebooks generates tables and plots for the scenario analysis in the paper."
   ]
  },
  {
   "cell_type": "code",
   "execution_count": 96,
   "metadata": {},
   "outputs": [],
   "source": [
    "# Inputs and outputs\n",
    "results_path = Path(\"../results\")\n",
    "\n",
    "tables_path = Path(\"tables\")\n",
    "figures_path = Path(\"figures\")"
   ]
  },
  {
   "cell_type": "code",
   "execution_count": 97,
   "metadata": {},
   "outputs": [
    {
     "data": {
      "text/html": [
       "<div>\n",
       "<style scoped>\n",
       "    .dataframe tbody tr th:only-of-type {\n",
       "        vertical-align: middle;\n",
       "    }\n",
       "\n",
       "    .dataframe tbody tr th {\n",
       "        vertical-align: top;\n",
       "    }\n",
       "\n",
       "    .dataframe thead th {\n",
       "        text-align: right;\n",
       "    }\n",
       "</style>\n",
       "<table border=\"1\" class=\"dataframe\">\n",
       "  <thead>\n",
       "    <tr style=\"text-align: right;\">\n",
       "      <th></th>\n",
       "      <th>case</th>\n",
       "      <th>energy_EUR</th>\n",
       "      <th>externalities_EUR</th>\n",
       "      <th>vehicle_EUR</th>\n",
       "      <th>driver_EUR</th>\n",
       "      <th>cost_per_delivery_EUR</th>\n",
       "      <th>cost_per_distance_EUR_km</th>\n",
       "      <th>deliveries</th>\n",
       "      <th>distance</th>\n",
       "    </tr>\n",
       "  </thead>\n",
       "  <tbody>\n",
       "    <tr>\n",
       "      <th>0</th>\n",
       "      <td>baseline_2019</td>\n",
       "      <td>1154.371963</td>\n",
       "      <td>99.100327</td>\n",
       "      <td>4612.272727</td>\n",
       "      <td>35572.727273</td>\n",
       "      <td>1.535668</td>\n",
       "      <td>2.500598</td>\n",
       "      <td>26984</td>\n",
       "      <td>16571.425618</td>\n",
       "    </tr>\n",
       "    <tr>\n",
       "      <th>1</th>\n",
       "      <td>today_2024</td>\n",
       "      <td>2002.550930</td>\n",
       "      <td>129.101685</td>\n",
       "      <td>5674.090909</td>\n",
       "      <td>44313.454545</td>\n",
       "      <td>1.448319</td>\n",
       "      <td>2.634554</td>\n",
       "      <td>35986</td>\n",
       "      <td>19782.929721</td>\n",
       "    </tr>\n",
       "    <tr>\n",
       "      <th>2</th>\n",
       "      <td>future_2030</td>\n",
       "      <td>2856.440577</td>\n",
       "      <td>194.316685</td>\n",
       "      <td>8442.727273</td>\n",
       "      <td>61998.181818</td>\n",
       "      <td>1.347803</td>\n",
       "      <td>2.941205</td>\n",
       "      <td>54527</td>\n",
       "      <td>24986.920460</td>\n",
       "    </tr>\n",
       "    <tr>\n",
       "      <th>3</th>\n",
       "      <td>policy_co2_100EUR</td>\n",
       "      <td>2826.870655</td>\n",
       "      <td>615.896871</td>\n",
       "      <td>8483.181818</td>\n",
       "      <td>61998.181818</td>\n",
       "      <td>1.355734</td>\n",
       "      <td>2.943697</td>\n",
       "      <td>54527</td>\n",
       "      <td>25112.683944</td>\n",
       "    </tr>\n",
       "    <tr>\n",
       "      <th>4</th>\n",
       "      <td>policy_co2_200EUR</td>\n",
       "      <td>2765.198683</td>\n",
       "      <td>1005.121531</td>\n",
       "      <td>8540.909091</td>\n",
       "      <td>62099.818182</td>\n",
       "      <td>1.364664</td>\n",
       "      <td>2.965516</td>\n",
       "      <td>54527</td>\n",
       "      <td>25092.108228</td>\n",
       "    </tr>\n",
       "    <tr>\n",
       "      <th>5</th>\n",
       "      <td>policy_co2_500EUR</td>\n",
       "      <td>2631.777369</td>\n",
       "      <td>2038.409519</td>\n",
       "      <td>8471.363636</td>\n",
       "      <td>62404.727273</td>\n",
       "      <td>1.385484</td>\n",
       "      <td>2.943978</td>\n",
       "      <td>54527</td>\n",
       "      <td>25661.293435</td>\n",
       "    </tr>\n",
       "    <tr>\n",
       "      <th>6</th>\n",
       "      <td>policy_co2_750EUR</td>\n",
       "      <td>2499.988576</td>\n",
       "      <td>2575.200850</td>\n",
       "      <td>9012.272727</td>\n",
       "      <td>62404.727273</td>\n",
       "      <td>1.402831</td>\n",
       "      <td>2.963876</td>\n",
       "      <td>54527</td>\n",
       "      <td>25808.162588</td>\n",
       "    </tr>\n",
       "    <tr>\n",
       "      <th>7</th>\n",
       "      <td>policy_co2_1000EUR</td>\n",
       "      <td>2351.223102</td>\n",
       "      <td>2832.904667</td>\n",
       "      <td>9638.636364</td>\n",
       "      <td>62404.727273</td>\n",
       "      <td>1.416317</td>\n",
       "      <td>2.987173</td>\n",
       "      <td>54527</td>\n",
       "      <td>25853.033107</td>\n",
       "    </tr>\n",
       "    <tr>\n",
       "      <th>8</th>\n",
       "      <td>policy_co2_1500EUR</td>\n",
       "      <td>2122.995312</td>\n",
       "      <td>2885.649376</td>\n",
       "      <td>10984.545455</td>\n",
       "      <td>62404.727273</td>\n",
       "      <td>1.437782</td>\n",
       "      <td>3.017600</td>\n",
       "      <td>54527</td>\n",
       "      <td>25980.219113</td>\n",
       "    </tr>\n",
       "    <tr>\n",
       "      <th>9</th>\n",
       "      <td>policy_co2_2000EUR</td>\n",
       "      <td>1978.528687</td>\n",
       "      <td>2850.510829</td>\n",
       "      <td>11830.454545</td>\n",
       "      <td>62506.363636</td>\n",
       "      <td>1.451865</td>\n",
       "      <td>3.026902</td>\n",
       "      <td>54527</td>\n",
       "      <td>26154.088488</td>\n",
       "    </tr>\n",
       "    <tr>\n",
       "      <th>10</th>\n",
       "      <td>policy_thermic_20pct</td>\n",
       "      <td>2639.165823</td>\n",
       "      <td>166.656005</td>\n",
       "      <td>9836.363636</td>\n",
       "      <td>62303.090909</td>\n",
       "      <td>1.374462</td>\n",
       "      <td>2.922984</td>\n",
       "      <td>54527</td>\n",
       "      <td>25639.989226</td>\n",
       "    </tr>\n",
       "    <tr>\n",
       "      <th>11</th>\n",
       "      <td>policy_thermic_50pct</td>\n",
       "      <td>2508.046260</td>\n",
       "      <td>147.764841</td>\n",
       "      <td>10965.227273</td>\n",
       "      <td>62709.636364</td>\n",
       "      <td>1.399869</td>\n",
       "      <td>2.807783</td>\n",
       "      <td>54527</td>\n",
       "      <td>27185.387427</td>\n",
       "    </tr>\n",
       "    <tr>\n",
       "      <th>12</th>\n",
       "      <td>policy_thermic_75pct</td>\n",
       "      <td>2279.070997</td>\n",
       "      <td>109.070898</td>\n",
       "      <td>10829.886364</td>\n",
       "      <td>64132.545455</td>\n",
       "      <td>1.418574</td>\n",
       "      <td>2.501578</td>\n",
       "      <td>54527</td>\n",
       "      <td>30920.706582</td>\n",
       "    </tr>\n",
       "    <tr>\n",
       "      <th>13</th>\n",
       "      <td>policy_thermic_100pct</td>\n",
       "      <td>1862.045517</td>\n",
       "      <td>36.196660</td>\n",
       "      <td>10253.636364</td>\n",
       "      <td>65657.090909</td>\n",
       "      <td>1.426981</td>\n",
       "      <td>2.180421</td>\n",
       "      <td>54527</td>\n",
       "      <td>35685.300403</td>\n",
       "    </tr>\n",
       "    <tr>\n",
       "      <th>14</th>\n",
       "      <td>policy_elez</td>\n",
       "      <td>2402.742634</td>\n",
       "      <td>121.134856</td>\n",
       "      <td>10752.272727</td>\n",
       "      <td>63624.363636</td>\n",
       "      <td>1.410320</td>\n",
       "      <td>2.730960</td>\n",
       "      <td>54527</td>\n",
       "      <td>28158.786696</td>\n",
       "    </tr>\n",
       "    <tr>\n",
       "      <th>15</th>\n",
       "      <td>policy_electric</td>\n",
       "      <td>1791.205768</td>\n",
       "      <td>26.473750</td>\n",
       "      <td>10279.090909</td>\n",
       "      <td>65758.727273</td>\n",
       "      <td>1.427834</td>\n",
       "      <td>2.191643</td>\n",
       "      <td>54527</td>\n",
       "      <td>35523.798987</td>\n",
       "    </tr>\n",
       "    <tr>\n",
       "      <th>16</th>\n",
       "      <td>policy_cost_parity</td>\n",
       "      <td>1766.351169</td>\n",
       "      <td>26.106403</td>\n",
       "      <td>8369.090909</td>\n",
       "      <td>61998.181818</td>\n",
       "      <td>1.323376</td>\n",
       "      <td>2.902623</td>\n",
       "      <td>54527</td>\n",
       "      <td>24860.179430</td>\n",
       "    </tr>\n",
       "  </tbody>\n",
       "</table>\n",
       "</div>"
      ],
      "text/plain": [
       "                     case   energy_EUR  externalities_EUR   vehicle_EUR  \\\n",
       "0           baseline_2019  1154.371963          99.100327   4612.272727   \n",
       "1              today_2024  2002.550930         129.101685   5674.090909   \n",
       "2             future_2030  2856.440577         194.316685   8442.727273   \n",
       "3       policy_co2_100EUR  2826.870655         615.896871   8483.181818   \n",
       "4       policy_co2_200EUR  2765.198683        1005.121531   8540.909091   \n",
       "5       policy_co2_500EUR  2631.777369        2038.409519   8471.363636   \n",
       "6       policy_co2_750EUR  2499.988576        2575.200850   9012.272727   \n",
       "7      policy_co2_1000EUR  2351.223102        2832.904667   9638.636364   \n",
       "8      policy_co2_1500EUR  2122.995312        2885.649376  10984.545455   \n",
       "9      policy_co2_2000EUR  1978.528687        2850.510829  11830.454545   \n",
       "10   policy_thermic_20pct  2639.165823         166.656005   9836.363636   \n",
       "11   policy_thermic_50pct  2508.046260         147.764841  10965.227273   \n",
       "12   policy_thermic_75pct  2279.070997         109.070898  10829.886364   \n",
       "13  policy_thermic_100pct  1862.045517          36.196660  10253.636364   \n",
       "14            policy_elez  2402.742634         121.134856  10752.272727   \n",
       "15        policy_electric  1791.205768          26.473750  10279.090909   \n",
       "16     policy_cost_parity  1766.351169          26.106403   8369.090909   \n",
       "\n",
       "      driver_EUR  cost_per_delivery_EUR  cost_per_distance_EUR_km  deliveries  \\\n",
       "0   35572.727273               1.535668                  2.500598       26984   \n",
       "1   44313.454545               1.448319                  2.634554       35986   \n",
       "2   61998.181818               1.347803                  2.941205       54527   \n",
       "3   61998.181818               1.355734                  2.943697       54527   \n",
       "4   62099.818182               1.364664                  2.965516       54527   \n",
       "5   62404.727273               1.385484                  2.943978       54527   \n",
       "6   62404.727273               1.402831                  2.963876       54527   \n",
       "7   62404.727273               1.416317                  2.987173       54527   \n",
       "8   62404.727273               1.437782                  3.017600       54527   \n",
       "9   62506.363636               1.451865                  3.026902       54527   \n",
       "10  62303.090909               1.374462                  2.922984       54527   \n",
       "11  62709.636364               1.399869                  2.807783       54527   \n",
       "12  64132.545455               1.418574                  2.501578       54527   \n",
       "13  65657.090909               1.426981                  2.180421       54527   \n",
       "14  63624.363636               1.410320                  2.730960       54527   \n",
       "15  65758.727273               1.427834                  2.191643       54527   \n",
       "16  61998.181818               1.323376                  2.902623       54527   \n",
       "\n",
       "        distance  \n",
       "0   16571.425618  \n",
       "1   19782.929721  \n",
       "2   24986.920460  \n",
       "3   25112.683944  \n",
       "4   25092.108228  \n",
       "5   25661.293435  \n",
       "6   25808.162588  \n",
       "7   25853.033107  \n",
       "8   25980.219113  \n",
       "9   26154.088488  \n",
       "10  25639.989226  \n",
       "11  27185.387427  \n",
       "12  30920.706582  \n",
       "13  35685.300403  \n",
       "14  28158.786696  \n",
       "15  35523.798987  \n",
       "16  24860.179430  "
      ]
     },
     "execution_count": 97,
     "metadata": {},
     "output_type": "execute_result"
    }
   ],
   "source": [
    "# Load all displayed cases\n",
    "cases = [\n",
    "    \"baseline_2019\", \"today_2024\", \"future_2030\",\n",
    "    \"policy_co2_100EUR\", \"policy_co2_200EUR\", \"policy_co2_500EUR\", \"policy_co2_750EUR\",\"policy_co2_1000EUR\", \"policy_co2_1500EUR\", \"policy_co2_2000EUR\",\n",
    "    \"policy_thermic_20pct\", \"policy_thermic_50pct\", \"policy_thermic_75pct\", \"policy_thermic_100pct\",\n",
    "    \"policy_elez\", \"policy_electric\", \"policy_cost_parity\" # , \"policy_cost_parity_high_range\"\n",
    "]\n",
    "\n",
    "df_cases = []\n",
    "\n",
    "for case in cases:\n",
    "    df_partial = pd.read_parquet(results_path / \"scenario_solutions/{}.vehicles.parquet\".format(case))\n",
    "    f_electric = df_partial[\"vehicle_type\"].str.endswith(\"electric\")\n",
    "\n",
    "    cost = df_partial[\"energy_cost_EUR\"].sum() + df_partial[\"externalities_cost_EUR\"].sum() + df_partial[\"vehicle_cost_EUR\"].sum() + df_partial[\"driver_cost_EUR\"].sum()\n",
    "    distance = df_partial[\"distance_m\"].sum() * 1e-3\n",
    "    deliveries = df_partial[\"deliveries\"].sum()\n",
    "    \n",
    "    df_cases.append({\n",
    "        \"case\": case,\n",
    "\n",
    "        \"energy_EUR\": df_partial[\"energy_cost_EUR\"].sum(),\n",
    "        \"externalities_EUR\": df_partial[\"externalities_cost_EUR\"].sum(),\n",
    "        \"vehicle_EUR\": df_partial[\"vehicle_cost_EUR\"].sum(),\n",
    "        \"driver_EUR\": df_partial[\"driver_cost_EUR\"].sum(),\n",
    "\n",
    "        \"cost_per_delivery_EUR\": cost / deliveries,\n",
    "        \"cost_per_distance_EUR_km\": cost / distance,\n",
    "\n",
    "        \"deliveries\": deliveries,\n",
    "        \"distance\": distance\n",
    "    })\n",
    "\n",
    "df_cases = pd.DataFrame.from_records(df_cases)\n",
    "df_cases"
   ]
  },
  {
   "cell_type": "code",
   "execution_count": 98,
   "metadata": {},
   "outputs": [],
   "source": [
    "def replace_name(name):\n",
    "    if name == \"baseline_2019\": return \"Baseline 2019\"\n",
    "    if name == \"today_2024\": return \"Today 2024\"\n",
    "    if name == \"future_2030\": return \"Future 2030\"\n",
    "    if name == \"policy_elez\": return \"Electric LEZ\"\n",
    "    if name == \"policy_electric\": return \"100\\\\% Electric\"\n",
    "    if name == \"policy_cost_parity\": return \"Cost parity\"\n",
    "\n",
    "    if name.startswith(\"policy_co2\"):\n",
    "        return \"Carbon tax ({} EUR)\".format(name.split(\"_\")[-1].replace(\"EUR\", \"\"))\n",
    "\n",
    "    if name.startswith(\"policy_thermic\"):\n",
    "        return \"ICV tax ({}\\\\%)\".format(name.split(\"_\")[-1].replace(\"pct\", \"\"))\n",
    "\n",
    "    return name"
   ]
  },
  {
   "cell_type": "code",
   "execution_count": 99,
   "metadata": {},
   "outputs": [
    {
     "data": {
      "application/vnd.plotly.v1+json": {
       "config": {
        "plotlyServerURL": "https://plot.ly"
       },
       "data": [
        {
         "hovertemplate": "Component=Energy<br>N=Per parcel<br>Case=%{x}<br>Cost [EUR]=%{y}<extra></extra>",
         "legendgroup": "Energy",
         "marker": {
          "color": "#636efa",
          "pattern": {
           "shape": ""
          }
         },
         "name": "Energy",
         "orientation": "v",
         "showlegend": true,
         "textposition": "auto",
         "type": "bar",
         "x": [
          "Baseline 2019",
          "Today 2024",
          "Future 2030",
          "100 EUR CO2",
          "200 EUR CO2",
          "500 EUR CO2",
          "750 EUR CO2",
          "1000 EUR CO2",
          "1500 EUR CO2",
          "2000 EUR CO2",
          "20% ICV",
          "50% ICV",
          "75% ICV",
          "100% ICV",
          "Electric LEZ",
          "100% Electric",
          "Cost parity"
         ],
         "xaxis": "x2",
         "y": {
          "bdata": "9NFvLT7npT8KTAnm5n2sP53m/sxP0qo/pRmMRjuLqj8qy6gF/PapPz0oOy1Etqg/TQmJ8Hh5pz/2Tfy23hOmPx6zKYtB76M/VM3LtvyToj99SX3UBsioPxoAMGvXjKc/eWPRRW5mpT8wdxYk/HuhP/0d3262j6Y/mSKISbPRoD9LxnNx9JWgPw==",
          "dtype": "f8"
         },
         "yaxis": "y2"
        },
        {
         "hovertemplate": "Component=Energy<br>N=Per kilometer<br>Case=%{x}<br>Cost [EUR]=%{y}<extra></extra>",
         "legendgroup": "Energy",
         "marker": {
          "color": "#636efa",
          "pattern": {
           "shape": ""
          }
         },
         "name": "Energy",
         "orientation": "v",
         "showlegend": false,
         "textposition": "auto",
         "type": "bar",
         "x": [
          "Baseline 2019",
          "Today 2024",
          "Future 2030",
          "100 EUR CO2",
          "200 EUR CO2",
          "500 EUR CO2",
          "750 EUR CO2",
          "1000 EUR CO2",
          "1500 EUR CO2",
          "2000 EUR CO2",
          "20% ICV",
          "50% ICV",
          "75% ICV",
          "100% ICV",
          "Electric LEZ",
          "100% Electric",
          "Cost parity"
         ],
         "xaxis": "x",
         "y": {
          "bdata": "tCufZkPVsT8t1Jbu9em5P+XgHD/oQ70/elZ/VDjRvD+Fhv+IMTa8PyJ1Xu1BQbo/5tSan1nMuD++5Sg+OEi3P7/NJjlU67Q//WBOXLpdsz+rEVgmulm6Pxv0UREqnrc/5qbebnXesj8XiIybSbeqP3ZsVQ4U2LU/UUcC+QDRqT/4CtMZbTCyPw==",
          "dtype": "f8"
         },
         "yaxis": "y"
        },
        {
         "hovertemplate": "Component=Externalities<br>N=Per parcel<br>Case=%{x}<br>Cost [EUR]=%{y}<extra></extra>",
         "legendgroup": "Externalities",
         "marker": {
          "color": "#EF553B",
          "pattern": {
           "shape": ""
          }
         },
         "name": "Externalities",
         "orientation": "v",
         "showlegend": true,
         "textposition": "auto",
         "type": "bar",
         "x": [
          "Baseline 2019",
          "Today 2024",
          "Future 2030",
          "100 EUR CO2",
          "200 EUR CO2",
          "500 EUR CO2",
          "750 EUR CO2",
          "1000 EUR CO2",
          "1500 EUR CO2",
          "2000 EUR CO2",
          "20% ICV",
          "50% ICV",
          "75% ICV",
          "100% ICV",
          "Electric LEZ",
          "100% Electric",
          "Cost parity"
         ],
         "xaxis": "x2",
         "y": {
          "bdata": "xHsyAeoVbj+GXMPlpGNtPwsldTOTMW0/uvf3svghhz+hAYPgOOCSP6Eykb/tI6M/8oiwhkQuqD+A1EVxvJmqP4C91RmGGKs/c3muyw7Eqj9BKeUguQlpP15jLmUnM2Y/3dVeNPRiYD9ef88jnMBFPyIfFIHxMmI//Z9t3pzRPz9pMGfElWA/Pw==",
          "dtype": "f8"
         },
         "yaxis": "y2"
        },
        {
         "hovertemplate": "Component=Externalities<br>N=Per kilometer<br>Case=%{x}<br>Cost [EUR]=%{y}<extra></extra>",
         "legendgroup": "Externalities",
         "marker": {
          "color": "#EF553B",
          "pattern": {
           "shape": ""
          }
         },
         "name": "Externalities",
         "orientation": "v",
         "showlegend": false,
         "textposition": "auto",
         "type": "bar",
         "x": [
          "Baseline 2019",
          "Today 2024",
          "Future 2030",
          "100 EUR CO2",
          "200 EUR CO2",
          "500 EUR CO2",
          "750 EUR CO2",
          "1000 EUR CO2",
          "1500 EUR CO2",
          "2000 EUR CO2",
          "20% ICV",
          "50% ICV",
          "75% ICV",
          "100% ICV",
          "Electric LEZ",
          "100% Electric",
          "Cost parity"
         ],
         "xaxis": "x",
         "y": {
          "bdata": "IIR+5a9+eD+AwV2H6rp6PyfZSq9/2n8/8r1MECsdmT8gVbctY4KkP1fNmTXdVbQ/oP8mK1eLuT+u6r9yQQ28P9cgWXQmb7w/0IRp17Xmuz9ZGshflZ96P7CCFsR7Q3Y/ybU+QZPlbD/XVuU5aJ5QP04Lw97QnnE/XXGCX4ZrSD/7RxjDjzRRPw==",
          "dtype": "f8"
         },
         "yaxis": "y"
        },
        {
         "hovertemplate": "Component=Vehicles<br>N=Per parcel<br>Case=%{x}<br>Cost [EUR]=%{y}<extra></extra>",
         "legendgroup": "Vehicles",
         "marker": {
          "color": "#00cc96",
          "pattern": {
           "shape": ""
          }
         },
         "name": "Vehicles",
         "orientation": "v",
         "showlegend": true,
         "textposition": "auto",
         "type": "bar",
         "x": [
          "Baseline 2019",
          "Today 2024",
          "Future 2030",
          "100 EUR CO2",
          "200 EUR CO2",
          "500 EUR CO2",
          "750 EUR CO2",
          "1000 EUR CO2",
          "1500 EUR CO2",
          "2000 EUR CO2",
          "20% ICV",
          "50% ICV",
          "75% ICV",
          "100% ICV",
          "Electric LEZ",
          "100% Electric",
          "Cost parity"
         ],
         "xaxis": "x2",
         "y": {
          "bdata": "Me4r7+jgxT85ukZisS7EP1vMkyeo0cM/bfyqz/fpwz9rZmfCqAzEP/WDEard4sM/6kgf2ewnxT/jOeWhVqDGP0Lv+ZYpyck/iArZ8oLFyz9kXs+gKRfHP8lMcJ6Nvck/25w8VzhsyT8wrdIy7BHIP+tWxQKUPck/RokJNTghyD/OGHWzZ6XDPw==",
          "dtype": "f8"
         },
         "yaxis": "y2"
        },
        {
         "hovertemplate": "Component=Vehicles<br>N=Per kilometer<br>Case=%{x}<br>Cost [EUR]=%{y}<extra></extra>",
         "legendgroup": "Vehicles",
         "marker": {
          "color": "#00cc96",
          "pattern": {
           "shape": ""
          }
         },
         "name": "Vehicles",
         "orientation": "v",
         "showlegend": false,
         "textposition": "auto",
         "type": "bar",
         "x": [
          "Baseline 2019",
          "Today 2024",
          "Future 2030",
          "100 EUR CO2",
          "200 EUR CO2",
          "500 EUR CO2",
          "750 EUR CO2",
          "1000 EUR CO2",
          "1500 EUR CO2",
          "2000 EUR CO2",
          "20% ICV",
          "50% ICV",
          "75% ICV",
          "100% ICV",
          "Electric LEZ",
          "100% Electric",
          "Cost parity"
         ],
         "xaxis": "x",
         "y": {
          "bdata": "AvjabRvQ0T8czcfiN1vSP0PArgrsn9U/Ie98dpee1T9HUbTF0sjVPyjstQa5INU/b3QPF1VZ1j/TlJ8HWtzXP7CXXUw5D9s/9RaBtBXz3D8yfUpQdI3YP9rTPbZ80Nk/1LvEnXJq1j96ZThosmPSP7qAeCcjcNg/dmsk4taE0j8IIMyCnYvVPw==",
          "dtype": "f8"
         },
         "yaxis": "y"
        },
        {
         "hovertemplate": "Component=Driver<br>N=Per parcel<br>Case=%{x}<br>Cost [EUR]=%{y}<extra></extra>",
         "legendgroup": "Driver",
         "marker": {
          "color": "#ab63fa",
          "pattern": {
           "shape": ""
          }
         },
         "name": "Driver",
         "orientation": "v",
         "showlegend": true,
         "textposition": "auto",
         "type": "bar",
         "x": [
          "Baseline 2019",
          "Today 2024",
          "Future 2030",
          "100 EUR CO2",
          "200 EUR CO2",
          "500 EUR CO2",
          "750 EUR CO2",
          "1000 EUR CO2",
          "1500 EUR CO2",
          "2000 EUR CO2",
          "20% ICV",
          "50% ICV",
          "75% ICV",
          "100% ICV",
          "Electric LEZ",
          "100% Electric",
          "Cost parity"
         ],
         "xaxis": "x2",
         "y": {
          "bdata": "90vx3LYX9T+k3a0O2bPzPwhX3s85MfI/CFfezzkx8j8jUuNR3DjyP3VD8tfDT/I/dUPy18NP8j91Q/LXw0/yP3VD8tfDT/I/kT73WWZX8j9aSO1VIUjyP8c0AV6rZvI/RvBGeo7R8j/fppEYFETzP70ILvBhq/I/+6GWmrZL8z8IV97POTHyPw==",
          "dtype": "f8"
         },
         "yaxis": "y2"
        },
        {
         "hovertemplate": "Component=Driver<br>N=Per kilometer<br>Case=%{x}<br>Cost [EUR]=%{y}<extra></extra>",
         "legendgroup": "Driver",
         "marker": {
          "color": "#ab63fa",
          "pattern": {
           "shape": ""
          }
         },
         "name": "Driver",
         "orientation": "v",
         "showlegend": false,
         "textposition": "auto",
         "type": "bar",
         "x": [
          "Baseline 2019",
          "Today 2024",
          "Future 2030",
          "100 EUR CO2",
          "200 EUR CO2",
          "500 EUR CO2",
          "750 EUR CO2",
          "1000 EUR CO2",
          "1500 EUR CO2",
          "2000 EUR CO2",
          "20% ICV",
          "50% ICV",
          "75% ICV",
          "100% ICV",
          "Electric LEZ",
          "100% Electric",
          "Cost parity"
         ],
         "xaxis": "x",
         "y": {
          "bdata": "bZ5tmUwsAUCE6+L0fOsBQNR9aLSM2QNAl/8h9RnAA0DXqyT9iswDQB58mh90dANAsetaXxxYA0Am5yEVhE8DQHs8gqNQNwNAceQzE5IeA0Br1Z8/eXADQAMhv2c0dAJAohUCLsCXAEDvvS9dMnD9PzraywJtEwJAdWEObC2e/T+cn1zGdPMDQA==",
          "dtype": "f8"
         },
         "yaxis": "y"
        }
       ],
       "layout": {
        "annotations": [
         {
          "font": {},
          "showarrow": false,
          "text": "N=Per kilometer",
          "textangle": 90,
          "x": 0.98,
          "xanchor": "left",
          "xref": "paper",
          "y": 0.2425,
          "yanchor": "middle",
          "yref": "paper"
         },
         {
          "font": {},
          "showarrow": false,
          "text": "N=Per parcel",
          "textangle": 90,
          "x": 0.98,
          "xanchor": "left",
          "xref": "paper",
          "y": 0.7575000000000001,
          "yanchor": "middle",
          "yref": "paper"
         }
        ],
        "barmode": "relative",
        "height": 300,
        "legend": {
         "title": {
          "text": "Component"
         },
         "tracegroupgap": 0
        },
        "margin": {
         "b": 0,
         "l": 0,
         "pad": 0,
         "r": 0,
         "t": 0
        },
        "template": {
         "data": {
          "bar": [
           {
            "error_x": {
             "color": "#2a3f5f"
            },
            "error_y": {
             "color": "#2a3f5f"
            },
            "marker": {
             "line": {
              "color": "#E5ECF6",
              "width": 0.5
             },
             "pattern": {
              "fillmode": "overlay",
              "size": 10,
              "solidity": 0.2
             }
            },
            "type": "bar"
           }
          ],
          "barpolar": [
           {
            "marker": {
             "line": {
              "color": "#E5ECF6",
              "width": 0.5
             },
             "pattern": {
              "fillmode": "overlay",
              "size": 10,
              "solidity": 0.2
             }
            },
            "type": "barpolar"
           }
          ],
          "carpet": [
           {
            "aaxis": {
             "endlinecolor": "#2a3f5f",
             "gridcolor": "white",
             "linecolor": "white",
             "minorgridcolor": "white",
             "startlinecolor": "#2a3f5f"
            },
            "baxis": {
             "endlinecolor": "#2a3f5f",
             "gridcolor": "white",
             "linecolor": "white",
             "minorgridcolor": "white",
             "startlinecolor": "#2a3f5f"
            },
            "type": "carpet"
           }
          ],
          "choropleth": [
           {
            "colorbar": {
             "outlinewidth": 0,
             "ticks": ""
            },
            "type": "choropleth"
           }
          ],
          "contour": [
           {
            "colorbar": {
             "outlinewidth": 0,
             "ticks": ""
            },
            "colorscale": [
             [
              0,
              "#0d0887"
             ],
             [
              0.1111111111111111,
              "#46039f"
             ],
             [
              0.2222222222222222,
              "#7201a8"
             ],
             [
              0.3333333333333333,
              "#9c179e"
             ],
             [
              0.4444444444444444,
              "#bd3786"
             ],
             [
              0.5555555555555556,
              "#d8576b"
             ],
             [
              0.6666666666666666,
              "#ed7953"
             ],
             [
              0.7777777777777778,
              "#fb9f3a"
             ],
             [
              0.8888888888888888,
              "#fdca26"
             ],
             [
              1,
              "#f0f921"
             ]
            ],
            "type": "contour"
           }
          ],
          "contourcarpet": [
           {
            "colorbar": {
             "outlinewidth": 0,
             "ticks": ""
            },
            "type": "contourcarpet"
           }
          ],
          "heatmap": [
           {
            "colorbar": {
             "outlinewidth": 0,
             "ticks": ""
            },
            "colorscale": [
             [
              0,
              "#0d0887"
             ],
             [
              0.1111111111111111,
              "#46039f"
             ],
             [
              0.2222222222222222,
              "#7201a8"
             ],
             [
              0.3333333333333333,
              "#9c179e"
             ],
             [
              0.4444444444444444,
              "#bd3786"
             ],
             [
              0.5555555555555556,
              "#d8576b"
             ],
             [
              0.6666666666666666,
              "#ed7953"
             ],
             [
              0.7777777777777778,
              "#fb9f3a"
             ],
             [
              0.8888888888888888,
              "#fdca26"
             ],
             [
              1,
              "#f0f921"
             ]
            ],
            "type": "heatmap"
           }
          ],
          "histogram": [
           {
            "marker": {
             "pattern": {
              "fillmode": "overlay",
              "size": 10,
              "solidity": 0.2
             }
            },
            "type": "histogram"
           }
          ],
          "histogram2d": [
           {
            "colorbar": {
             "outlinewidth": 0,
             "ticks": ""
            },
            "colorscale": [
             [
              0,
              "#0d0887"
             ],
             [
              0.1111111111111111,
              "#46039f"
             ],
             [
              0.2222222222222222,
              "#7201a8"
             ],
             [
              0.3333333333333333,
              "#9c179e"
             ],
             [
              0.4444444444444444,
              "#bd3786"
             ],
             [
              0.5555555555555556,
              "#d8576b"
             ],
             [
              0.6666666666666666,
              "#ed7953"
             ],
             [
              0.7777777777777778,
              "#fb9f3a"
             ],
             [
              0.8888888888888888,
              "#fdca26"
             ],
             [
              1,
              "#f0f921"
             ]
            ],
            "type": "histogram2d"
           }
          ],
          "histogram2dcontour": [
           {
            "colorbar": {
             "outlinewidth": 0,
             "ticks": ""
            },
            "colorscale": [
             [
              0,
              "#0d0887"
             ],
             [
              0.1111111111111111,
              "#46039f"
             ],
             [
              0.2222222222222222,
              "#7201a8"
             ],
             [
              0.3333333333333333,
              "#9c179e"
             ],
             [
              0.4444444444444444,
              "#bd3786"
             ],
             [
              0.5555555555555556,
              "#d8576b"
             ],
             [
              0.6666666666666666,
              "#ed7953"
             ],
             [
              0.7777777777777778,
              "#fb9f3a"
             ],
             [
              0.8888888888888888,
              "#fdca26"
             ],
             [
              1,
              "#f0f921"
             ]
            ],
            "type": "histogram2dcontour"
           }
          ],
          "mesh3d": [
           {
            "colorbar": {
             "outlinewidth": 0,
             "ticks": ""
            },
            "type": "mesh3d"
           }
          ],
          "parcoords": [
           {
            "line": {
             "colorbar": {
              "outlinewidth": 0,
              "ticks": ""
             }
            },
            "type": "parcoords"
           }
          ],
          "pie": [
           {
            "automargin": true,
            "type": "pie"
           }
          ],
          "scatter": [
           {
            "fillpattern": {
             "fillmode": "overlay",
             "size": 10,
             "solidity": 0.2
            },
            "type": "scatter"
           }
          ],
          "scatter3d": [
           {
            "line": {
             "colorbar": {
              "outlinewidth": 0,
              "ticks": ""
             }
            },
            "marker": {
             "colorbar": {
              "outlinewidth": 0,
              "ticks": ""
             }
            },
            "type": "scatter3d"
           }
          ],
          "scattercarpet": [
           {
            "marker": {
             "colorbar": {
              "outlinewidth": 0,
              "ticks": ""
             }
            },
            "type": "scattercarpet"
           }
          ],
          "scattergeo": [
           {
            "marker": {
             "colorbar": {
              "outlinewidth": 0,
              "ticks": ""
             }
            },
            "type": "scattergeo"
           }
          ],
          "scattergl": [
           {
            "marker": {
             "colorbar": {
              "outlinewidth": 0,
              "ticks": ""
             }
            },
            "type": "scattergl"
           }
          ],
          "scattermap": [
           {
            "marker": {
             "colorbar": {
              "outlinewidth": 0,
              "ticks": ""
             }
            },
            "type": "scattermap"
           }
          ],
          "scattermapbox": [
           {
            "marker": {
             "colorbar": {
              "outlinewidth": 0,
              "ticks": ""
             }
            },
            "type": "scattermapbox"
           }
          ],
          "scatterpolar": [
           {
            "marker": {
             "colorbar": {
              "outlinewidth": 0,
              "ticks": ""
             }
            },
            "type": "scatterpolar"
           }
          ],
          "scatterpolargl": [
           {
            "marker": {
             "colorbar": {
              "outlinewidth": 0,
              "ticks": ""
             }
            },
            "type": "scatterpolargl"
           }
          ],
          "scatterternary": [
           {
            "marker": {
             "colorbar": {
              "outlinewidth": 0,
              "ticks": ""
             }
            },
            "type": "scatterternary"
           }
          ],
          "surface": [
           {
            "colorbar": {
             "outlinewidth": 0,
             "ticks": ""
            },
            "colorscale": [
             [
              0,
              "#0d0887"
             ],
             [
              0.1111111111111111,
              "#46039f"
             ],
             [
              0.2222222222222222,
              "#7201a8"
             ],
             [
              0.3333333333333333,
              "#9c179e"
             ],
             [
              0.4444444444444444,
              "#bd3786"
             ],
             [
              0.5555555555555556,
              "#d8576b"
             ],
             [
              0.6666666666666666,
              "#ed7953"
             ],
             [
              0.7777777777777778,
              "#fb9f3a"
             ],
             [
              0.8888888888888888,
              "#fdca26"
             ],
             [
              1,
              "#f0f921"
             ]
            ],
            "type": "surface"
           }
          ],
          "table": [
           {
            "cells": {
             "fill": {
              "color": "#EBF0F8"
             },
             "line": {
              "color": "white"
             }
            },
            "header": {
             "fill": {
              "color": "#C8D4E3"
             },
             "line": {
              "color": "white"
             }
            },
            "type": "table"
           }
          ]
         },
         "layout": {
          "annotationdefaults": {
           "arrowcolor": "#2a3f5f",
           "arrowhead": 0,
           "arrowwidth": 1
          },
          "autotypenumbers": "strict",
          "coloraxis": {
           "colorbar": {
            "outlinewidth": 0,
            "ticks": ""
           }
          },
          "colorscale": {
           "diverging": [
            [
             0,
             "#8e0152"
            ],
            [
             0.1,
             "#c51b7d"
            ],
            [
             0.2,
             "#de77ae"
            ],
            [
             0.3,
             "#f1b6da"
            ],
            [
             0.4,
             "#fde0ef"
            ],
            [
             0.5,
             "#f7f7f7"
            ],
            [
             0.6,
             "#e6f5d0"
            ],
            [
             0.7,
             "#b8e186"
            ],
            [
             0.8,
             "#7fbc41"
            ],
            [
             0.9,
             "#4d9221"
            ],
            [
             1,
             "#276419"
            ]
           ],
           "sequential": [
            [
             0,
             "#0d0887"
            ],
            [
             0.1111111111111111,
             "#46039f"
            ],
            [
             0.2222222222222222,
             "#7201a8"
            ],
            [
             0.3333333333333333,
             "#9c179e"
            ],
            [
             0.4444444444444444,
             "#bd3786"
            ],
            [
             0.5555555555555556,
             "#d8576b"
            ],
            [
             0.6666666666666666,
             "#ed7953"
            ],
            [
             0.7777777777777778,
             "#fb9f3a"
            ],
            [
             0.8888888888888888,
             "#fdca26"
            ],
            [
             1,
             "#f0f921"
            ]
           ],
           "sequentialminus": [
            [
             0,
             "#0d0887"
            ],
            [
             0.1111111111111111,
             "#46039f"
            ],
            [
             0.2222222222222222,
             "#7201a8"
            ],
            [
             0.3333333333333333,
             "#9c179e"
            ],
            [
             0.4444444444444444,
             "#bd3786"
            ],
            [
             0.5555555555555556,
             "#d8576b"
            ],
            [
             0.6666666666666666,
             "#ed7953"
            ],
            [
             0.7777777777777778,
             "#fb9f3a"
            ],
            [
             0.8888888888888888,
             "#fdca26"
            ],
            [
             1,
             "#f0f921"
            ]
           ]
          },
          "colorway": [
           "#636efa",
           "#EF553B",
           "#00cc96",
           "#ab63fa",
           "#FFA15A",
           "#19d3f3",
           "#FF6692",
           "#B6E880",
           "#FF97FF",
           "#FECB52"
          ],
          "font": {
           "color": "#2a3f5f"
          },
          "geo": {
           "bgcolor": "white",
           "lakecolor": "white",
           "landcolor": "#E5ECF6",
           "showlakes": true,
           "showland": true,
           "subunitcolor": "white"
          },
          "hoverlabel": {
           "align": "left"
          },
          "hovermode": "closest",
          "mapbox": {
           "style": "light"
          },
          "paper_bgcolor": "white",
          "plot_bgcolor": "#E5ECF6",
          "polar": {
           "angularaxis": {
            "gridcolor": "white",
            "linecolor": "white",
            "ticks": ""
           },
           "bgcolor": "#E5ECF6",
           "radialaxis": {
            "gridcolor": "white",
            "linecolor": "white",
            "ticks": ""
           }
          },
          "scene": {
           "xaxis": {
            "backgroundcolor": "#E5ECF6",
            "gridcolor": "white",
            "gridwidth": 2,
            "linecolor": "white",
            "showbackground": true,
            "ticks": "",
            "zerolinecolor": "white"
           },
           "yaxis": {
            "backgroundcolor": "#E5ECF6",
            "gridcolor": "white",
            "gridwidth": 2,
            "linecolor": "white",
            "showbackground": true,
            "ticks": "",
            "zerolinecolor": "white"
           },
           "zaxis": {
            "backgroundcolor": "#E5ECF6",
            "gridcolor": "white",
            "gridwidth": 2,
            "linecolor": "white",
            "showbackground": true,
            "ticks": "",
            "zerolinecolor": "white"
           }
          },
          "shapedefaults": {
           "line": {
            "color": "#2a3f5f"
           }
          },
          "ternary": {
           "aaxis": {
            "gridcolor": "white",
            "linecolor": "white",
            "ticks": ""
           },
           "baxis": {
            "gridcolor": "white",
            "linecolor": "white",
            "ticks": ""
           },
           "bgcolor": "#E5ECF6",
           "caxis": {
            "gridcolor": "white",
            "linecolor": "white",
            "ticks": ""
           }
          },
          "title": {
           "x": 0.05
          },
          "xaxis": {
           "automargin": true,
           "gridcolor": "white",
           "linecolor": "white",
           "ticks": "",
           "title": {
            "standoff": 15
           },
           "zerolinecolor": "white",
           "zerolinewidth": 2
          },
          "yaxis": {
           "automargin": true,
           "gridcolor": "white",
           "linecolor": "white",
           "ticks": "",
           "title": {
            "standoff": 15
           },
           "zerolinecolor": "white",
           "zerolinewidth": 2
          }
         }
        },
        "width": 600,
        "xaxis": {
         "anchor": "y",
         "domain": [
          0,
          0.98
         ],
         "title": {}
        },
        "xaxis2": {
         "anchor": "y2",
         "domain": [
          0,
          0.98
         ],
         "matches": "x",
         "showticklabels": false
        },
        "yaxis": {
         "anchor": "x",
         "domain": [
          0,
          0.485
         ],
         "showticklabels": true,
         "title": {
          "text": "Cost [EUR]"
         }
        },
        "yaxis2": {
         "anchor": "x2",
         "domain": [
          0.515,
          1
         ],
         "showticklabels": true,
         "title": {
          "text": "Cost [EUR]"
         }
        }
       }
      }
     },
     "metadata": {},
     "output_type": "display_data"
    }
   ],
   "source": [
    "df_deliveries = df_cases.copy()\n",
    "df_deliveries[\"energy_EUR\"] /= df_deliveries[\"deliveries\"]\n",
    "df_deliveries[\"externalities_EUR\"] /= df_deliveries[\"deliveries\"]\n",
    "df_deliveries[\"vehicle_EUR\"] /= df_deliveries[\"deliveries\"]\n",
    "df_deliveries[\"driver_EUR\"] /= df_deliveries[\"deliveries\"]\n",
    "\n",
    "df_deliveries = df_deliveries.melt(\n",
    "    id_vars = [\"case\"], \n",
    "    value_vars = [\"energy_EUR\", \"externalities_EUR\", \"vehicle_EUR\", \"driver_EUR\"],\n",
    "    var_name = \"Component\", value_name = \"Cost [EUR]\"\n",
    ").rename(columns = { \"case\": \"Case\" }).assign(N = \"Per parcel\")\n",
    "\n",
    "df_distance = df_cases.copy()\n",
    "df_distance[\"energy_EUR\"] /= df_distance[\"distance\"]\n",
    "df_distance[\"externalities_EUR\"] /= df_distance[\"distance\"]\n",
    "df_distance[\"vehicle_EUR\"] /= df_distance[\"distance\"]\n",
    "df_distance[\"driver_EUR\"] /= df_distance[\"distance\"]\n",
    "\n",
    "df_distance = df_distance.melt(\n",
    "    id_vars = [\"case\"], \n",
    "    value_vars = [\"energy_EUR\", \"externalities_EUR\", \"vehicle_EUR\", \"driver_EUR\"],\n",
    "    var_name = \"Component\", value_name = \"Cost [EUR]\"\n",
    ").rename(columns = { \"case\": \"Case\" }).assign(N = \"Per kilometer\")\n",
    "\n",
    "df_plot = pd.concat([df_deliveries, df_distance])\n",
    "\n",
    "df_plot[\"Case\"] = df_plot[\"Case\"].apply(replace_name)\n",
    "df_plot[\"Case\"] = df_plot[\"Case\"].str.replace(\"\\\\\", \"\")\n",
    "\n",
    "def update_icv(x):\n",
    "    return \"{} ICV\".format(x.split(\"(\")[1].split(\")\")[0])\n",
    "f = df_plot[\"Case\"].str.startswith(\"ICV\")\n",
    "df_plot.loc[f, \"Case\"] = df_plot.loc[f, \"Case\"].apply(update_icv)\n",
    "\n",
    "def update_co2(x):\n",
    "    return \"{} CO2\".format(x.split(\"(\")[1].split(\")\")[0])\n",
    "f = df_plot[\"Case\"].str.startswith(\"Carbon\")\n",
    "df_plot.loc[f, \"Case\"] = df_plot.loc[f, \"Case\"].apply(update_co2)\n",
    "\n",
    "df_plot[\"Component\"] = df_plot[\"Component\"].replace({\n",
    "    \"energy_EUR\": \"Energy\", \"externalities_EUR\": \"Externalities\",\n",
    "    \"vehicle_EUR\": \"Vehicles\", \"driver_EUR\": \"Driver\"\n",
    "})\n",
    "\n",
    "figure = px.bar(df_plot, x = \"Case\", color = \"Component\", y = \"Cost [EUR]\", facet_row = \"N\")\n",
    "\n",
    "\n",
    "figure.update_yaxes(matches=None)\n",
    "figure.for_each_yaxis(lambda yaxis: yaxis.update(showticklabels=True))\n",
    "\n",
    "figure.update_layout(\n",
    "    width = 600, height = 300,\n",
    "    margin = dict(l = 0, r = 0, b = 0, t = 0, pad = 0)\n",
    ")\n",
    "\n",
    "figure.update_layout(xaxis_title=None)\n",
    "\n",
    "figure.write_image(figures_path / \"cost_components.pdf\")\n",
    "figure"
   ]
  }
 ],
 "metadata": {
  "kernelspec": {
   "display_name": "lead",
   "language": "python",
   "name": "python3"
  },
  "language_info": {
   "codemirror_mode": {
    "name": "ipython",
    "version": 3
   },
   "file_extension": ".py",
   "mimetype": "text/x-python",
   "name": "python",
   "nbconvert_exporter": "python",
   "pygments_lexer": "ipython3",
   "version": "3.12.7"
  }
 },
 "nbformat": 4,
 "nbformat_minor": 2
}
