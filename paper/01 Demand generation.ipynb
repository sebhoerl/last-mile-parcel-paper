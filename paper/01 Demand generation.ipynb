{
 "cells": [
  {
   "cell_type": "code",
   "execution_count": null,
   "metadata": {},
   "outputs": [],
   "source": [
    "import pandas as pd\n",
    "import geopandas as gpd\n",
    "import numpy as np\n",
    "from pathlib import Path"
   ]
  },
  {
   "cell_type": "markdown",
   "metadata": {},
   "source": [
    "### Demand generation\n",
    "\n",
    "This notebook generates information on the generated households, persons, and parcels."
   ]
  },
  {
   "cell_type": "code",
   "execution_count": null,
   "metadata": {},
   "outputs": [],
   "source": [
    "# Inputs and outputs\n",
    "resources_path = Path(\"../resources\")\n",
    "results_path = Path(\"../results\")\n",
    "tables_path = Path(\"tables\")\n",
    "\n",
    "crs = \"EPSG:2154\"\n",
    "\n",
    "years = [\"2019\", \"2024\", \"2030\"]\n",
    "demands = [\"baseline_2019\", \"today_2024\", \"future_2030\"]"
   ]
  },
  {
   "cell_type": "code",
   "execution_count": null,
   "metadata": {},
   "outputs": [],
   "source": [
    "# Load and process demand data\n",
    "df_area = gpd.read_file(resources_path / \"spatial/study_area.gpkg\").dissolve().to_crs(crs)\n",
    "df_demand = []\n",
    "\n",
    "for year, demand in zip(years, demands):\n",
    "    persons_path = resources_path / \"external/population_{}/lyon_{}_100pct_persons.csv\".format(year, year)\n",
    "    homes_path = resources_path / \"external/population_{}/lyon_{}_100pct_homes.gpkg\".format(year, year)\n",
    "    \n",
    "    df_homes = gpd.read_file(homes_path)[[\"household_id\", \"geometry\"]].to_crs(crs)\n",
    "    df_homes = gpd.sjoin(df_homes, df_area, predicate = \"within\")\n",
    "    household_ids = df_homes[\"household_id\"].unique()\n",
    "    del df_homes\n",
    "\n",
    "    df_persons = pd.read_csv(persons_path, sep = \";\", usecols = [\"household_id\"])\n",
    "    persons = np.count_nonzero(df_persons[\"household_id\"].isin(household_ids))\n",
    "    del df_persons\n",
    "\n",
    "    df_parcels = gpd.read_file(results_path / \"parcels/demand/{}.gpkg\".format(demand))\n",
    "\n",
    "    df_demand.append({\n",
    "        \"year\": year,\n",
    "        \"households\": len(household_ids),\n",
    "        \"persons\": persons,\n",
    "        \"parcels\": len(df_parcels)\n",
    "    })\n",
    "\n",
    "df_demand = pd.DataFrame.from_records(df_demand)"
   ]
  },
  {
   "cell_type": "code",
   "execution_count": null,
   "metadata": {},
   "outputs": [],
   "source": [
    "# Prepare table\n",
    "df_table = df_demand.copy()\n",
    "df_table = df_table[[\"year\", \"households\", \"parcels\"]]\n",
    "df_table.columns = [\"Year\", \"Households\", \"Parcels\"]\n",
    "df_table = df_table.style.format(thousands = \",\").hide(axis = \"index\")\n",
    "\n",
    "with open(tables_path / \"parcels.tex\", \"w+\") as f:\n",
    "    table = df_table.to_latex(\n",
    "        caption = \"Generated households and parcels by year\", label = \"tab:parcels\", hrules = True)\n",
    "    table = table.replace(\"$\\\\sum$\", \"\\\\midrule\\n$\\\\sum$\")\n",
    "    table = table.replace(\"\\\\begin{table}\", \"\\\\begin{table}\\n\\\\centering\")\n",
    "    f.write(table)\n",
    "\n",
    "df_table"
   ]
  },
  {
   "cell_type": "code",
   "execution_count": null,
   "metadata": {},
   "outputs": [],
   "source": [
    "# Prepare parcel count distributiin per household for the text\n",
    "df_counts = gpd.read_file(results_path / \"parcels/demand/today_2024.gpkg\")\n",
    "df_counts = df_counts.groupby(\"household_id\").size().reset_index(name = \"parcel_count\")\n",
    "df_counts = df_counts.groupby(\"parcel_count\").size().reset_index(name = \"households\")\n",
    "df_counts"
   ]
  }
 ],
 "metadata": {
  "kernelspec": {
   "display_name": "lead",
   "language": "python",
   "name": "python3"
  },
  "language_info": {
   "codemirror_mode": {
    "name": "ipython",
    "version": 3
   },
   "file_extension": ".py",
   "mimetype": "text/x-python",
   "name": "python",
   "nbconvert_exporter": "python",
   "pygments_lexer": "ipython3",
   "version": "3.12.1"
  }
 },
 "nbformat": 4,
 "nbformat_minor": 2
}
