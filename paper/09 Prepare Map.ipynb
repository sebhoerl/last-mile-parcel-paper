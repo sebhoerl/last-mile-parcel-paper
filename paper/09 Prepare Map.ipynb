{
 "cells": [
  {
   "cell_type": "code",
   "execution_count": 1,
   "metadata": {},
   "outputs": [],
   "source": [
    "import numpy as np\n",
    "import pandas as pd\n",
    "import geopandas as gpd\n",
    "import osmnx\n",
    "from pathlib import Path"
   ]
  },
  {
   "cell_type": "markdown",
   "metadata": {},
   "source": [
    "### Prepare map\n",
    "This notebook prepares the files to produce the maps. A QGIS project file is provided in `map`."
   ]
  },
  {
   "cell_type": "code",
   "execution_count": 2,
   "metadata": {},
   "outputs": [],
   "source": [
    "# Inputs and outputs\n",
    "resources_path = Path(\"../resources\")\n",
    "results_path = Path(\"../results\")\n",
    "\n",
    "map_path = Path(\"map\")"
   ]
  },
  {
   "cell_type": "code",
   "execution_count": 3,
   "metadata": {},
   "outputs": [],
   "source": [
    "# Prepare file containing zone geography\n",
    "df_study_area = gpd.read_file(resources_path / \"spatial/study_area.gpkg\")\n",
    "\n",
    "df_area = df_study_area[[\"geometry\"]].dissolve()\n",
    "df_area[\"name\"] = \"study_area\"\n",
    "\n",
    "df_zfe = gpd.read_file(resources_path / \"spatial/zfe.gpkg\")\n",
    "df_zfe = df_zfe[[\"geometry\"]]\n",
    "df_zfe[\"name\"] = \"zfe\"\n",
    "\n",
    "df_metropole = pd.read_csv(resources_path / \"spatial/metropole.csv\")\n",
    "df_metropole[\"municipality_id\"] = df_metropole[\"municipality_id\"].astype(str)\n",
    "df_metropole = df_study_area[df_study_area[\"INSEE_COM\"].isin(df_metropole[\"municipality_id\"])][[\n",
    "    \"geometry\"\n",
    "]].dissolve()\n",
    "df_metropole[\"name\"] = \"metropole\"\n",
    "\n",
    "df_spatial = pd.concat([\n",
    "    df_area, df_zfe, df_metropole\n",
    "])\n",
    "\n",
    "df_spatial.to_file(map_path / \"zones.gpkg\")"
   ]
  },
  {
   "cell_type": "code",
   "execution_count": 5,
   "metadata": {},
   "outputs": [],
   "source": [
    "# Prepare file providing network geometry\n",
    "network = osmnx.load_graphml(results_path / \"network/default.graphml\")\n",
    "\n",
    "df_network = osmnx.graph_to_gdfs(network, nodes = False, edges = True)\n",
    "df_network = df_network.reset_index()[[\"highway\", \"geometry\"]]\n",
    "df_network = df_network.to_crs(\"EPSG:2154\")\n",
    "df_network[\"highway\"] = df_network[\"highway\"].apply(\n",
    "    lambda x: x if type(x) == str else x[0]\n",
    ")\n",
    "df_network.to_file(map_path / \"network.gpkg\")"
   ]
  },
  {
   "cell_type": "code",
   "execution_count": 6,
   "metadata": {},
   "outputs": [],
   "source": [
    "# Generate file containing depot information\n",
    "df_counts = pd.read_parquet(results_path / \"scenario_solutions/today_2024.vehicles.parquet\")\n",
    "df_counts = df_counts[[\"operator\", \"depot\", \"deliveries\"]]\n",
    "df_counts = df_counts.rename(columns = { \"depot\": \"depot_id\" })\n",
    "df_counts[\"depot_id\"] = df_counts[\"depot_id\"].astype(str)\n",
    "df_counts = df_counts.groupby([\"depot_id\", \"operator\"])[\"deliveries\"].sum().reset_index()\n",
    "\n",
    "df_spatial = gpd.read_file(results_path / \"depots/located.gpkg\")\n",
    "df_spatial = df_spatial[[\"depot_id\", \"operator\", \"geometry\"]]\n",
    "df_spatial[\"depot_id\"] = df_spatial[\"depot_id\"].astype(str)\n",
    "df_spatial = pd.merge(df_spatial, df_counts, on = [\"depot_id\", \"operator\"])\n",
    "\n",
    "df_spatial = df_spatial.sort_values(by = \"deliveries\", ascending = False)\n",
    "df_spatial[\"rank\"] = np.arange(len(df_spatial))\n",
    "\n",
    "df_spatial[\"operator\"] = df_spatial[\"operator\"].replace({\n",
    "    \"chronopost\": \"Chronopost\",\n",
    "    \"ups\": \"UPS\",\n",
    "    \"laposte\": \"La Poste\",\n",
    "    \"dhl\": \"DHL\",\n",
    "    \"gls\": \"GLS\",\n",
    "    \"dpd\": \"DPD\",\n",
    "    \"colisprive\": \"Colis privé\"\n",
    "})\n",
    "\n",
    "df_spatial[\"count\"] = df_spatial[\"deliveries\"].apply(\"{:,d}\".format)\n",
    "\n",
    "df_spatial.to_file(map_path / \"depots.gpkg\")"
   ]
  }
 ],
 "metadata": {
  "kernelspec": {
   "display_name": "lead",
   "language": "python",
   "name": "python3"
  },
  "language_info": {
   "codemirror_mode": {
    "name": "ipython",
    "version": 3
   },
   "file_extension": ".py",
   "mimetype": "text/x-python",
   "name": "python",
   "nbconvert_exporter": "python",
   "pygments_lexer": "ipython3",
   "version": "3.12.1"
  }
 },
 "nbformat": 4,
 "nbformat_minor": 2
}
