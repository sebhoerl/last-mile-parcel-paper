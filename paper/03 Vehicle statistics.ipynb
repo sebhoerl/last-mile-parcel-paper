{
 "cells": [
  {
   "cell_type": "code",
   "execution_count": 1,
   "metadata": {},
   "outputs": [],
   "source": [
    "import pandas as pd\n",
    "import plotly.express as px\n",
    "import plotly.graph_objects as go\n",
    "import numpy as np\n",
    "import yaml\n",
    "from pathlib import Path"
   ]
  },
  {
   "cell_type": "markdown",
   "metadata": {},
   "source": [
    "### Vehicle statistics\n",
    "This notebook generates information on the investigated vehicles and vehicle types for the model"
   ]
  },
  {
   "cell_type": "code",
   "execution_count": 2,
   "metadata": {},
   "outputs": [],
   "source": [
    "# Inputs and outputs\n",
    "resources_path = Path(\"../resources\")\n",
    "results_path = Path(\"../results\")\n",
    "material_apth = Path(\"material\")\n",
    "\n",
    "figures_path = Path(\"figures\")\n",
    "tables_path = Path(\"tables\")"
   ]
  },
  {
   "cell_type": "code",
   "execution_count": 3,
   "metadata": {},
   "outputs": [
    {
     "data": {
      "text/html": [
       "<div>\n",
       "<style scoped>\n",
       "    .dataframe tbody tr th:only-of-type {\n",
       "        vertical-align: middle;\n",
       "    }\n",
       "\n",
       "    .dataframe tbody tr th {\n",
       "        vertical-align: top;\n",
       "    }\n",
       "\n",
       "    .dataframe thead th {\n",
       "        text-align: right;\n",
       "    }\n",
       "</style>\n",
       "<table border=\"1\" class=\"dataframe\">\n",
       "  <thead>\n",
       "    <tr style=\"text-align: right;\">\n",
       "      <th></th>\n",
       "      <th>Source</th>\n",
       "      <th>Link</th>\n",
       "    </tr>\n",
       "  </thead>\n",
       "  <tbody>\n",
       "    <tr>\n",
       "      <th>0</th>\n",
       "      <td>a</td>\n",
       "      <td>https://www.free2move-lease.fr/nos-offres/nos-...</td>\n",
       "    </tr>\n",
       "    <tr>\n",
       "      <th>1</th>\n",
       "      <td>b</td>\n",
       "      <td>https://professionnels.renault.fr/offres-vehic...</td>\n",
       "    </tr>\n",
       "    <tr>\n",
       "      <th>2</th>\n",
       "      <td>c</td>\n",
       "      <td>https://professionnels.renault.fr/offres-vehic...</td>\n",
       "    </tr>\n",
       "  </tbody>\n",
       "</table>\n",
       "</div>"
      ],
      "text/plain": [
       "  Source                                               Link\n",
       "0      a  https://www.free2move-lease.fr/nos-offres/nos-...\n",
       "1      b  https://professionnels.renault.fr/offres-vehic...\n",
       "2      c  https://professionnels.renault.fr/offres-vehic..."
      ]
     },
     "execution_count": 3,
     "metadata": {},
     "output_type": "execute_result"
    }
   ],
   "source": [
    "# Load source information\n",
    "df_sources = pd.read_excel(material_apth / \"Vehicles - 2024-05-02.ods\", sheet_name = \"Sources\")\n",
    "df_sources"
   ]
  },
  {
   "cell_type": "code",
   "execution_count": 4,
   "metadata": {},
   "outputs": [
    {
     "data": {
      "text/html": [
       "<div>\n",
       "<style scoped>\n",
       "    .dataframe tbody tr th:only-of-type {\n",
       "        vertical-align: middle;\n",
       "    }\n",
       "\n",
       "    .dataframe tbody tr th {\n",
       "        vertical-align: top;\n",
       "    }\n",
       "\n",
       "    .dataframe thead th {\n",
       "        text-align: right;\n",
       "    }\n",
       "</style>\n",
       "<table border=\"1\" class=\"dataframe\">\n",
       "  <thead>\n",
       "    <tr style=\"text-align: right;\">\n",
       "      <th></th>\n",
       "      <th>Source</th>\n",
       "      <th>Brand</th>\n",
       "      <th>Type</th>\n",
       "      <th>Monthly rent [EUR]</th>\n",
       "      <th>First month rent [EUR]</th>\n",
       "      <th>Duration [months]</th>\n",
       "      <th>Average monthly rent [EUR]</th>\n",
       "      <th>Volume [m3]</th>\n",
       "      <th>Engine</th>\n",
       "      <th>Fuel consumption [L/100km]</th>\n",
       "      <th>Emissions [gCO2eq/km]</th>\n",
       "      <th>Electricity consumption [Wh/km]</th>\n",
       "      <th>Consumption calculated</th>\n",
       "      <th>Battery [kWh]</th>\n",
       "      <th>Battery calculated</th>\n",
       "      <th>Range [km]</th>\n",
       "    </tr>\n",
       "  </thead>\n",
       "  <tbody>\n",
       "    <tr>\n",
       "      <th>0</th>\n",
       "      <td>a</td>\n",
       "      <td>Citroen</td>\n",
       "      <td>Jumpy</td>\n",
       "      <td>366</td>\n",
       "      <td>466</td>\n",
       "      <td>48</td>\n",
       "      <td>368.083333</td>\n",
       "      <td>3.7</td>\n",
       "      <td>T</td>\n",
       "      <td>6.2</td>\n",
       "      <td>162.0</td>\n",
       "      <td>NaN</td>\n",
       "      <td>NaN</td>\n",
       "      <td>NaN</td>\n",
       "      <td>NaN</td>\n",
       "      <td>NaN</td>\n",
       "    </tr>\n",
       "    <tr>\n",
       "      <th>1</th>\n",
       "      <td>a</td>\n",
       "      <td>Citroen</td>\n",
       "      <td>E-Berlingo</td>\n",
       "      <td>301</td>\n",
       "      <td>1036</td>\n",
       "      <td>48</td>\n",
       "      <td>316.312500</td>\n",
       "      <td>3.3</td>\n",
       "      <td>E</td>\n",
       "      <td>NaN</td>\n",
       "      <td>NaN</td>\n",
       "      <td>187.0</td>\n",
       "      <td>NaN</td>\n",
       "      <td>51.238</td>\n",
       "      <td>x</td>\n",
       "      <td>274.0</td>\n",
       "    </tr>\n",
       "    <tr>\n",
       "      <th>2</th>\n",
       "      <td>a</td>\n",
       "      <td>Citroen</td>\n",
       "      <td>Jumper</td>\n",
       "      <td>412</td>\n",
       "      <td>512</td>\n",
       "      <td>48</td>\n",
       "      <td>414.083333</td>\n",
       "      <td>11.5</td>\n",
       "      <td>T</td>\n",
       "      <td>7.8</td>\n",
       "      <td>206.0</td>\n",
       "      <td>NaN</td>\n",
       "      <td>NaN</td>\n",
       "      <td>NaN</td>\n",
       "      <td>NaN</td>\n",
       "      <td>NaN</td>\n",
       "    </tr>\n",
       "    <tr>\n",
       "      <th>3</th>\n",
       "      <td>a</td>\n",
       "      <td>Peugeot</td>\n",
       "      <td>Boxer</td>\n",
       "      <td>899</td>\n",
       "      <td>4005</td>\n",
       "      <td>48</td>\n",
       "      <td>963.708333</td>\n",
       "      <td>11.0</td>\n",
       "      <td>E</td>\n",
       "      <td>NaN</td>\n",
       "      <td>NaN</td>\n",
       "      <td>361.0</td>\n",
       "      <td>NaN</td>\n",
       "      <td>42.237</td>\n",
       "      <td>x</td>\n",
       "      <td>117.0</td>\n",
       "    </tr>\n",
       "    <tr>\n",
       "      <th>4</th>\n",
       "      <td>a</td>\n",
       "      <td>Peugeot</td>\n",
       "      <td>E-Expert</td>\n",
       "      <td>329</td>\n",
       "      <td>4510</td>\n",
       "      <td>48</td>\n",
       "      <td>416.104167</td>\n",
       "      <td>5.3</td>\n",
       "      <td>E</td>\n",
       "      <td>NaN</td>\n",
       "      <td>NaN</td>\n",
       "      <td>230.0</td>\n",
       "      <td>NaN</td>\n",
       "      <td>54.740</td>\n",
       "      <td>x</td>\n",
       "      <td>238.0</td>\n",
       "    </tr>\n",
       "  </tbody>\n",
       "</table>\n",
       "</div>"
      ],
      "text/plain": [
       "  Source    Brand        Type  Monthly rent [EUR]  First month rent [EUR]  \\\n",
       "0      a  Citroen       Jumpy                 366                     466   \n",
       "1      a  Citroen  E-Berlingo                 301                    1036   \n",
       "2      a  Citroen      Jumper                 412                     512   \n",
       "3      a  Peugeot       Boxer                 899                    4005   \n",
       "4      a  Peugeot    E-Expert                 329                    4510   \n",
       "\n",
       "   Duration [months]  Average monthly rent [EUR]  Volume [m3] Engine  \\\n",
       "0                 48                  368.083333          3.7      T   \n",
       "1                 48                  316.312500          3.3      E   \n",
       "2                 48                  414.083333         11.5      T   \n",
       "3                 48                  963.708333         11.0      E   \n",
       "4                 48                  416.104167          5.3      E   \n",
       "\n",
       "   Fuel consumption [L/100km]  Emissions [gCO2eq/km]  \\\n",
       "0                         6.2                  162.0   \n",
       "1                         NaN                    NaN   \n",
       "2                         7.8                  206.0   \n",
       "3                         NaN                    NaN   \n",
       "4                         NaN                    NaN   \n",
       "\n",
       "   Electricity consumption [Wh/km] Consumption calculated  Battery [kWh]  \\\n",
       "0                              NaN                    NaN            NaN   \n",
       "1                            187.0                    NaN         51.238   \n",
       "2                              NaN                    NaN            NaN   \n",
       "3                            361.0                    NaN         42.237   \n",
       "4                            230.0                    NaN         54.740   \n",
       "\n",
       "  Battery calculated  Range [km]  \n",
       "0                NaN         NaN  \n",
       "1                  x       274.0  \n",
       "2                NaN         NaN  \n",
       "3                  x       117.0  \n",
       "4                  x       238.0  "
      ]
     },
     "execution_count": 4,
     "metadata": {},
     "output_type": "execute_result"
    }
   ],
   "source": [
    "# Load vehicle information\n",
    "df_vehicles = pd.read_excel(material_apth / \"Vehicles - 2024-05-02.ods\", sheet_name = \"Vehicles\")\n",
    "df_vehicles.head()"
   ]
  },
  {
   "cell_type": "code",
   "execution_count": 5,
   "metadata": {},
   "outputs": [],
   "source": [
    "# Prepare table for annex\n",
    "df_table = df_vehicles.copy()\n",
    "\n",
    "column = \"Source\"\n",
    "df_table[column] = df_table[column].apply(lambda x: \"({})\".format(x))\n",
    "\n",
    "column = \"Monthly rent [EUR]\"\n",
    "df_table[column] = df_table[column].round(0).astype(int).astype(str)\n",
    "\n",
    "column = \"First month rent [EUR]\"\n",
    "df_table[column] = df_table[column].round(0).astype(int).apply(\"{:,}\".format).astype(str)\n",
    "\n",
    "column = \"Duration [months]\"\n",
    "df_table[column] = df_table[column].round(0).astype(int).astype(str)\n",
    "\n",
    "column = \"Average monthly rent [EUR]\"\n",
    "df_table[column] = df_table[column].round(0).astype(int).astype(str)\n",
    "\n",
    "column = \"Volume [m3]\"\n",
    "df_table[\"volume_sort\"] = df_table[column].copy()\n",
    "df_table[column] = df_table[column].round(1).astype(str)\n",
    "\n",
    "column = \"Engine\"\n",
    "df_table[column] = df_table[column].replace({ \"T\": \"A\", \"E\": \"B\" }) # for sorting\n",
    "\n",
    "column = \"Fuel consumption [L/100km]\"\n",
    "df_table[column] = df_table[column].round(1).fillna(\"-\").astype(str)\n",
    "\n",
    "column = \"Emissions [gCO2eq/km]\"\n",
    "df_table[column] = df_table[column].fillna(-1).astype(int).astype(str).replace({ \"-1\": \"-\" })\n",
    "\n",
    "column = \"Electricity consumption [Wh/km]\"\n",
    "df_table[column] = df_table[column].fillna(-1).astype(int).astype(str).replace({ \"-1\": \"-\" })\n",
    "\n",
    "column = \"Consumption calculated\"\n",
    "df_table[column] = df_table[column] == \"x\" # for later\n",
    "\n",
    "column = \"Battery [kWh]\"\n",
    "df_table[column] = df_table[column].apply(\"{:.2f}\".format).replace({ \"nan\": \"-\" })\n",
    "\n",
    "column = \"Battery calculated\"\n",
    "df_table[column] = df_table[column] == \"x\" # for later\n",
    "\n",
    "column = \"Range [km]\"\n",
    "df_table[column] = df_table[column].fillna(-1).astype(int).astype(str).replace({ \"-1\": \"-\" })"
   ]
  },
  {
   "cell_type": "code",
   "execution_count": 6,
   "metadata": {},
   "outputs": [],
   "source": [
    "df_table = df_table.sort_values(by = [\n",
    "    \"Engine\", \"volume_sort\", \"Brand\"\n",
    "])\n",
    "\n",
    "df_table = df_table.drop(columns = [\"Engine\", \"volume_sort\"])"
   ]
  },
  {
   "cell_type": "code",
   "execution_count": 7,
   "metadata": {},
   "outputs": [],
   "source": [
    "f = df_table[\"Battery calculated\"]\n",
    "df_table.loc[f, \"Battery [kWh]\"] += \"*\"\n",
    "df_table = df_table.drop(columns = [\"Battery calculated\"])\n",
    "\n",
    "f = df_table[\"Consumption calculated\"]\n",
    "df_table.loc[f, \"Electricity consumption [Wh/km]\"] += \"**\"\n",
    "df_table = df_table.drop(columns = [\"Consumption calculated\"])"
   ]
  },
  {
   "cell_type": "code",
   "execution_count": 8,
   "metadata": {},
   "outputs": [],
   "source": [
    "units = []\n",
    "updated_columns = []\n",
    "\n",
    "for column in df_table.columns:\n",
    "    if \"[\" in column:\n",
    "        units.append(column.split(\"[\")[1].split(\"]\")[0].strip())\n",
    "        updated_columns.append(column.split(\"[\")[0].strip())\n",
    "    else:\n",
    "        units.append(\"\")\n",
    "        updated_columns.append(column)\n",
    "\n",
    "df_table.columns = updated_columns"
   ]
  },
  {
   "cell_type": "code",
   "execution_count": 9,
   "metadata": {},
   "outputs": [],
   "source": [
    "latex = df_table.to_latex(\n",
    "    index = False, label = \"tab:appendix_vehicles\", caption = \"Collected data on long-duration contracts and vehicle types\"\n",
    ")\n",
    "\n",
    "latex = latex.replace(\"\\\\begin{table}\", \"\\\\begin{landscape}\")\n",
    "latex = latex.replace(\"\\\\end{table}\", \"\\\\end{landscape}\")\n",
    "latex = latex.replace(\"\\\\caption\", \"\\\\captionof{table}\")\n",
    "\n",
    "for column in df_table.columns:\n",
    "    update = \"\\\\makecell[c]{{{}}}\".format(column.replace(\" \", \" \\\\\\\\ \"))\n",
    "    latex = latex.replace(column, update)\n",
    "\n",
    "latex = latex.replace(\"\\\\bottomrule\", \"\"\"\n",
    "    \\\\bottomrule\n",
    "    \\\\multicolumn{10}{l}{\\\\footnotesize *Not indicated. Derived by multiplying consumption and range.} \\\\\\\\\n",
    "    \\\\multicolumn{10}{l}{\\\\footnotesize **Not indicated. Derived by dividing battery capacity by range.} \\\\\\\\\n",
    "    \\\\multicolumn{10}{l}{\\\\footnotesize Sources accessed in February 2020:} \\\\\\\\\n",
    "\"\"\" + \"\\n\".join([\n",
    "    \"\\\\multicolumn{{10}}{{l}}{{\\\\footnotesize ({}) \\\\url{{{}}}}} \\\\\\\\\".format(row[\"Source\"], row[\"Link\"])\n",
    "    for index, row in df_sources.iterrows()\n",
    "]))\n",
    "\n",
    "latex = latex.replace(\"consumption\", \"cons.\")\n",
    "latex = latex.replace(\"Electricity\", \"Elec.\")\n",
    "latex = latex.replace(\"\\\\midrule\", \"\\\\midrule \" + \" & \".join([\"\\\\footnotesize [{}]\".format(u) if len(u) > 0 else \"\" for u in units]) + \"\\\\\\\\ \\\\midrule\")\n",
    "latex = latex.replace(\"lllllllllllll\", \"lll|rrrr|r|rr|rrr\")"
   ]
  },
  {
   "cell_type": "code",
   "execution_count": 10,
   "metadata": {},
   "outputs": [],
   "source": [
    "# Write annex table\n",
    "with open(tables_path / \"appendix_vehicles.tex\", \"w+\") as f:\n",
    "    f.write(latex)"
   ]
  },
  {
   "cell_type": "code",
   "execution_count": 11,
   "metadata": {},
   "outputs": [
    {
     "data": {
      "application/vnd.plotly.v1+json": {
       "config": {
        "plotlyServerURL": "https://plot.ly"
       },
       "data": [
        {
         "hovertemplate": "Type=ICV<br>Volume [m3]=%{x}<br>Average monthly rent [EUR]=%{y}<extra></extra>",
         "legendgroup": "ICV",
         "marker": {
          "color": "#636efa",
          "symbol": "circle"
         },
         "mode": "markers",
         "name": "ICV",
         "orientation": "v",
         "showlegend": false,
         "type": "scatter",
         "x": {
          "bdata": "mpmZmZmZDUAAAAAAAAAnQGZmZmZmZgpAZmZmZmZmCkAzMzMzMzMXQAAAAAAAACJA",
          "dtype": "f8"
         },
         "xaxis": "x",
         "y": {
          "bdata": "VVVVVVUBd0BVVVVVVeF5QGZmZmZmZmpAd3d3d3cXbkBmZmZmZl5yQGZmZmZminRA",
          "dtype": "f8"
         },
         "yaxis": "y"
        },
        {
         "hovertemplate": "Type=BEV<br>Volume [m3]=%{x}<br>Average monthly rent [EUR]=%{y}<extra></extra>",
         "legendgroup": "BEV",
         "marker": {
          "color": "#EF553B",
          "symbol": "circle"
         },
         "mode": "markers",
         "name": "BEV",
         "orientation": "v",
         "showlegend": false,
         "type": "scatter",
         "x": {
          "bdata": "ZmZmZmZmCkAAAAAAAAAmQDMzMzMzMxVAZmZmZmZmEkAAAAAAAAAgQA==",
          "dtype": "f8"
         },
         "xaxis": "x",
         "y": {
          "bdata": "AAAAAADFc0Crqqqqqh2OQKuqqqqqAXpAAAAAAABwcEDe3d3d3Z2DQA==",
          "dtype": "f8"
         },
         "yaxis": "y"
        },
        {
         "hovertemplate": "Type=ICV<br>Volume [m3]=%{x}<br>Average monthly rent [EUR]=%{y}<extra></extra>",
         "legendgroup": "ICV",
         "line": {
          "color": "#636efa",
          "dash": "solid"
         },
         "marker": {
          "symbol": "circle"
         },
         "mode": "lines",
         "name": "ICV",
         "orientation": "v",
         "showlegend": true,
         "type": "scatter",
         "x": {
          "bdata": "AAAAAAAAAADWh8b60FjPP9aHxvrQWN8/4OUUvJyC5z/Wh8b60FjvP+YUvJyCl/M/4OUUvJyC9z/btm3btm37P9aHxvrQWP8/aKwPjfWhAUDmFLycgpcDQGN9aKwPjQVA4OUUvJyCB0BeTsHLKXgJQNu2bdu2bQtAWR8a60NjDUDWh8b60FgPQCp4OQUvpxBAaKwPjfWhEUCn4OUUvJwSQOYUvJyClxNAJEmSJEmSFEBjfWisD40VQKKxPjTWhxZA4OUUvJyCF0AfGutDY30YQF5OwcspeBlAnYKXU/ByGkDbtm3btm0bQBrrQ2N9aBxAWR8a60NjHUCXU/ByCl4eQNaHxvrQWB9ACl5OwcspIEAqeDkFL6cgQEmSJEmSJCFAaKwPjfWhIUCIxvrQWB8iQKfg5RS8nCJAxvrQWB8aI0DmFLycgpcjQAUvp+DlFCRAJEmSJEmSJEBEY31orA8lQGN9aKwPjSVAgpdT8HIKJkCisT401ocmQMHLKXg5BSdA4OUUvJyCJ0AAAAAAAAAoQA==",
          "dtype": "f8"
         },
         "xaxis": "x",
         "y": {
          "bdata": "AAAAAACAZkB9aKwPjfVmQPvQWB8aa2dAeDkFL6fgZ0D2obE+NFZoQHMKXk7By2hA8HIKXk5BaUBu27Zt27ZpQOtDY31oLGpAaKwPjfWhakDmFLycghdrQGN9aKwPjWtA4OUUvJwCbEBeTsHLKXhsQNu2bdu27WxAWR8a60NjbUDWh8b60NhtQFTwcgpeTm5A0VgfGuvDbkBOwcspeDlvQMwpeDkFr29AJEmSJEkScEBjfWisD01wQKKxPjTWh3BA4OUUvJzCcEAfGutDY/1wQF5OwcspOHFAnYKXU/BycUDbtm3btq1xQBrrQ2N96HFAWR8a60MjckCYU/ByCl5yQNaHxvrQmHJAFbycgpfTckBU8HIKXg5zQJIkSZIkSXNA0VgfGuuDc0AQjfWhsb5zQE7Byyl4+XNAjfWhsT40dEDMKXg5BW90QApeTsHLqXRASZIkSZLkdECIxvrQWB91QMb60FgfWnVABS+n4OWUdUBEY31orM91QIKXU/ByCnZAwcspeDlFdkAAAAAAAIB2QA==",
          "dtype": "f8"
         },
         "yaxis": "y"
        },
        {
         "hovertemplate": "Type=BEV<br>Volume [m3]=%{x}<br>Average monthly rent [EUR]=%{y}<extra></extra>",
         "legendgroup": "BEV",
         "line": {
          "color": "#EF553B",
          "dash": "solid"
         },
         "marker": {
          "symbol": "circle"
         },
         "mode": "lines",
         "name": "BEV",
         "orientation": "v",
         "showlegend": true,
         "type": "scatter",
         "x": {
          "bdata": "AAAAAAAAAADWh8b60FjPP9aHxvrQWN8/4OUUvJyC5z/Wh8b60FjvP+YUvJyCl/M/4OUUvJyC9z/btm3btm37P9aHxvrQWP8/aKwPjfWhAUDmFLycgpcDQGN9aKwPjQVA4OUUvJyCB0BeTsHLKXgJQNu2bdu2bQtAWR8a60NjDUDWh8b60FgPQCp4OQUvpxBAaKwPjfWhEUCn4OUUvJwSQOYUvJyClxNAJEmSJEmSFEBjfWisD40VQKKxPjTWhxZA4OUUvJyCF0AfGutDY30YQF5OwcspeBlAnYKXU/ByGkDbtm3btm0bQBrrQ2N9aBxAWR8a60NjHUCXU/ByCl4eQNaHxvrQWB9ACl5OwcspIEAqeDkFL6cgQEmSJEmSJCFAaKwPjfWhIUCIxvrQWB8iQKfg5RS8nCJAxvrQWB8aI0DmFLycgpcjQAUvp+DlFCRAJEmSJEmSJEBEY31orA8lQGN9aKwPjSVAgpdT8HIKJkCisT401ocmQMHLKXg5BSdA4OUUvJyCJ0AAAAAAAAAoQA==",
          "dtype": "f8"
         },
         "xaxis": "x",
         "y": {
          "bdata": "AAAAAAAAAADmFLycgpczQOYUvJyCl0NAWB8a60NjTUDmFLycgpdTQCAa60NjfVhAWB8a60NjXUBJkiRJkiRhQOYUvJyCl2NAgpdT8HIKZkAgGutDY31oQLycgpdT8GpAWB8a60NjbUD2obE+NNZvQEmSJEmSJHFAmFPwcgpeckDmFLycgpdzQDTWh8b60HRAgpdT8HIKdkDRWB8a60N3QCAa60NjfXhAbdu2bdu2eUC8nIKXU/B6QApeTsHLKXxAWB8a60NjfUCn4OUUvJx+QPahsT401n9AorE+NNaHgEBJkiRJkiSBQPByCl5OwYFAmFPwcgpegkA+NNaHxvqCQOYUvJyCl4NAjPWhsT40hEA01ofG+tCEQNu2bdu2bYVAgpdT8HIKhkAqeDkFL6eGQNFYHxrrQ4dAeDkFL6fgh0AgGutDY32IQMb60FgfGolAbdu2bdu2iUAVvJyCl1OKQLycgpdT8IpAYn1orA+Ni0AKXk7ByymMQLE+NNaHxoxAWB8a60NjjUAAAAAAAACOQA==",
          "dtype": "f8"
         },
         "yaxis": "y"
        }
       ],
       "layout": {
        "height": 200,
        "margin": {
         "b": 0,
         "l": 0,
         "pad": 0,
         "r": 0,
         "t": 0
        },
        "template": {
         "data": {
          "bar": [
           {
            "error_x": {
             "color": "#2a3f5f"
            },
            "error_y": {
             "color": "#2a3f5f"
            },
            "marker": {
             "line": {
              "color": "#E5ECF6",
              "width": 0.5
             },
             "pattern": {
              "fillmode": "overlay",
              "size": 10,
              "solidity": 0.2
             }
            },
            "type": "bar"
           }
          ],
          "barpolar": [
           {
            "marker": {
             "line": {
              "color": "#E5ECF6",
              "width": 0.5
             },
             "pattern": {
              "fillmode": "overlay",
              "size": 10,
              "solidity": 0.2
             }
            },
            "type": "barpolar"
           }
          ],
          "carpet": [
           {
            "aaxis": {
             "endlinecolor": "#2a3f5f",
             "gridcolor": "white",
             "linecolor": "white",
             "minorgridcolor": "white",
             "startlinecolor": "#2a3f5f"
            },
            "baxis": {
             "endlinecolor": "#2a3f5f",
             "gridcolor": "white",
             "linecolor": "white",
             "minorgridcolor": "white",
             "startlinecolor": "#2a3f5f"
            },
            "type": "carpet"
           }
          ],
          "choropleth": [
           {
            "colorbar": {
             "outlinewidth": 0,
             "ticks": ""
            },
            "type": "choropleth"
           }
          ],
          "contour": [
           {
            "colorbar": {
             "outlinewidth": 0,
             "ticks": ""
            },
            "colorscale": [
             [
              0,
              "#0d0887"
             ],
             [
              0.1111111111111111,
              "#46039f"
             ],
             [
              0.2222222222222222,
              "#7201a8"
             ],
             [
              0.3333333333333333,
              "#9c179e"
             ],
             [
              0.4444444444444444,
              "#bd3786"
             ],
             [
              0.5555555555555556,
              "#d8576b"
             ],
             [
              0.6666666666666666,
              "#ed7953"
             ],
             [
              0.7777777777777778,
              "#fb9f3a"
             ],
             [
              0.8888888888888888,
              "#fdca26"
             ],
             [
              1,
              "#f0f921"
             ]
            ],
            "type": "contour"
           }
          ],
          "contourcarpet": [
           {
            "colorbar": {
             "outlinewidth": 0,
             "ticks": ""
            },
            "type": "contourcarpet"
           }
          ],
          "heatmap": [
           {
            "colorbar": {
             "outlinewidth": 0,
             "ticks": ""
            },
            "colorscale": [
             [
              0,
              "#0d0887"
             ],
             [
              0.1111111111111111,
              "#46039f"
             ],
             [
              0.2222222222222222,
              "#7201a8"
             ],
             [
              0.3333333333333333,
              "#9c179e"
             ],
             [
              0.4444444444444444,
              "#bd3786"
             ],
             [
              0.5555555555555556,
              "#d8576b"
             ],
             [
              0.6666666666666666,
              "#ed7953"
             ],
             [
              0.7777777777777778,
              "#fb9f3a"
             ],
             [
              0.8888888888888888,
              "#fdca26"
             ],
             [
              1,
              "#f0f921"
             ]
            ],
            "type": "heatmap"
           }
          ],
          "histogram": [
           {
            "marker": {
             "pattern": {
              "fillmode": "overlay",
              "size": 10,
              "solidity": 0.2
             }
            },
            "type": "histogram"
           }
          ],
          "histogram2d": [
           {
            "colorbar": {
             "outlinewidth": 0,
             "ticks": ""
            },
            "colorscale": [
             [
              0,
              "#0d0887"
             ],
             [
              0.1111111111111111,
              "#46039f"
             ],
             [
              0.2222222222222222,
              "#7201a8"
             ],
             [
              0.3333333333333333,
              "#9c179e"
             ],
             [
              0.4444444444444444,
              "#bd3786"
             ],
             [
              0.5555555555555556,
              "#d8576b"
             ],
             [
              0.6666666666666666,
              "#ed7953"
             ],
             [
              0.7777777777777778,
              "#fb9f3a"
             ],
             [
              0.8888888888888888,
              "#fdca26"
             ],
             [
              1,
              "#f0f921"
             ]
            ],
            "type": "histogram2d"
           }
          ],
          "histogram2dcontour": [
           {
            "colorbar": {
             "outlinewidth": 0,
             "ticks": ""
            },
            "colorscale": [
             [
              0,
              "#0d0887"
             ],
             [
              0.1111111111111111,
              "#46039f"
             ],
             [
              0.2222222222222222,
              "#7201a8"
             ],
             [
              0.3333333333333333,
              "#9c179e"
             ],
             [
              0.4444444444444444,
              "#bd3786"
             ],
             [
              0.5555555555555556,
              "#d8576b"
             ],
             [
              0.6666666666666666,
              "#ed7953"
             ],
             [
              0.7777777777777778,
              "#fb9f3a"
             ],
             [
              0.8888888888888888,
              "#fdca26"
             ],
             [
              1,
              "#f0f921"
             ]
            ],
            "type": "histogram2dcontour"
           }
          ],
          "mesh3d": [
           {
            "colorbar": {
             "outlinewidth": 0,
             "ticks": ""
            },
            "type": "mesh3d"
           }
          ],
          "parcoords": [
           {
            "line": {
             "colorbar": {
              "outlinewidth": 0,
              "ticks": ""
             }
            },
            "type": "parcoords"
           }
          ],
          "pie": [
           {
            "automargin": true,
            "type": "pie"
           }
          ],
          "scatter": [
           {
            "fillpattern": {
             "fillmode": "overlay",
             "size": 10,
             "solidity": 0.2
            },
            "type": "scatter"
           }
          ],
          "scatter3d": [
           {
            "line": {
             "colorbar": {
              "outlinewidth": 0,
              "ticks": ""
             }
            },
            "marker": {
             "colorbar": {
              "outlinewidth": 0,
              "ticks": ""
             }
            },
            "type": "scatter3d"
           }
          ],
          "scattercarpet": [
           {
            "marker": {
             "colorbar": {
              "outlinewidth": 0,
              "ticks": ""
             }
            },
            "type": "scattercarpet"
           }
          ],
          "scattergeo": [
           {
            "marker": {
             "colorbar": {
              "outlinewidth": 0,
              "ticks": ""
             }
            },
            "type": "scattergeo"
           }
          ],
          "scattergl": [
           {
            "marker": {
             "colorbar": {
              "outlinewidth": 0,
              "ticks": ""
             }
            },
            "type": "scattergl"
           }
          ],
          "scattermap": [
           {
            "marker": {
             "colorbar": {
              "outlinewidth": 0,
              "ticks": ""
             }
            },
            "type": "scattermap"
           }
          ],
          "scattermapbox": [
           {
            "marker": {
             "colorbar": {
              "outlinewidth": 0,
              "ticks": ""
             }
            },
            "type": "scattermapbox"
           }
          ],
          "scatterpolar": [
           {
            "marker": {
             "colorbar": {
              "outlinewidth": 0,
              "ticks": ""
             }
            },
            "type": "scatterpolar"
           }
          ],
          "scatterpolargl": [
           {
            "marker": {
             "colorbar": {
              "outlinewidth": 0,
              "ticks": ""
             }
            },
            "type": "scatterpolargl"
           }
          ],
          "scatterternary": [
           {
            "marker": {
             "colorbar": {
              "outlinewidth": 0,
              "ticks": ""
             }
            },
            "type": "scatterternary"
           }
          ],
          "surface": [
           {
            "colorbar": {
             "outlinewidth": 0,
             "ticks": ""
            },
            "colorscale": [
             [
              0,
              "#0d0887"
             ],
             [
              0.1111111111111111,
              "#46039f"
             ],
             [
              0.2222222222222222,
              "#7201a8"
             ],
             [
              0.3333333333333333,
              "#9c179e"
             ],
             [
              0.4444444444444444,
              "#bd3786"
             ],
             [
              0.5555555555555556,
              "#d8576b"
             ],
             [
              0.6666666666666666,
              "#ed7953"
             ],
             [
              0.7777777777777778,
              "#fb9f3a"
             ],
             [
              0.8888888888888888,
              "#fdca26"
             ],
             [
              1,
              "#f0f921"
             ]
            ],
            "type": "surface"
           }
          ],
          "table": [
           {
            "cells": {
             "fill": {
              "color": "#EBF0F8"
             },
             "line": {
              "color": "white"
             }
            },
            "header": {
             "fill": {
              "color": "#C8D4E3"
             },
             "line": {
              "color": "white"
             }
            },
            "type": "table"
           }
          ]
         },
         "layout": {
          "annotationdefaults": {
           "arrowcolor": "#2a3f5f",
           "arrowhead": 0,
           "arrowwidth": 1
          },
          "autotypenumbers": "strict",
          "coloraxis": {
           "colorbar": {
            "outlinewidth": 0,
            "ticks": ""
           }
          },
          "colorscale": {
           "diverging": [
            [
             0,
             "#8e0152"
            ],
            [
             0.1,
             "#c51b7d"
            ],
            [
             0.2,
             "#de77ae"
            ],
            [
             0.3,
             "#f1b6da"
            ],
            [
             0.4,
             "#fde0ef"
            ],
            [
             0.5,
             "#f7f7f7"
            ],
            [
             0.6,
             "#e6f5d0"
            ],
            [
             0.7,
             "#b8e186"
            ],
            [
             0.8,
             "#7fbc41"
            ],
            [
             0.9,
             "#4d9221"
            ],
            [
             1,
             "#276419"
            ]
           ],
           "sequential": [
            [
             0,
             "#0d0887"
            ],
            [
             0.1111111111111111,
             "#46039f"
            ],
            [
             0.2222222222222222,
             "#7201a8"
            ],
            [
             0.3333333333333333,
             "#9c179e"
            ],
            [
             0.4444444444444444,
             "#bd3786"
            ],
            [
             0.5555555555555556,
             "#d8576b"
            ],
            [
             0.6666666666666666,
             "#ed7953"
            ],
            [
             0.7777777777777778,
             "#fb9f3a"
            ],
            [
             0.8888888888888888,
             "#fdca26"
            ],
            [
             1,
             "#f0f921"
            ]
           ],
           "sequentialminus": [
            [
             0,
             "#0d0887"
            ],
            [
             0.1111111111111111,
             "#46039f"
            ],
            [
             0.2222222222222222,
             "#7201a8"
            ],
            [
             0.3333333333333333,
             "#9c179e"
            ],
            [
             0.4444444444444444,
             "#bd3786"
            ],
            [
             0.5555555555555556,
             "#d8576b"
            ],
            [
             0.6666666666666666,
             "#ed7953"
            ],
            [
             0.7777777777777778,
             "#fb9f3a"
            ],
            [
             0.8888888888888888,
             "#fdca26"
            ],
            [
             1,
             "#f0f921"
            ]
           ]
          },
          "colorway": [
           "#636efa",
           "#EF553B",
           "#00cc96",
           "#ab63fa",
           "#FFA15A",
           "#19d3f3",
           "#FF6692",
           "#B6E880",
           "#FF97FF",
           "#FECB52"
          ],
          "font": {
           "color": "#2a3f5f"
          },
          "geo": {
           "bgcolor": "white",
           "lakecolor": "white",
           "landcolor": "#E5ECF6",
           "showlakes": true,
           "showland": true,
           "subunitcolor": "white"
          },
          "hoverlabel": {
           "align": "left"
          },
          "hovermode": "closest",
          "mapbox": {
           "style": "light"
          },
          "paper_bgcolor": "white",
          "plot_bgcolor": "#E5ECF6",
          "polar": {
           "angularaxis": {
            "gridcolor": "white",
            "linecolor": "white",
            "ticks": ""
           },
           "bgcolor": "#E5ECF6",
           "radialaxis": {
            "gridcolor": "white",
            "linecolor": "white",
            "ticks": ""
           }
          },
          "scene": {
           "xaxis": {
            "backgroundcolor": "#E5ECF6",
            "gridcolor": "white",
            "gridwidth": 2,
            "linecolor": "white",
            "showbackground": true,
            "ticks": "",
            "zerolinecolor": "white"
           },
           "yaxis": {
            "backgroundcolor": "#E5ECF6",
            "gridcolor": "white",
            "gridwidth": 2,
            "linecolor": "white",
            "showbackground": true,
            "ticks": "",
            "zerolinecolor": "white"
           },
           "zaxis": {
            "backgroundcolor": "#E5ECF6",
            "gridcolor": "white",
            "gridwidth": 2,
            "linecolor": "white",
            "showbackground": true,
            "ticks": "",
            "zerolinecolor": "white"
           }
          },
          "shapedefaults": {
           "line": {
            "color": "#2a3f5f"
           }
          },
          "ternary": {
           "aaxis": {
            "gridcolor": "white",
            "linecolor": "white",
            "ticks": ""
           },
           "baxis": {
            "gridcolor": "white",
            "linecolor": "white",
            "ticks": ""
           },
           "bgcolor": "#E5ECF6",
           "caxis": {
            "gridcolor": "white",
            "linecolor": "white",
            "ticks": ""
           }
          },
          "title": {
           "x": 0.05
          },
          "xaxis": {
           "automargin": true,
           "gridcolor": "white",
           "linecolor": "white",
           "ticks": "",
           "title": {
            "standoff": 15
           },
           "zerolinecolor": "white",
           "zerolinewidth": 2
          },
          "yaxis": {
           "automargin": true,
           "gridcolor": "white",
           "linecolor": "white",
           "ticks": "",
           "title": {
            "standoff": 15
           },
           "zerolinecolor": "white",
           "zerolinewidth": 2
          }
         }
        },
        "width": 600,
        "xaxis": {
         "title": {
          "text": "Volume [m3]"
         }
        },
        "yaxis": {
         "title": {
          "text": "Monthly rent [EUR]"
         }
        }
       }
      }
     },
     "metadata": {},
     "output_type": "display_data"
    }
   ],
   "source": [
    "# Plot costs by engine type\n",
    "df_plot = df_vehicles.copy()\n",
    "df_plot[\"Type\"] = df_plot[\"Engine\"]\n",
    "df_plot[\"Type\"] = df_plot[\"Type\"].replace({ \"T\": \"ICV\", \"E\": \"BEV\" })\n",
    "\n",
    "scatter_plot = px.scatter(\n",
    "    df_plot, x = \"Volume [m3]\", y = \"Average monthly rent [EUR]\", color = \"Type\"\n",
    ")\n",
    "\n",
    "df_electric = pd.DataFrame({\n",
    "    \"Volume [m3]\": np.linspace(0, 12),\n",
    "    \"Average monthly rent [EUR]\": 0.0 + np.linspace(0, 12) * 80\n",
    "})\n",
    "df_electric[\"Type\"] = \"BEV\"\n",
    "\n",
    "df_thermic = pd.DataFrame({\n",
    "    \"Volume [m3]\": np.linspace(0, 12),\n",
    "    \"Average monthly rent [EUR]\": 180.0 + np.linspace(0, 12) * 15\n",
    "})\n",
    "df_thermic[\"Type\"] = \"ICV\"\n",
    "\n",
    "df_line = pd.concat([df_thermic, df_electric])\n",
    "line_plot = px.line(df_line, x = \"Volume [m3]\", y = \"Average monthly rent [EUR]\", color = \"Type\")\n",
    "\n",
    "figure = go.Figure(data = scatter_plot.data + line_plot.data)\n",
    "\n",
    "figure.update_traces(selector = 0, showlegend = False)\n",
    "figure.update_traces(selector = 1, showlegend = False)\n",
    "\n",
    "figure.update_layout(\n",
    "    width = 600,\n",
    "    height = 200,\n",
    "    margin=dict(\n",
    "        l = 0,\n",
    "        r = 0,\n",
    "        b = 0,\n",
    "        t = 0,\n",
    "        pad = 0\n",
    "    ),\n",
    "    xaxis_title = \"Volume [m3]\",\n",
    "    yaxis_title = \"Monthly rent [EUR]\"\n",
    ")\n",
    "\n",
    "figure.write_image(figures_path / \"costs_by_engine.pdf\")\n",
    "figure"
   ]
  },
  {
   "cell_type": "code",
   "execution_count": 12,
   "metadata": {},
   "outputs": [],
   "source": [
    "# Preapre table for model vehicle types\n",
    "with open(resources_path / \"vehicle_types.yml\") as f:\n",
    "    data = yaml.load(f, yaml.FullLoader)[\"vehicle_types\"]\n",
    "\n",
    "for vt in data.values():\n",
    "    for key in vt[\"consumption\"].keys():\n",
    "        vt[key] = vt[\"consumption\"][key]\n",
    "\n",
    "    del vt[\"consumption\"]\n",
    "    \n",
    "    if \"externalities\" in vt:\n",
    "        for key in vt[\"externalities\"].keys():\n",
    "            vt[key] = vt[\"externalities\"][key]\n",
    "\n",
    "        del vt[\"externalities\"]\n",
    "\n",
    "df_stereo = pd.DataFrame.from_dict(data).T\n",
    "df_stereo[\"electric\"] = df_stereo[\"electric\"].fillna(False).astype(bool)\n",
    "\n",
    "fuel_cost_EUR_L = 1.8\n",
    "df_stereo[\"distance_cost_EUR_100km\"] = df_stereo[\"fuel_L_per_100km\"].fillna(0.0) * fuel_cost_EUR_L\n",
    "\n",
    "electricity_cost_EUR_Wh = 0.28 * 1e-3\n",
    "df_stereo[\"distance_cost_EUR_100km\"] += 1e2 * df_stereo[\"electricity_Wh_per_km\"].fillna(0.0) * electricity_cost_EUR_Wh\n",
    "\n",
    "electricity_emissions_gCO2eq_kWh = 90\n",
    "f = df_stereo[\"co2eq_g_per_km\"].isna()\n",
    "df_stereo.loc[f, \"co2eq_g_per_km\"] = df_stereo.loc[f, \"electricity_Wh_per_km\"] * 1e-3 * electricity_emissions_gCO2eq_kWh\n",
    "\n",
    "df_stereo[\"capacity\"] = df_stereo[\"capacity\"].astype(int).astype(str)\n",
    "df_stereo[\"cost_EUR_per_month\"] = df_stereo[\"cost_EUR_per_month\"].astype(int).astype(str)\n",
    "df_stereo[\"fuel_L_per_100km\"] = df_stereo[\"fuel_L_per_100km\"].fillna(-1).astype(int).astype(str).replace({ \"-1\": \"-\" })\n",
    "df_stereo[\"electricity_Wh_per_km\"] = df_stereo[\"electricity_Wh_per_km\"].fillna(-1).astype(int).astype(str).replace({ \"-1\": \"-\" })\n",
    "df_stereo[\"maximum_distance_km\"] = df_stereo[\"maximum_distance_km\"].fillna(-1).astype(int).astype(str).replace({ \"-1\": \"-\" })\n",
    "df_stereo[\"co2eq_g_per_km\"] = df_stereo[\"co2eq_g_per_km\"].apply(\"{:.2f}\".format).astype(str)\n",
    "df_stereo[\"distance_cost_EUR_100km\"] = df_stereo[\"distance_cost_EUR_100km\"].apply(\"{:.2f}\".format).astype(str)\n",
    "\n",
    "df_stereo.loc[df_stereo[\"electric\"], \"co2eq_g_per_km\"] += \"*\"\n",
    "df_stereo.loc[~df_stereo[\"electric\"], \"distance_cost_EUR_100km\"] += \"**\"\n",
    "df_stereo.loc[df_stereo[\"electric\"], \"distance_cost_EUR_100km\"] += \"***\"\n",
    "\n",
    "df_stereo = df_stereo.T\n",
    "\n",
    "df_stereo = df_stereo.loc[[\n",
    "    \"capacity\", \"cost_EUR_per_month\", \"fuel_L_per_100km\", \"electricity_Wh_per_km\",\n",
    "    \"maximum_distance_km\", \"co2eq_g_per_km\", \"distance_cost_EUR_100km\", \"electric\"\n",
    "]]\n",
    "\n",
    "df_stereo.columns = [\n",
    "    c.replace(\"small_\", \"Small \").replace(\"medium_\", \"Medium \").replace(\"large_\", \"Large \").replace(\"thermic\", \"ICV\").replace(\"electric\", \"BEV\")\n",
    "    for c in df_stereo.columns]\n",
    "\n",
    "df_stereo = df_stereo[df_stereo.index != \"electric\"]\n",
    "\n",
    "names = {\n",
    "    \"capacity\": \"Capacity\",\n",
    "    \"cost_EUR_per_month\": \"Monthly cost [EUR]\",\n",
    "    \"fuel_L_per_100km\": \"Fuel cons. [L/100km]\",\n",
    "    \"electricity_Wh_per_km\": \"Elec. cons. [Wh/km]\",\n",
    "    \"maximum_distance_km\": \"Range [km]\",\n",
    "    \"co2eq_g_per_km\": \"Emissions [gCO2eq/km]\",\n",
    "    \"distance_cost_EUR_100km\": \"Fuel cost [EUR/100km]\",\n",
    "}\n",
    "\n",
    "df_stereo.index = [names[item] if item in names else item for item in df_stereo.index]\n",
    "\n",
    "df_stereo.columns = [\"\\\\makecell{{{}}}\".format(c.replace(\" \", \"\\\\\\\\\")) for c in df_stereo.columns]\n",
    "\n",
    "latex = df_stereo.to_latex(\n",
    "    label = \"tab:stereo_vehicles\", caption = \"Vehicle types used in the simulation\"\n",
    ")\n",
    "\n",
    "latex = latex.replace(\"\\\\begin{table}\", \"\\\\begin{table}\\n\\\\centering\")\n",
    "latex = latex.replace(\"Emissions\", \"\\\\midrule\\nEmissions\")\n",
    "latex = latex.replace(\"Fuel\", \"\\\\midrule\\nFuel\")\n",
    "\n",
    "latex = latex.replace(\"\\\\bottomrule\", \"\"\"\n",
    "    \\\\bottomrule\n",
    "    \\\\multicolumn{7}{l}{\\\\footnotesize *Based on 90gCO2eq/kWh.} \\\\\\\\\n",
    "    \\\\multicolumn{7}{l}{\\\\footnotesize **Based on 1.80 EUR/L.} \\\\\\\\\n",
    "    \\\\multicolumn{7}{l}{\\\\footnotesize ***Based on 28 ct/kWh.} \\\\\\\\\n",
    "\"\"\")\n",
    "\n",
    "latex = latex.replace(\"lllllll\", \"lrrrrrr\")\n",
    "\n",
    "with open(tables_path / \"stereo_vehicles.tex\", \"w+\") as f:\n",
    "    f.write(latex)"
   ]
  },
  {
   "cell_type": "code",
   "execution_count": 13,
   "metadata": {},
   "outputs": [
    {
     "data": {
      "application/vnd.plotly.v1+json": {
       "config": {
        "plotlyServerURL": "https://plot.ly"
       },
       "data": [
        {
         "hovertemplate": "Type=ICV<br>Size=Small<br>Daily distance [km]=%{x}<br>Daily cost [EUR]=%{y}<extra></extra>",
         "legendgroup": "ICV",
         "line": {
          "color": "#636efa",
          "dash": "solid"
         },
         "marker": {
          "symbol": "circle"
         },
         "mode": "lines",
         "name": "ICV",
         "orientation": "v",
         "showlegend": true,
         "type": "scatter",
         "x": {
          "bdata": "AAAAAAAAAAAVvJyCl1MQQBW8nIKXUyBAIBrrQ2N9KEAVvJyCl1MwQBrrQ2N9aDRAIBrrQ2N9OEAlSZIkSZI8QBW8nIKXU0BAmFPwcgpeQkAa60NjfWhEQJ2Cl1PwckZAIBrrQ2N9SECisT401odKQCVJkiRJkkxAp+DlFLycTkAVvJyCl1NQQNaHxvrQWFFAmFPwcgpeUkBZHxrrQ2NTQBrrQ2N9aFRA3LZt27ZtVUCdgpdT8HJWQF5OwcspeFdAIBrrQ2N9WEDh5RS8nIJZQKKxPjTWh1pAY31orA+NW0AlSZIkSZJcQOYUvJyCl11Ap+DlFLycXkBprA+N9aFfQBW8nIKXU2BA9qGxPjTWYEDWh8b60FhhQLdt27Zt22FAmFPwcgpeYkB4OQUvp+BiQFkfGutDY2NAOgUvp+DlY0Aa60NjfWhkQPvQWB8a62RA3LZt27ZtZUC8nIKXU/BlQJ2Cl1PwcmZAfmisD431ZkBeTsHLKXhnQD801ofG+mdAIBrrQ2N9aEAAAAAAAABpQA==",
          "dtype": "f8"
         },
         "xaxis": "x",
         "y": {
          "bdata": "F1100UUXI0BGBFW3WtMjQHWrNZ1vjyRApFIWg4RLJUDT+fZomQcmQAKh106uwyZAMUi4NMN/J0Bg75ga2DsoQI+WeQDt9yhAvj1a5gG0KUDt5DrMFnAqQByMG7IrLCtATDP8l0DoK0B62tx9VaQsQKqBvWNqYC1A2CieSX8cLkAI0H4vlNguQDZ3XxWplC9AMw+g/V4oMEDKYpBwaYYwQGK2gONz5DBA+glxVn5CMUCRXWHJiKAxQCixUTyT/jFAwARCr51cMkBYWDIiqLoyQO+rIpWyGDNAhv8SCL12M0AeUwN7x9QzQLWm8+3RMjRATfrjYNyQNEDkTdTT5u40QHyhxEbxTDVAFPW0ufuqNUCrSKUsBgk2QEKclZ8QZzZA2u+FEhvFNkByQ3aFJSM3QAmXZvgvgTdAoOpWazrfN0A4PkfeRD04QNCRN1FPmzhAaOUnxFn5OED/OBg3ZFc5QJaMCKputTlALuD4HHkTOkDGM+mPg3E6QFyH2QKOzzpA9NrJdZgtO0CMLrrooos7QA==",
          "dtype": "f8"
         },
         "yaxis": "y"
        },
        {
         "hovertemplate": "Type=ICV<br>Size=Medium<br>Daily distance [km]=%{x}<br>Daily cost [EUR]=%{y}<extra></extra>",
         "legendgroup": "ICV",
         "line": {
          "color": "#636efa",
          "dash": "solid"
         },
         "marker": {
          "symbol": "circle"
         },
         "mode": "lines",
         "name": "ICV",
         "orientation": "v",
         "showlegend": false,
         "type": "scatter",
         "x": {
          "bdata": "AAAAAAAAAAAVvJyCl1MQQBW8nIKXUyBAIBrrQ2N9KEAVvJyCl1MwQBrrQ2N9aDRAIBrrQ2N9OEAlSZIkSZI8QBW8nIKXU0BAmFPwcgpeQkAa60NjfWhEQJ2Cl1PwckZAIBrrQ2N9SECisT401odKQCVJkiRJkkxAp+DlFLycTkAVvJyCl1NQQNaHxvrQWFFAmFPwcgpeUkBZHxrrQ2NTQBrrQ2N9aFRA3LZt27ZtVUCdgpdT8HJWQF5OwcspeFdAIBrrQ2N9WEDh5RS8nIJZQKKxPjTWh1pAY31orA+NW0AlSZIkSZJcQOYUvJyCl11Ap+DlFLycXkBprA+N9aFfQBW8nIKXU2BA9qGxPjTWYEDWh8b60FhhQLdt27Zt22FAmFPwcgpeYkB4OQUvp+BiQFkfGutDY2NAOgUvp+DlY0Aa60NjfWhkQPvQWB8a62RA3LZt27ZtZUC8nIKXU/BlQJ2Cl1PwcmZAfmisD431ZkBeTsHLKXhnQD801ofG+mdAIBrrQ2N9aEAAAAAAAABpQA==",
          "dtype": "f8"
         },
         "xaxis": "x2",
         "y": {
          "bdata": "o4suuuiiJ0B1h6Jnm4QoQEeDFhVOZilAGX+KwgBIKkDrev5vsykrQL12ch1mCyxAkHLmyhjtLEBiblp4y84tQDNqziV+sC5ABmZC0zCSL0DsMFvA8TkwQNUuFRfLqjBAvizPbaQbMUCnKonEfYwxQJAoQxtX/TFAeSb9cTBuMkBiJLfICd8yQEsicR/jTzNANCArdrzAM0AdHuXMlTE0QAYcnyNvojRA8BlZekgTNUDYFxPRIYQ1QMEVzSf79DVAqhOHftRlNkCUEUHVrdY2QHwP+yuHRzdAZQ21gmC4N0BOC2/ZOSk4QDgJKTATmjhAIAfjhuwKOUAKBZ3dxXs5QPICVzSf7DlA3AARi3hdOkDE/srhUc46QK38hDgrPztAlvo+jwSwO0CA+Pjl3SA8QGj2sjy3kTxAUvRsk5ACPUA68ibqaXM9QCTw4EBD5D1ADu6alxxVPkD261Tu9cU+QODpDkXPNj9AyOfIm6inP0DYckH5QAxAQM1xnqStREBAwnD7Txp9QEC2b1j7hrVAQA==",
          "dtype": "f8"
         },
         "yaxis": "y2"
        },
        {
         "hovertemplate": "Type=ICV<br>Size=Large<br>Daily distance [km]=%{x}<br>Daily cost [EUR]=%{y}<extra></extra>",
         "legendgroup": "ICV",
         "line": {
          "color": "#636efa",
          "dash": "solid"
         },
         "marker": {
          "symbol": "circle"
         },
         "mode": "lines",
         "name": "ICV",
         "orientation": "v",
         "showlegend": false,
         "type": "scatter",
         "x": {
          "bdata": "AAAAAAAAAAAVvJyCl1MQQBW8nIKXUyBAIBrrQ2N9KEAVvJyCl1MwQBrrQ2N9aDRAIBrrQ2N9OEAlSZIkSZI8QBW8nIKXU0BAmFPwcgpeQkAa60NjfWhEQJ2Cl1PwckZAIBrrQ2N9SECisT401odKQCVJkiRJkkxAp+DlFLycTkAVvJyCl1NQQNaHxvrQWFFAmFPwcgpeUkBZHxrrQ2NTQBrrQ2N9aFRA3LZt27ZtVUCdgpdT8HJWQF5OwcspeFdAIBrrQ2N9WEDh5RS8nIJZQKKxPjTWh1pAY31orA+NW0AlSZIkSZJcQOYUvJyCl11Ap+DlFLycXkBprA+N9aFfQBW8nIKXU2BA9qGxPjTWYEDWh8b60FhhQLdt27Zt22FAmFPwcgpeYkB4OQUvp+BiQFkfGutDY2NAOgUvp+DlY0Aa60NjfWhkQPvQWB8a62RA3LZt27ZtZUC8nIKXU/BlQJ2Cl1PwcmZAfmisD431ZkBeTsHLKXhnQD801ofG+mdAIBrrQ2N9aEAAAAAAAABpQA==",
          "dtype": "f8"
         },
         "xaxis": "x3",
         "y": {
          "bdata": "0UUXXXTRMEBdmGR762cxQOnqsZli/jFAdT3/t9mUMkABkEzWUCszQI3imfTHwTNAGTXnEj9YNEClhzQxtu40QDHagU8thTVAvizPbaQbNkBJfxyMG7I2QNXRaaqSSDdAYSS3yAnfN0DtdgTngHU4QHrJUQX4CzlABRyfI2+iOUCSbuxB5jg6QB3BOWBdzzpAqhOHftRlO0A2ZtScS/w7QMK4IbvCkjxATgtv2TkpPUDaXbz3sL89QGawCRYoVj5A8gJXNJ/sPkB+VaRSFoM/QAXUeLjGDEBAS32fRwJYQECRJsbWPaNAQNfP7GV57kBAHHkT9bQ5QUBjIjqE8IRBQKnLYBMs0EFA8HSHomcbQkA0Hq4xo2ZCQHvH1MDesUJAwnD7Txr9QkAGGiLfVUhDQE3DSG6Rk0NAlGxv/czeQ0DZFZaMCCpEQB+/vBtEdURAZmjjqn/ARECrEQo6uwtFQPG6MMn2VkVAOGRXWDKiRUB9DX7nbe1FQMS2pHapOEZACWDLBeWDRkBPCfKUIM9GQA==",
          "dtype": "f8"
         },
         "yaxis": "y3"
        },
        {
         "hovertemplate": "Type=BEV<br>Size=Small<br>Daily distance [km]=%{x}<br>Daily cost [EUR]=%{y}<extra></extra>",
         "legendgroup": "BEV",
         "line": {
          "color": "#EF553B",
          "dash": "solid"
         },
         "marker": {
          "symbol": "circle"
         },
         "mode": "lines",
         "name": "BEV",
         "orientation": "v",
         "showlegend": true,
         "type": "scatter",
         "x": {
          "bdata": "AAAAAAAAAAAVvJyCl1MQQBW8nIKXUyBAIBrrQ2N9KEAVvJyCl1MwQBrrQ2N9aDRAIBrrQ2N9OEAlSZIkSZI8QBW8nIKXU0BAmFPwcgpeQkAa60NjfWhEQJ2Cl1PwckZAIBrrQ2N9SECisT401odKQCVJkiRJkkxAp+DlFLycTkAVvJyCl1NQQNaHxvrQWFFAmFPwcgpeUkBZHxrrQ2NTQBrrQ2N9aFRA3LZt27ZtVUCdgpdT8HJWQF5OwcspeFdAIBrrQ2N9WEDh5RS8nIJZQKKxPjTWh1pAY31orA+NW0AlSZIkSZJcQOYUvJyCl11Ap+DlFLycXkBprA+N9aFfQBW8nIKXU2BA9qGxPjTWYEDWh8b60FhhQLdt27Zt22FAmFPwcgpeYkB4OQUvp+BiQFkfGutDY2NAOgUvp+DlY0Aa60NjfWhkQPvQWB8a62RA3LZt27ZtZUC8nIKXU/BlQJ2Cl1PwcmZAfmisD431ZkBeTsHLKXhnQD801ofG+mdAIBrrQ2N9aEAAAAAAAABpQA==",
          "dtype": "f8"
         },
         "xaxis": "x",
         "y": {
          "bdata": "o4suuuiiJ0BKXr8tiAAoQPEwUKEnXihAlwPhFMe7KEA+1nGIZhkpQOWoAvwFdylAjHuTb6XUKUAyTiTjRDIqQNkgtVbkjypAgPNFyoPtKkAnxtY9I0srQM6YZ7HCqCtAdGv4JGIGLEAbPomYAWQsQMIQGgyhwSxAaOOqf0AfLUAQtjvz33wtQLaIzGZ/2i1AXVtd2h44LkAELu5NvpUuQKoAf8Fd8y5AUtMPNf1QL0D4paConK4vQFC8GA4eBjBAoyXhx+00MED2jqmBvWMwQEr4cTuNkjBAnWE69VzBMEDwygKvLPAwQEQ0y2j8HjFAl52TIsxNMUDqBlzcm3wxQD5wJJZrqzFAktnsTzvaMUDlQrUJCwkyQDisfcPaNzJAjBVGfapmMkDffg43epUyQDLo1vBJxDJAhlGfqhnzMkDZumdk6SEzQCwkMB65UDNAgI3414h/M0DT9sCRWK4zQCZgiUso3TNAeslRBfgLNEDOMhq/xzo0QCGc4niXaTRAdAWrMmeYNEDIbnPsNsc0QA==",
          "dtype": "f8"
         },
         "yaxis": "y"
        },
        {
         "hovertemplate": "Type=BEV<br>Size=Medium<br>Daily distance [km]=%{x}<br>Daily cost [EUR]=%{y}<extra></extra>",
         "legendgroup": "BEV",
         "line": {
          "color": "#EF553B",
          "dash": "solid"
         },
         "marker": {
          "symbol": "circle"
         },
         "mode": "lines",
         "name": "BEV",
         "orientation": "v",
         "showlegend": false,
         "type": "scatter",
         "x": {
          "bdata": "AAAAAAAAAAAVvJyCl1MQQBW8nIKXUyBAIBrrQ2N9KEAVvJyCl1MwQBrrQ2N9aDRAIBrrQ2N9OEAlSZIkSZI8QBW8nIKXU0BAmFPwcgpeQkAa60NjfWhEQJ2Cl1PwckZAIBrrQ2N9SECisT401odKQCVJkiRJkkxAp+DlFLycTkAVvJyCl1NQQNaHxvrQWFFAmFPwcgpeUkBZHxrrQ2NTQBrrQ2N9aFRA3LZt27ZtVUCdgpdT8HJWQF5OwcspeFdAIBrrQ2N9WEDh5RS8nIJZQKKxPjTWh1pAY31orA+NW0AlSZIkSZJcQOYUvJyCl11Ap+DlFLycXkBprA+N9aFfQBW8nIKXU2BA9qGxPjTWYEDWh8b60FhhQLdt27Zt22FAmFPwcgpeYkB4OQUvp+BiQFkfGutDY2NAOgUvp+DlY0Aa60NjfWhkQPvQWB8a62RA3LZt27ZtZUC8nIKXU/BlQJ2Cl1PwcmZAfmisD431ZkBeTsHLKXhnQD801ofG+mdAIBrrQ2N9aEAAAAAAAABpQA==",
          "dtype": "f8"
         },
         "xaxis": "x2",
         "y": {
          "bdata": "L7rooosuMkDXPSNLD2kyQH/BXfOSozJAKEWYmxbeMkDQyNJDmhgzQHhMDewdUzNAINBHlKGNM0DJU4I8JcgzQHHXvOSoAjRAGVv3jCw9NEDB3jE1sHc0QGpibN0zsjRAEuamhbfsNEC6aeEtOyc1QGLtG9a+YTVACnFWfkKcNUCz9JAmxtY1QFt4y85JETZAA/wFd81LNkCrf0AfUYY2QFQDe8fUwDZA/Ia1b1j7NkCkCvAX3DU3QEyOKsBfcDdA9BFlaOOqN0CdlZ8QZ+U3QEUZ2rjqHzhA7ZwUYW5aOECWIE8J8pQ4QD6kibF1zzhA5ifEWfkJOUCOq/4BfUQ5QDYvOaoAfzlA37JzUoS5OUCHNq76B/Q5QC+66KKLLjpA2D0jSw9pOkCAwV3zkqM6QChFmJsW3jpA0MjSQ5oYO0B4TA3sHVM7QCDQR5ShjTtAyFOCPCXIO0Bw17zkqAI8QBlb94wsPTxAwt4xNbB3PEBqYmzdM7I8QBLmpoW37DxAumnhLTsnPUBi7RvWvmE9QA==",
          "dtype": "f8"
         },
         "yaxis": "y2"
        },
        {
         "hovertemplate": "Type=BEV<br>Size=Large<br>Daily distance [km]=%{x}<br>Daily cost [EUR]=%{y}<extra></extra>",
         "legendgroup": "BEV",
         "line": {
          "color": "#EF553B",
          "dash": "solid"
         },
         "marker": {
          "symbol": "circle"
         },
         "mode": "lines",
         "name": "BEV",
         "orientation": "v",
         "showlegend": false,
         "type": "scatter",
         "x": {
          "bdata": "AAAAAAAAAAAVvJyCl1MQQBW8nIKXUyBAIBrrQ2N9KEAVvJyCl1MwQBrrQ2N9aDRAIBrrQ2N9OEAlSZIkSZI8QBW8nIKXU0BAmFPwcgpeQkAa60NjfWhEQJ2Cl1PwckZAIBrrQ2N9SECisT401odKQCVJkiRJkkxAp+DlFLycTkAVvJyCl1NQQNaHxvrQWFFAmFPwcgpeUkBZHxrrQ2NTQBrrQ2N9aFRA3LZt27ZtVUCdgpdT8HJWQF5OwcspeFdAIBrrQ2N9WEDh5RS8nIJZQKKxPjTWh1pAY31orA+NW0AlSZIkSZJcQOYUvJyCl11Ap+DlFLycXkBprA+N9aFfQBW8nIKXU2BA9qGxPjTWYEDWh8b60FhhQLdt27Zt22FAmFPwcgpeYkB4OQUvp+BiQFkfGutDY2NAOgUvp+DlY0Aa60NjfWhkQPvQWB8a62RA3LZt27ZtZUC8nIKXU/BlQJ2Cl1PwcmZAfmisD431ZkBeTsHLKXhnQD801ofG+mdAIBrrQ2N9aEAAAAAAAABpQA==",
          "dtype": "f8"
         },
         "xaxis": "x3",
         "y": {
          "bdata": "L7rooosuQkDtnBRhblpCQKt/QB9RhkJAamJs3TOyQkAoRZibFt5CQOYnxFn5CUNApArwF9w1Q0Bi7RvWvmFDQCDQR5ShjUNA37JzUoS5Q0CdlZ8QZ+VDQFt4y85JEURAGVv3jCw9REDXPSNLD2lEQJYgTwnylERAVAN7x9TAREAS5qaFt+xEQNDI0kOaGEVAjqv+AX1ERUBMjirAX3BFQApxVn5CnEVAyVOCPCXIRUCHNq76B/RFQEUZ2rjqH0ZAA/wFd81LRkDC3jE1sHdGQIDBXfOSo0ZAPqSJsXXPRkD8hrVvWPtGQLpp4S07J0dAeEwN7B1TR0A2LzmqAH9HQPQRZWjjqkdAs/SQJsbWR0Bx17zkqAJIQC+66KKLLkhA7pwUYW5aSECsf0AfUYZIQGpibN0zskhAKEWYmxbeSEDmJ8RZ+QlJQKQK8BfcNUlAYu0b1r5hSUAg0EeUoY1JQN+yc1KEuUlAnZWfEGflSUBbeMvOSRFKQBpb94wsPUpA2D0jSw9pSkCWIE8J8pRKQA==",
          "dtype": "f8"
         },
         "yaxis": "y3"
        }
       ],
       "layout": {
        "annotations": [
         {
          "font": {},
          "showarrow": false,
          "text": "Small",
          "x": 0.15999999999999998,
          "xanchor": "center",
          "xref": "paper",
          "y": 1,
          "yanchor": "bottom",
          "yref": "paper"
         },
         {
          "font": {},
          "showarrow": false,
          "text": "Medium",
          "x": 0.49999999999999994,
          "xanchor": "center",
          "xref": "paper",
          "y": 1,
          "yanchor": "bottom",
          "yref": "paper"
         },
         {
          "font": {},
          "showarrow": false,
          "text": "Large",
          "x": 0.8399999999999999,
          "xanchor": "center",
          "xref": "paper",
          "y": 1,
          "yanchor": "bottom",
          "yref": "paper"
         }
        ],
        "height": 200,
        "legend": {
         "title": {
          "text": "Type"
         },
         "tracegroupgap": 0
        },
        "margin": {
         "b": 0,
         "l": 0,
         "pad": 0,
         "r": 0,
         "t": 15
        },
        "template": {
         "data": {
          "bar": [
           {
            "error_x": {
             "color": "#2a3f5f"
            },
            "error_y": {
             "color": "#2a3f5f"
            },
            "marker": {
             "line": {
              "color": "#E5ECF6",
              "width": 0.5
             },
             "pattern": {
              "fillmode": "overlay",
              "size": 10,
              "solidity": 0.2
             }
            },
            "type": "bar"
           }
          ],
          "barpolar": [
           {
            "marker": {
             "line": {
              "color": "#E5ECF6",
              "width": 0.5
             },
             "pattern": {
              "fillmode": "overlay",
              "size": 10,
              "solidity": 0.2
             }
            },
            "type": "barpolar"
           }
          ],
          "carpet": [
           {
            "aaxis": {
             "endlinecolor": "#2a3f5f",
             "gridcolor": "white",
             "linecolor": "white",
             "minorgridcolor": "white",
             "startlinecolor": "#2a3f5f"
            },
            "baxis": {
             "endlinecolor": "#2a3f5f",
             "gridcolor": "white",
             "linecolor": "white",
             "minorgridcolor": "white",
             "startlinecolor": "#2a3f5f"
            },
            "type": "carpet"
           }
          ],
          "choropleth": [
           {
            "colorbar": {
             "outlinewidth": 0,
             "ticks": ""
            },
            "type": "choropleth"
           }
          ],
          "contour": [
           {
            "colorbar": {
             "outlinewidth": 0,
             "ticks": ""
            },
            "colorscale": [
             [
              0,
              "#0d0887"
             ],
             [
              0.1111111111111111,
              "#46039f"
             ],
             [
              0.2222222222222222,
              "#7201a8"
             ],
             [
              0.3333333333333333,
              "#9c179e"
             ],
             [
              0.4444444444444444,
              "#bd3786"
             ],
             [
              0.5555555555555556,
              "#d8576b"
             ],
             [
              0.6666666666666666,
              "#ed7953"
             ],
             [
              0.7777777777777778,
              "#fb9f3a"
             ],
             [
              0.8888888888888888,
              "#fdca26"
             ],
             [
              1,
              "#f0f921"
             ]
            ],
            "type": "contour"
           }
          ],
          "contourcarpet": [
           {
            "colorbar": {
             "outlinewidth": 0,
             "ticks": ""
            },
            "type": "contourcarpet"
           }
          ],
          "heatmap": [
           {
            "colorbar": {
             "outlinewidth": 0,
             "ticks": ""
            },
            "colorscale": [
             [
              0,
              "#0d0887"
             ],
             [
              0.1111111111111111,
              "#46039f"
             ],
             [
              0.2222222222222222,
              "#7201a8"
             ],
             [
              0.3333333333333333,
              "#9c179e"
             ],
             [
              0.4444444444444444,
              "#bd3786"
             ],
             [
              0.5555555555555556,
              "#d8576b"
             ],
             [
              0.6666666666666666,
              "#ed7953"
             ],
             [
              0.7777777777777778,
              "#fb9f3a"
             ],
             [
              0.8888888888888888,
              "#fdca26"
             ],
             [
              1,
              "#f0f921"
             ]
            ],
            "type": "heatmap"
           }
          ],
          "histogram": [
           {
            "marker": {
             "pattern": {
              "fillmode": "overlay",
              "size": 10,
              "solidity": 0.2
             }
            },
            "type": "histogram"
           }
          ],
          "histogram2d": [
           {
            "colorbar": {
             "outlinewidth": 0,
             "ticks": ""
            },
            "colorscale": [
             [
              0,
              "#0d0887"
             ],
             [
              0.1111111111111111,
              "#46039f"
             ],
             [
              0.2222222222222222,
              "#7201a8"
             ],
             [
              0.3333333333333333,
              "#9c179e"
             ],
             [
              0.4444444444444444,
              "#bd3786"
             ],
             [
              0.5555555555555556,
              "#d8576b"
             ],
             [
              0.6666666666666666,
              "#ed7953"
             ],
             [
              0.7777777777777778,
              "#fb9f3a"
             ],
             [
              0.8888888888888888,
              "#fdca26"
             ],
             [
              1,
              "#f0f921"
             ]
            ],
            "type": "histogram2d"
           }
          ],
          "histogram2dcontour": [
           {
            "colorbar": {
             "outlinewidth": 0,
             "ticks": ""
            },
            "colorscale": [
             [
              0,
              "#0d0887"
             ],
             [
              0.1111111111111111,
              "#46039f"
             ],
             [
              0.2222222222222222,
              "#7201a8"
             ],
             [
              0.3333333333333333,
              "#9c179e"
             ],
             [
              0.4444444444444444,
              "#bd3786"
             ],
             [
              0.5555555555555556,
              "#d8576b"
             ],
             [
              0.6666666666666666,
              "#ed7953"
             ],
             [
              0.7777777777777778,
              "#fb9f3a"
             ],
             [
              0.8888888888888888,
              "#fdca26"
             ],
             [
              1,
              "#f0f921"
             ]
            ],
            "type": "histogram2dcontour"
           }
          ],
          "mesh3d": [
           {
            "colorbar": {
             "outlinewidth": 0,
             "ticks": ""
            },
            "type": "mesh3d"
           }
          ],
          "parcoords": [
           {
            "line": {
             "colorbar": {
              "outlinewidth": 0,
              "ticks": ""
             }
            },
            "type": "parcoords"
           }
          ],
          "pie": [
           {
            "automargin": true,
            "type": "pie"
           }
          ],
          "scatter": [
           {
            "fillpattern": {
             "fillmode": "overlay",
             "size": 10,
             "solidity": 0.2
            },
            "type": "scatter"
           }
          ],
          "scatter3d": [
           {
            "line": {
             "colorbar": {
              "outlinewidth": 0,
              "ticks": ""
             }
            },
            "marker": {
             "colorbar": {
              "outlinewidth": 0,
              "ticks": ""
             }
            },
            "type": "scatter3d"
           }
          ],
          "scattercarpet": [
           {
            "marker": {
             "colorbar": {
              "outlinewidth": 0,
              "ticks": ""
             }
            },
            "type": "scattercarpet"
           }
          ],
          "scattergeo": [
           {
            "marker": {
             "colorbar": {
              "outlinewidth": 0,
              "ticks": ""
             }
            },
            "type": "scattergeo"
           }
          ],
          "scattergl": [
           {
            "marker": {
             "colorbar": {
              "outlinewidth": 0,
              "ticks": ""
             }
            },
            "type": "scattergl"
           }
          ],
          "scattermap": [
           {
            "marker": {
             "colorbar": {
              "outlinewidth": 0,
              "ticks": ""
             }
            },
            "type": "scattermap"
           }
          ],
          "scattermapbox": [
           {
            "marker": {
             "colorbar": {
              "outlinewidth": 0,
              "ticks": ""
             }
            },
            "type": "scattermapbox"
           }
          ],
          "scatterpolar": [
           {
            "marker": {
             "colorbar": {
              "outlinewidth": 0,
              "ticks": ""
             }
            },
            "type": "scatterpolar"
           }
          ],
          "scatterpolargl": [
           {
            "marker": {
             "colorbar": {
              "outlinewidth": 0,
              "ticks": ""
             }
            },
            "type": "scatterpolargl"
           }
          ],
          "scatterternary": [
           {
            "marker": {
             "colorbar": {
              "outlinewidth": 0,
              "ticks": ""
             }
            },
            "type": "scatterternary"
           }
          ],
          "surface": [
           {
            "colorbar": {
             "outlinewidth": 0,
             "ticks": ""
            },
            "colorscale": [
             [
              0,
              "#0d0887"
             ],
             [
              0.1111111111111111,
              "#46039f"
             ],
             [
              0.2222222222222222,
              "#7201a8"
             ],
             [
              0.3333333333333333,
              "#9c179e"
             ],
             [
              0.4444444444444444,
              "#bd3786"
             ],
             [
              0.5555555555555556,
              "#d8576b"
             ],
             [
              0.6666666666666666,
              "#ed7953"
             ],
             [
              0.7777777777777778,
              "#fb9f3a"
             ],
             [
              0.8888888888888888,
              "#fdca26"
             ],
             [
              1,
              "#f0f921"
             ]
            ],
            "type": "surface"
           }
          ],
          "table": [
           {
            "cells": {
             "fill": {
              "color": "#EBF0F8"
             },
             "line": {
              "color": "white"
             }
            },
            "header": {
             "fill": {
              "color": "#C8D4E3"
             },
             "line": {
              "color": "white"
             }
            },
            "type": "table"
           }
          ]
         },
         "layout": {
          "annotationdefaults": {
           "arrowcolor": "#2a3f5f",
           "arrowhead": 0,
           "arrowwidth": 1
          },
          "autotypenumbers": "strict",
          "coloraxis": {
           "colorbar": {
            "outlinewidth": 0,
            "ticks": ""
           }
          },
          "colorscale": {
           "diverging": [
            [
             0,
             "#8e0152"
            ],
            [
             0.1,
             "#c51b7d"
            ],
            [
             0.2,
             "#de77ae"
            ],
            [
             0.3,
             "#f1b6da"
            ],
            [
             0.4,
             "#fde0ef"
            ],
            [
             0.5,
             "#f7f7f7"
            ],
            [
             0.6,
             "#e6f5d0"
            ],
            [
             0.7,
             "#b8e186"
            ],
            [
             0.8,
             "#7fbc41"
            ],
            [
             0.9,
             "#4d9221"
            ],
            [
             1,
             "#276419"
            ]
           ],
           "sequential": [
            [
             0,
             "#0d0887"
            ],
            [
             0.1111111111111111,
             "#46039f"
            ],
            [
             0.2222222222222222,
             "#7201a8"
            ],
            [
             0.3333333333333333,
             "#9c179e"
            ],
            [
             0.4444444444444444,
             "#bd3786"
            ],
            [
             0.5555555555555556,
             "#d8576b"
            ],
            [
             0.6666666666666666,
             "#ed7953"
            ],
            [
             0.7777777777777778,
             "#fb9f3a"
            ],
            [
             0.8888888888888888,
             "#fdca26"
            ],
            [
             1,
             "#f0f921"
            ]
           ],
           "sequentialminus": [
            [
             0,
             "#0d0887"
            ],
            [
             0.1111111111111111,
             "#46039f"
            ],
            [
             0.2222222222222222,
             "#7201a8"
            ],
            [
             0.3333333333333333,
             "#9c179e"
            ],
            [
             0.4444444444444444,
             "#bd3786"
            ],
            [
             0.5555555555555556,
             "#d8576b"
            ],
            [
             0.6666666666666666,
             "#ed7953"
            ],
            [
             0.7777777777777778,
             "#fb9f3a"
            ],
            [
             0.8888888888888888,
             "#fdca26"
            ],
            [
             1,
             "#f0f921"
            ]
           ]
          },
          "colorway": [
           "#636efa",
           "#EF553B",
           "#00cc96",
           "#ab63fa",
           "#FFA15A",
           "#19d3f3",
           "#FF6692",
           "#B6E880",
           "#FF97FF",
           "#FECB52"
          ],
          "font": {
           "color": "#2a3f5f"
          },
          "geo": {
           "bgcolor": "white",
           "lakecolor": "white",
           "landcolor": "#E5ECF6",
           "showlakes": true,
           "showland": true,
           "subunitcolor": "white"
          },
          "hoverlabel": {
           "align": "left"
          },
          "hovermode": "closest",
          "mapbox": {
           "style": "light"
          },
          "paper_bgcolor": "white",
          "plot_bgcolor": "#E5ECF6",
          "polar": {
           "angularaxis": {
            "gridcolor": "white",
            "linecolor": "white",
            "ticks": ""
           },
           "bgcolor": "#E5ECF6",
           "radialaxis": {
            "gridcolor": "white",
            "linecolor": "white",
            "ticks": ""
           }
          },
          "scene": {
           "xaxis": {
            "backgroundcolor": "#E5ECF6",
            "gridcolor": "white",
            "gridwidth": 2,
            "linecolor": "white",
            "showbackground": true,
            "ticks": "",
            "zerolinecolor": "white"
           },
           "yaxis": {
            "backgroundcolor": "#E5ECF6",
            "gridcolor": "white",
            "gridwidth": 2,
            "linecolor": "white",
            "showbackground": true,
            "ticks": "",
            "zerolinecolor": "white"
           },
           "zaxis": {
            "backgroundcolor": "#E5ECF6",
            "gridcolor": "white",
            "gridwidth": 2,
            "linecolor": "white",
            "showbackground": true,
            "ticks": "",
            "zerolinecolor": "white"
           }
          },
          "shapedefaults": {
           "line": {
            "color": "#2a3f5f"
           }
          },
          "ternary": {
           "aaxis": {
            "gridcolor": "white",
            "linecolor": "white",
            "ticks": ""
           },
           "baxis": {
            "gridcolor": "white",
            "linecolor": "white",
            "ticks": ""
           },
           "bgcolor": "#E5ECF6",
           "caxis": {
            "gridcolor": "white",
            "linecolor": "white",
            "ticks": ""
           }
          },
          "title": {
           "x": 0.05
          },
          "xaxis": {
           "automargin": true,
           "gridcolor": "white",
           "linecolor": "white",
           "ticks": "",
           "title": {
            "standoff": 15
           },
           "zerolinecolor": "white",
           "zerolinewidth": 2
          },
          "yaxis": {
           "automargin": true,
           "gridcolor": "white",
           "linecolor": "white",
           "ticks": "",
           "title": {
            "standoff": 15
           },
           "zerolinecolor": "white",
           "zerolinewidth": 2
          }
         }
        },
        "width": 600,
        "xaxis": {
         "anchor": "y",
         "domain": [
          0,
          0.31999999999999995
         ],
         "title": {
          "text": "Daily distance [km]"
         }
        },
        "xaxis2": {
         "anchor": "y2",
         "domain": [
          0.33999999999999997,
          0.6599999999999999
         ],
         "matches": "x",
         "title": {
          "text": "Daily distance [km]"
         }
        },
        "xaxis3": {
         "anchor": "y3",
         "domain": [
          0.6799999999999999,
          0.9999999999999999
         ],
         "matches": "x",
         "title": {
          "text": "Daily distance [km]"
         }
        },
        "yaxis": {
         "anchor": "x",
         "domain": [
          0,
          1
         ],
         "title": {
          "text": "Daily cost [EUR]"
         }
        },
        "yaxis2": {
         "anchor": "x2",
         "domain": [
          0,
          1
         ],
         "matches": "y",
         "showticklabels": false
        },
        "yaxis3": {
         "anchor": "x3",
         "domain": [
          0,
          1
         ],
         "matches": "y",
         "showticklabels": false
        }
       }
      }
     },
     "metadata": {},
     "output_type": "display_data"
    }
   ],
   "source": [
    "# Prepare figure comparing vehicle size trade-offs\n",
    "\n",
    "# Small\n",
    "df_small_icv = pd.DataFrame({\n",
    "    \"distance_km\": np.linspace(0, 200),\n",
    "    \"cost_EUR\": 210 / 22 + 9 * np.linspace(0, 200) * 1e-2,\n",
    "})\n",
    "df_small_icv[\"engine\"] = \"ICV\"\n",
    "df_small_icv[\"size\"] = \"Small\"\n",
    "\n",
    "df_small_bev = pd.DataFrame({\n",
    "    \"distance_km\": np.linspace(0, 200),\n",
    "    \"cost_EUR\": 260 / 22 + 4.48 * np.linspace(0, 200) * 1e-2,\n",
    "})\n",
    "df_small_bev[\"engine\"] = \"BEV\"\n",
    "df_small_bev[\"size\"] = \"Small\"\n",
    "\n",
    "# Medium\n",
    "df_medium_icv = pd.DataFrame({\n",
    "    \"distance_km\": np.linspace(0, 200),\n",
    "    \"cost_EUR\": 260 / 22 + 10.80 * np.linspace(0, 200) * 1e-2,\n",
    "})\n",
    "df_medium_icv[\"engine\"] = \"ICV\"\n",
    "df_medium_icv[\"size\"] = \"Medium\"\n",
    "\n",
    "df_medium_bev = pd.DataFrame({\n",
    "    \"distance_km\": np.linspace(0, 200),\n",
    "    \"cost_EUR\": 400 / 22 + 5.60 * np.linspace(0, 200) * 1e-2,\n",
    "})\n",
    "df_medium_bev[\"engine\"] = \"BEV\"\n",
    "df_medium_bev[\"size\"] = \"Medium\"\n",
    "\n",
    "# Large\n",
    "df_large_icv = pd.DataFrame({\n",
    "    \"distance_km\": np.linspace(0, 200),\n",
    "    \"cost_EUR\": 370 / 22 + 14.40 * np.linspace(0, 200) * 1e-2,\n",
    "})\n",
    "df_large_icv[\"engine\"] = \"ICV\"\n",
    "df_large_icv[\"size\"] = \"Large\"\n",
    "\n",
    "df_large_bev = pd.DataFrame({\n",
    "    \"distance_km\": np.linspace(0, 200),\n",
    "    \"cost_EUR\": 800 / 22 + 8.40 * np.linspace(0, 200) * 1e-2,\n",
    "})\n",
    "df_large_bev[\"engine\"] = \"BEV\"\n",
    "df_large_bev[\"size\"] = \"Large\"\n",
    "\n",
    "df = pd.concat([df_small_icv, df_small_bev, df_medium_icv, df_medium_bev, df_large_icv, df_large_bev])\n",
    "df = df.rename(columns = { \n",
    "    \"size\": \"Size\", \"engine\": \"Type\",  \n",
    "    \"cost_EUR\": \"Daily cost [EUR]\",\n",
    "    \"distance_km\": \"Daily distance [km]\"\n",
    "})\n",
    "\n",
    "figure = px.line(df, x = \"Daily distance [km]\", y = \"Daily cost [EUR]\", color = \"Type\", facet_col = \"Size\")\n",
    "figure.for_each_annotation(lambda item: item.update(text = item.text.split(\"=\")[-1]))\n",
    "\n",
    "figure.update_layout(\n",
    "    width = 600,\n",
    "    height = 200,\n",
    "    margin=dict(\n",
    "        l = 0,\n",
    "        r = 0,\n",
    "        b = 0,\n",
    "        t = 15,\n",
    "        pad = 0\n",
    "    )\n",
    ")\n",
    "\n",
    "figure.write_image(figures_path / \"vehicle_type_tradeoff.pdf\")\n",
    "figure"
   ]
  }
 ],
 "metadata": {
  "kernelspec": {
   "display_name": "lead",
   "language": "python",
   "name": "python3"
  },
  "language_info": {
   "codemirror_mode": {
    "name": "ipython",
    "version": 3
   },
   "file_extension": ".py",
   "mimetype": "text/x-python",
   "name": "python",
   "nbconvert_exporter": "python",
   "pygments_lexer": "ipython3",
   "version": "3.12.7"
  }
 },
 "nbformat": 4,
 "nbformat_minor": 2
}
