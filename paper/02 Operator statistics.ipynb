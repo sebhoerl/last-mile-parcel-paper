{
 "cells": [
  {
   "cell_type": "code",
   "execution_count": null,
   "metadata": {},
   "outputs": [],
   "source": [
    "import pandas as pd\n",
    "import geopandas as gpd\n",
    "import glob\n",
    "from pathlib import Path"
   ]
  },
  {
   "cell_type": "markdown",
   "metadata": {},
   "source": [
    "### Operator statistics\n",
    "This notebooks generates information on the operators, their parcel count, etc."
   ]
  },
  {
   "cell_type": "code",
   "execution_count": null,
   "metadata": {},
   "outputs": [],
   "source": [
    "# Inputs and outputs\n",
    "results_path = Path(\"../results\")\n",
    "tables_path = Path(\"tables\")"
   ]
  },
  {
   "cell_type": "code",
   "execution_count": null,
   "metadata": {},
   "outputs": [],
   "source": [
    "# Load operator data per depot\n",
    "df_operators = []\n",
    "\n",
    "for path in glob.glob(str(results_path / \"parcels/depots/today_2024/*.gpkg\")):\n",
    "    df_depot = gpd.read_file(path)\n",
    "\n",
    "    df_operators.append({\n",
    "        \"operator\": df_depot[\"operator\"].values[0],\n",
    "        \"depots\": len(df_depot[\"depot_id\"].unique()),\n",
    "        \"parcels\": len(df_depot[\"parcel_id\"].unique())\n",
    "    })\n",
    "\n",
    "df_operators = pd.DataFrame.from_records(df_operators)\n",
    "df_operators = df_operators.sort_values(by = [\"parcels\"], ascending = False)\n",
    "\n",
    "df_operators = pd.concat([\n",
    "    df_operators, pd.DataFrame({\n",
    "        \"operator\": [\"SUM\"], \"depots\": [df_operators[\"depots\"].sum()], \"parcels\": [df_operators[\"parcels\"].sum()]\n",
    "    })\n",
    "])"
   ]
  },
  {
   "cell_type": "code",
   "execution_count": null,
   "metadata": {},
   "outputs": [],
   "source": [
    "# Prepare table\n",
    "df_table = df_operators.copy()\n",
    "df_table[\"operator\"] = df_table[\"operator\"].replace({\n",
    "    \"laposte\": \"La Poste (Colissimo)\", \"chronopost\": \"Chronopost\", \"ups\": \"UPS\", \"dpd\": \"DPD\",\n",
    "    \"dhl\": \"DHL\", \"gls\": \"GLS\", \"colisprive\": \"Colis privé\", \"fedex\": \"Fedex\",\n",
    "    \"SUM\": \"$\\\\sum$\"\n",
    "})\n",
    "df_table.columns = [\"Operator\", \"Depots\", \"Parcels\"]\n",
    "df_table = df_table.style.format(thousands = \",\").hide(axis = \"index\")\n",
    "\n",
    "with open(tables_path / \"depots.tex\", \"w+\") as f:\n",
    "    table = df_table.to_latex(\n",
    "        caption = \"Operator statistics for 2024\", label = \"tab:depots\", hrules = True)\n",
    "    table = table.replace(\"$\\\\sum$\", \"\\\\midrule\\n$\\\\sum$\")\n",
    "    table = table.replace(\"\\\\begin{table}\", \"\\\\begin{table}\\n\\\\centering\")\n",
    "    f.write(table)\n",
    "\n",
    "df_table"
   ]
  }
 ],
 "metadata": {
  "kernelspec": {
   "display_name": "lead",
   "language": "python",
   "name": "python3"
  },
  "language_info": {
   "codemirror_mode": {
    "name": "ipython",
    "version": 3
   },
   "file_extension": ".py",
   "mimetype": "text/x-python",
   "name": "python",
   "nbconvert_exporter": "python",
   "pygments_lexer": "ipython3",
   "version": "3.12.1"
  }
 },
 "nbformat": 4,
 "nbformat_minor": 2
}
