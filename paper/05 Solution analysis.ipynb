{
 "cells": [
  {
   "cell_type": "code",
   "execution_count": 81,
   "metadata": {},
   "outputs": [],
   "source": [
    "import pandas as pd\n",
    "from pathlib import Path\n",
    "import re\n",
    "\n",
    "import plotly.graph_objs as go\n",
    "import plotly.express as px"
   ]
  },
  {
   "cell_type": "markdown",
   "metadata": {},
   "source": [
    "### Solution analysis\n",
    "This notebooks generates tables and plots for the scenario analysis in the paper."
   ]
  },
  {
   "cell_type": "code",
   "execution_count": 82,
   "metadata": {},
   "outputs": [],
   "source": [
    "# Inputs and outputs\n",
    "results_path = Path(\"../results\")\n",
    "\n",
    "tables_path = Path(\"tables\")\n",
    "figures_path = Path(\"figures\")"
   ]
  },
  {
   "cell_type": "code",
   "execution_count": 83,
   "metadata": {},
   "outputs": [],
   "source": [
    "# Load all displayed cases\n",
    "cases = [\n",
    "    \"baseline_2019\", \"today_2024\", \"future_2030\",\n",
    "    \"policy_co2_100EUR\", \"policy_co2_200EUR\", \"policy_co2_500EUR\", \"policy_co2_750EUR\",\"policy_co2_1000EUR\", \"policy_co2_1500EUR\", \"policy_co2_2000EUR\",\n",
    "    \"policy_thermic_20pct\", \"policy_thermic_50pct\", \"policy_thermic_75pct\", \"policy_thermic_100pct\",\n",
    "    \"policy_elez\", \"policy_electric\", \"policy_cost_parity\" # , \"policy_cost_parity_high_range\"\n",
    "]\n",
    "\n",
    "df_cases = []\n",
    "\n",
    "for case in cases:\n",
    "    df_partial = pd.read_parquet(results_path / \"scenario_solutions/{}.vehicles.parquet\".format(case))\n",
    "    f_electric = df_partial[\"vehicle_type\"].str.endswith(\"electric\")\n",
    "\n",
    "    df_cases.append({\n",
    "        \"case\": case,\n",
    "\n",
    "        \"parcels\": df_partial.loc[:, \"deliveries\"].sum(),\n",
    "        \"thermic_parcels\": df_partial.loc[~f_electric, \"deliveries\"].sum(),\n",
    "        \"electric_parcels\": df_partial.loc[f_electric, \"deliveries\"].sum(),\n",
    "\n",
    "        \"vehicles\": len(df_partial[[\"vehicle_id\", \"depot\", \"operator\"]].drop_duplicates()),\n",
    "        \"thermic_vehicles\": len(df_partial[~f_electric][[\"vehicle_id\", \"depot\", \"operator\"]].drop_duplicates()),\n",
    "        \"electric_vehicles\": len(df_partial[f_electric][[\"vehicle_id\", \"depot\", \"operator\"]].drop_duplicates()),\n",
    "        \n",
    "        \"distance_km\": df_partial[\"distance_m\"].sum() * 1e-3,\n",
    "        \"thermic_distance_km\": df_partial[~f_electric][\"distance_m\"].sum() * 1e-3,\n",
    "        \"electric_distance_km\": df_partial[f_electric][\"distance_m\"].sum() * 1e-3,\n",
    "\n",
    "        \"fuel_L\": df_partial[\"fuel_L\"].sum(),\n",
    "        \"electricity_kWh\": df_partial[\"electricity_Wh\"].sum() * 1e-3,\n",
    "        \"energy_kWh\": df_partial[\"energy_Wh\"].sum() * 1e-3,\n",
    "        \"co2eq_kg\": df_partial[\"co2eq_g\"].sum() * 1e-3,\n",
    "\n",
    "        \"total_cost_EUR\": df_partial[\"total_cost_EUR\"].sum(),\n",
    "\n",
    "        \"deliveries\": df_partial[\"deliveries\"].sum()\n",
    "    })\n",
    "\n",
    "df_cases = pd.DataFrame.from_records(df_cases)\n",
    "df_cases[\"cost_per_delivery_EUR\"] = df_cases[\"total_cost_EUR\"] / df_cases[\"deliveries\"]\n",
    "df_cases[\"cost_per_distance_EUR_km\"] = df_cases[\"total_cost_EUR\"] / df_cases[\"distance_km\"]\n",
    "\n",
    "df_cases = df_cases.drop(columns = [\n",
    "    \"deliveries\"\n",
    "])"
   ]
  },
  {
   "cell_type": "code",
   "execution_count": 84,
   "metadata": {},
   "outputs": [
    {
     "data": {
      "text/html": [
       "<style type=\"text/css\">\n",
       "</style>\n",
       "<table id=\"T_34d8d\">\n",
       "  <thead>\n",
       "    <tr>\n",
       "      <th class=\"index_name level0\" >case</th>\n",
       "      <th id=\"T_34d8d_level0_col0\" class=\"col_heading level0 col0\" >Baseline 2019</th>\n",
       "      <th id=\"T_34d8d_level0_col1\" class=\"col_heading level0 col1\" >Today 2024</th>\n",
       "      <th id=\"T_34d8d_level0_col2\" class=\"col_heading level0 col2\" >Future 2030</th>\n",
       "    </tr>\n",
       "  </thead>\n",
       "  <tbody>\n",
       "    <tr>\n",
       "      <th id=\"T_34d8d_level0_row0\" class=\"row_heading level0 row0\" >Delivered parcels</th>\n",
       "      <td id=\"T_34d8d_row0_col0\" class=\"data row0 col0\" >26,984</td>\n",
       "      <td id=\"T_34d8d_row0_col1\" class=\"data row0 col1\" >35,986</td>\n",
       "      <td id=\"T_34d8d_row0_col2\" class=\"data row0 col2\" >54,527</td>\n",
       "    </tr>\n",
       "    <tr>\n",
       "      <th id=\"T_34d8d_level0_row1\" class=\"row_heading level0 row1\" >\\hspace{0.2cm}ICV</th>\n",
       "      <td id=\"T_34d8d_row1_col0\" class=\"data row1 col0\" >22,410</td>\n",
       "      <td id=\"T_34d8d_row1_col1\" class=\"data row1 col1\" >31,904</td>\n",
       "      <td id=\"T_34d8d_row1_col2\" class=\"data row1 col2\" >51,489</td>\n",
       "    </tr>\n",
       "    <tr>\n",
       "      <th id=\"T_34d8d_level0_row2\" class=\"row_heading level0 row2\" >\\hspace{0.2cm}BEV</th>\n",
       "      <td id=\"T_34d8d_row2_col0\" class=\"data row2 col0\" >4,574</td>\n",
       "      <td id=\"T_34d8d_row2_col1\" class=\"data row2 col1\" >4,082</td>\n",
       "      <td id=\"T_34d8d_row2_col2\" class=\"data row2 col2\" >3,038</td>\n",
       "    </tr>\n",
       "    <tr>\n",
       "      <th id=\"T_34d8d_level0_row3\" class=\"row_heading level0 row3\" >Vehicles</th>\n",
       "      <td id=\"T_34d8d_row3_col0\" class=\"data row3 col0\" >350</td>\n",
       "      <td id=\"T_34d8d_row3_col1\" class=\"data row3 col1\" >436</td>\n",
       "      <td id=\"T_34d8d_row3_col2\" class=\"data row3 col2\" >610</td>\n",
       "    </tr>\n",
       "    <tr>\n",
       "      <th id=\"T_34d8d_level0_row4\" class=\"row_heading level0 row4\" >\\hspace{0.2cm}ICV</th>\n",
       "      <td id=\"T_34d8d_row4_col0\" class=\"data row4 col0\" >283</td>\n",
       "      <td id=\"T_34d8d_row4_col1\" class=\"data row4 col1\" >378</td>\n",
       "      <td id=\"T_34d8d_row4_col2\" class=\"data row4 col2\" >568</td>\n",
       "    </tr>\n",
       "    <tr>\n",
       "      <th id=\"T_34d8d_level0_row5\" class=\"row_heading level0 row5\" >\\hspace{0.2cm}BEV</th>\n",
       "      <td id=\"T_34d8d_row5_col0\" class=\"data row5 col0\" >67</td>\n",
       "      <td id=\"T_34d8d_row5_col1\" class=\"data row5 col1\" >58</td>\n",
       "      <td id=\"T_34d8d_row5_col2\" class=\"data row5 col2\" >42</td>\n",
       "    </tr>\n",
       "    <tr>\n",
       "      <th id=\"T_34d8d_level0_row6\" class=\"row_heading level0 row6\" >Distance \\footnotesize{[km]}</th>\n",
       "      <td id=\"T_34d8d_row6_col0\" class=\"data row6 col0\" >16,571</td>\n",
       "      <td id=\"T_34d8d_row6_col1\" class=\"data row6 col1\" >19,783</td>\n",
       "      <td id=\"T_34d8d_row6_col2\" class=\"data row6 col2\" >24,987</td>\n",
       "    </tr>\n",
       "    <tr>\n",
       "      <th id=\"T_34d8d_level0_row7\" class=\"row_heading level0 row7\" >\\hspace{0.2cm}ICV</th>\n",
       "      <td id=\"T_34d8d_row7_col0\" class=\"data row7 col0\" >10,696</td>\n",
       "      <td id=\"T_34d8d_row7_col1\" class=\"data row7 col1\" >14,508</td>\n",
       "      <td id=\"T_34d8d_row7_col2\" class=\"data row7 col2\" >21,477</td>\n",
       "    </tr>\n",
       "    <tr>\n",
       "      <th id=\"T_34d8d_level0_row8\" class=\"row_heading level0 row8\" >\\hspace{0.2cm}BEV</th>\n",
       "      <td id=\"T_34d8d_row8_col0\" class=\"data row8 col0\" >5,875</td>\n",
       "      <td id=\"T_34d8d_row8_col1\" class=\"data row8 col1\" >5,275</td>\n",
       "      <td id=\"T_34d8d_row8_col2\" class=\"data row8 col2\" >3,510</td>\n",
       "    </tr>\n",
       "    <tr>\n",
       "      <th id=\"T_34d8d_level0_row9\" class=\"row_heading level0 row9\" >Cost per day \\footnotesize{[EUR]}</th>\n",
       "      <td id=\"T_34d8d_row9_col0\" class=\"data row9 col0\" >41,438</td>\n",
       "      <td id=\"T_34d8d_row9_col1\" class=\"data row9 col1\" >52,119</td>\n",
       "      <td id=\"T_34d8d_row9_col2\" class=\"data row9 col2\" >73,492</td>\n",
       "    </tr>\n",
       "    <tr>\n",
       "      <th id=\"T_34d8d_level0_row10\" class=\"row_heading level0 row10\" >Cost per shipment \\footnotesize{[EUR]}</th>\n",
       "      <td id=\"T_34d8d_row10_col0\" class=\"data row10 col0\" >1.54</td>\n",
       "      <td id=\"T_34d8d_row10_col1\" class=\"data row10 col1\" >1.45</td>\n",
       "      <td id=\"T_34d8d_row10_col2\" class=\"data row10 col2\" >1.35</td>\n",
       "    </tr>\n",
       "    <tr>\n",
       "      <th id=\"T_34d8d_level0_row11\" class=\"row_heading level0 row11\" >Cost per kilometer \\footnotesize{[EUR]}</th>\n",
       "      <td id=\"T_34d8d_row11_col0\" class=\"data row11 col0\" >2.50</td>\n",
       "      <td id=\"T_34d8d_row11_col1\" class=\"data row11 col1\" >2.63</td>\n",
       "      <td id=\"T_34d8d_row11_col2\" class=\"data row11 col2\" >2.94</td>\n",
       "    </tr>\n",
       "    <tr>\n",
       "      <th id=\"T_34d8d_level0_row12\" class=\"row_heading level0 row12\" >Fuel \\footnotesize{[L]}</th>\n",
       "      <td id=\"T_34d8d_row12_col0\" class=\"data row12 col0\" >798</td>\n",
       "      <td id=\"T_34d8d_row12_col1\" class=\"data row12 col1\" >1,054</td>\n",
       "      <td id=\"T_34d8d_row12_col2\" class=\"data row12 col2\" >1,608</td>\n",
       "    </tr>\n",
       "    <tr>\n",
       "      <th id=\"T_34d8d_level0_row13\" class=\"row_heading level0 row13\" >Electricity \\footnotesize{[kWh]}</th>\n",
       "      <td id=\"T_34d8d_row13_col0\" class=\"data row13 col0\" >947</td>\n",
       "      <td id=\"T_34d8d_row13_col1\" class=\"data row13 col1\" >849</td>\n",
       "      <td id=\"T_34d8d_row13_col2\" class=\"data row13 col2\" >568</td>\n",
       "    </tr>\n",
       "    <tr>\n",
       "      <th id=\"T_34d8d_level0_row14\" class=\"row_heading level0 row14\" >Energy \\footnotesize{[kWh]}</th>\n",
       "      <td id=\"T_34d8d_row14_col0\" class=\"data row14 col0\" >8,929</td>\n",
       "      <td id=\"T_34d8d_row14_col1\" class=\"data row14 col1\" >11,392</td>\n",
       "      <td id=\"T_34d8d_row14_col2\" class=\"data row14 col2\" >16,647</td>\n",
       "    </tr>\n",
       "    <tr>\n",
       "      <th id=\"T_34d8d_level0_row15\" class=\"row_heading level0 row15\" >Emissions \\footnotesize{[kgCO2eq]}</th>\n",
       "      <td id=\"T_34d8d_row15_col0\" class=\"data row15 col0\" >2,222</td>\n",
       "      <td id=\"T_34d8d_row15_col1\" class=\"data row15 col1\" >2,895</td>\n",
       "      <td id=\"T_34d8d_row15_col2\" class=\"data row15 col2\" >4,357</td>\n",
       "    </tr>\n",
       "  </tbody>\n",
       "</table>\n"
      ],
      "text/plain": [
       "<pandas.io.formats.style.Styler at 0x7701f8342570>"
      ]
     },
     "execution_count": 84,
     "metadata": {},
     "output_type": "execute_result"
    }
   ],
   "source": [
    "# Prepare table on BAU results\n",
    "df_table = df_cases.copy()\n",
    "df_table = df_table[\n",
    "    df_table[\"case\"].isin([\n",
    "        \"baseline_2019\", \"today_2024\", \"future_2030\"\n",
    "    ])\n",
    "]\n",
    "\n",
    "df_table[\"case\"] = df_table[\"case\"].replace({ \n",
    "    \"baseline_2019\": \"Baseline 2019\",\n",
    "    \"today_2024\": \"Today 2024\",\n",
    "    \"future_2030\": \"Future 2030\"\n",
    "})\n",
    "\n",
    "df_table = df_table[[\n",
    "    \"case\",\n",
    "    \"parcels\",\n",
    "    \"thermic_parcels\",\n",
    "    \"electric_parcels\",\n",
    "    \"vehicles\",\n",
    "    \"thermic_vehicles\",\n",
    "    \"electric_vehicles\",\n",
    "    \"distance_km\",\n",
    "    \"thermic_distance_km\",\n",
    "    \"electric_distance_km\",\n",
    "    \"total_cost_EUR\",\n",
    "    \"cost_per_delivery_EUR\",\n",
    "    \"cost_per_distance_EUR_km\",\n",
    "    \"fuel_L\",\n",
    "    \"electricity_kWh\",\n",
    "    \"energy_kWh\",\n",
    "    \"co2eq_kg\",\n",
    "]]\n",
    "\n",
    "df_table = df_table.rename(columns = {\n",
    "    \"parcels\": \"Delivered parcels\",\n",
    "    \"thermic_parcels\": \"\\\\hspace{0.2cm}ICV\",\n",
    "    \"electric_parcels\": \"\\\\hspace{0.2cm}BEV\",\n",
    "    \"vehicles\": \"Vehicles\",\n",
    "    \"thermic_vehicles\": \"\\\\hspace{0.2cm}ICV\",\n",
    "    \"electric_vehicles\": \"\\\\hspace{0.2cm}BEV\",\n",
    "    \"distance_km\": \"Distance [km]\",\n",
    "    \"thermic_distance_km\": \"\\\\hspace{0.2cm}ICV\",\n",
    "    \"electric_distance_km\": \"\\\\hspace{0.2cm}BEV\",\n",
    "    \"fuel_L\": \"Fuel [L]\",\n",
    "    \"electricity_kWh\": \"Electricity [kWh]\",\n",
    "    \"energy_kWh\": \"Energy [kWh]\",\n",
    "    \"co2eq_kg\": \"Emissions [kgCO2eq]\",\n",
    "    \"total_cost_EUR\": \"Cost per day [EUR]\",\n",
    "    \"cost_per_delivery_EUR\": \"Cost per shipment [EUR]\",\n",
    "    \"cost_per_distance_EUR_km\": \"Cost per kilometer [EUR]\",\n",
    "})\n",
    "\n",
    "df_table.columns = [\n",
    "    re.sub(r\"\\[(.+?)\\]\", \"\\\\\\\\footnotesize{[\\\\1]}\", c)\n",
    "    for c in df_table.columns\n",
    "]\n",
    "\n",
    "df_table = df_table.set_index(\"case\").T\n",
    "\n",
    "df_table = df_table.style.format(thousands = \",\", precision = 0) # .hide(axis = \"index\")\n",
    "\n",
    "selector = (\n",
    "    df_table.index.str.startswith(\"Cost per shipment\") | df_table.index.str.startswith(\"Cost per kilo\"), \n",
    "    df_table.columns\n",
    ")\n",
    "\n",
    "df_table = df_table.format(precision = 2, subset = selector)\n",
    "\n",
    "with open(tables_path / \"baseline.tex\", \"w+\") as f:\n",
    "    table = df_table.to_latex(\n",
    "        caption = \"Business-as-usual results\", label = \"tab:bau_results\", hrules = True)\n",
    "    #table = table.replace(\"$\\\\sum$\", \"\\\\midrule\\n$\\\\sum$\")\n",
    "    table = table.replace(\"\\\\begin{table}\", \"\\\\begin{table}\\n\\\\centering\")\n",
    "\n",
    "    table = table.replace(\"Vehicles\", \"\\\\midrule\\nVehicles\")\n",
    "    table = table.replace(\"Distance\", \"\\\\midrule\\nDistance\")\n",
    "    table = table.replace(\"Fuel\", \"\\\\midrule\\nFuel\")\n",
    "    table = table.replace(\"Energy\", \"\\\\midrule\\nEnergy\")\n",
    "    table = table.replace(\"Cost per day\", \"\\\\midrule\\nCost per day\")\n",
    "    table = table.replace(\"case\", \"\")\n",
    "\n",
    "    f.write(table)\n",
    "\n",
    "df_table"
   ]
  },
  {
   "cell_type": "code",
   "execution_count": 85,
   "metadata": {},
   "outputs": [
    {
     "data": {
      "application/vnd.plotly.v1+json": {
       "config": {
        "plotlyServerURL": "https://plot.ly"
       },
       "data": [
        {
         "line": {
          "color": "black"
         },
         "mode": "lines+markers+text",
         "name": "BAU",
         "text": [
          "2019",
          "2024",
          "2030"
         ],
         "textposition": "middle right",
         "type": "scatter",
         "x": [
          2.2219804322820003,
          2.8946566228356003,
          4.356876341637199
         ],
         "y": [
          1.5356682585971575,
          1.4483187370042838,
          1.347803223216167
         ]
        },
        {
         "line": {
          "color": "#636EFA"
         },
         "mode": "lines+markers+text",
         "name": "Carbon tax",
         "text": [
          "",
          "100EUR",
          "200EUR",
          "500EUR",
          "750EUR",
          "1000EUR",
          "1500EUR",
          "2000EUR"
         ],
         "textfont": {
          "color": "#636EFA"
         },
         "textposition": "top right",
         "type": "scatter",
         "x": [
          4.356876341637199,
          4.259314463656399,
          4.1092458333308,
          3.7429480699584,
          3.2408769820052,
          2.7119516245260002,
          1.8682179047644,
          1.3941655234526
         ],
         "y": [
          1.347803223216167,
          1.3557344281293424,
          1.3646642486501896,
          1.3854838483215868,
          1.4028314307793803,
          1.4163165295174036,
          1.437781602049477,
          1.4518652722209762
         ]
        },
        {
         "line": {
          "color": "#EF553B"
         },
         "mode": "lines+markers+text",
         "name": "ICV tax",
         "text": [
          "",
          "+20%",
          "+50%",
          "+75%",
          "+100%"
         ],
         "textfont": {
          "color": "#EF553B"
         },
         "textposition": "bottom center",
         "type": "scatter",
         "x": [
          4.356876341637199,
          3.7366817312566005,
          3.3131130290356,
          2.4455358374806,
          0.811584309039
         ],
         "y": [
          1.347803223216167,
          1.3744617597486144,
          1.3998693259685284,
          1.4185738022096306,
          1.4269805683458219
         ]
        },
        {
         "line": {
          "color": "#00CC96"
         },
         "marker": {
          "size": 7
         },
         "mode": "markers+text",
         "name": "Qualitative",
         "text": [
          "Cost parity",
          "Full Electric",
          "eLEZ"
         ],
         "textfont": {
          "color": "#00CC96"
         },
         "textposition": [
          "top right",
          "top right",
          "bottom center"
         ],
         "type": "scatter",
         "x": {
          "bdata": "QWzQMSa74j8/h99an/7iP9kV5/hsugVA",
          "dtype": "f8"
         },
         "y": {
          "bdata": "x940c4ws9T8S+1FVaNj2P5o2vpyrkPY/",
          "dtype": "f8"
         }
        }
       ],
       "layout": {
        "height": 300,
        "margin": {
         "b": 0,
         "l": 0,
         "pad": 0,
         "r": 0,
         "t": 15
        },
        "template": {
         "data": {
          "bar": [
           {
            "error_x": {
             "color": "#2a3f5f"
            },
            "error_y": {
             "color": "#2a3f5f"
            },
            "marker": {
             "line": {
              "color": "#E5ECF6",
              "width": 0.5
             },
             "pattern": {
              "fillmode": "overlay",
              "size": 10,
              "solidity": 0.2
             }
            },
            "type": "bar"
           }
          ],
          "barpolar": [
           {
            "marker": {
             "line": {
              "color": "#E5ECF6",
              "width": 0.5
             },
             "pattern": {
              "fillmode": "overlay",
              "size": 10,
              "solidity": 0.2
             }
            },
            "type": "barpolar"
           }
          ],
          "carpet": [
           {
            "aaxis": {
             "endlinecolor": "#2a3f5f",
             "gridcolor": "white",
             "linecolor": "white",
             "minorgridcolor": "white",
             "startlinecolor": "#2a3f5f"
            },
            "baxis": {
             "endlinecolor": "#2a3f5f",
             "gridcolor": "white",
             "linecolor": "white",
             "minorgridcolor": "white",
             "startlinecolor": "#2a3f5f"
            },
            "type": "carpet"
           }
          ],
          "choropleth": [
           {
            "colorbar": {
             "outlinewidth": 0,
             "ticks": ""
            },
            "type": "choropleth"
           }
          ],
          "contour": [
           {
            "colorbar": {
             "outlinewidth": 0,
             "ticks": ""
            },
            "colorscale": [
             [
              0,
              "#0d0887"
             ],
             [
              0.1111111111111111,
              "#46039f"
             ],
             [
              0.2222222222222222,
              "#7201a8"
             ],
             [
              0.3333333333333333,
              "#9c179e"
             ],
             [
              0.4444444444444444,
              "#bd3786"
             ],
             [
              0.5555555555555556,
              "#d8576b"
             ],
             [
              0.6666666666666666,
              "#ed7953"
             ],
             [
              0.7777777777777778,
              "#fb9f3a"
             ],
             [
              0.8888888888888888,
              "#fdca26"
             ],
             [
              1,
              "#f0f921"
             ]
            ],
            "type": "contour"
           }
          ],
          "contourcarpet": [
           {
            "colorbar": {
             "outlinewidth": 0,
             "ticks": ""
            },
            "type": "contourcarpet"
           }
          ],
          "heatmap": [
           {
            "colorbar": {
             "outlinewidth": 0,
             "ticks": ""
            },
            "colorscale": [
             [
              0,
              "#0d0887"
             ],
             [
              0.1111111111111111,
              "#46039f"
             ],
             [
              0.2222222222222222,
              "#7201a8"
             ],
             [
              0.3333333333333333,
              "#9c179e"
             ],
             [
              0.4444444444444444,
              "#bd3786"
             ],
             [
              0.5555555555555556,
              "#d8576b"
             ],
             [
              0.6666666666666666,
              "#ed7953"
             ],
             [
              0.7777777777777778,
              "#fb9f3a"
             ],
             [
              0.8888888888888888,
              "#fdca26"
             ],
             [
              1,
              "#f0f921"
             ]
            ],
            "type": "heatmap"
           }
          ],
          "histogram": [
           {
            "marker": {
             "pattern": {
              "fillmode": "overlay",
              "size": 10,
              "solidity": 0.2
             }
            },
            "type": "histogram"
           }
          ],
          "histogram2d": [
           {
            "colorbar": {
             "outlinewidth": 0,
             "ticks": ""
            },
            "colorscale": [
             [
              0,
              "#0d0887"
             ],
             [
              0.1111111111111111,
              "#46039f"
             ],
             [
              0.2222222222222222,
              "#7201a8"
             ],
             [
              0.3333333333333333,
              "#9c179e"
             ],
             [
              0.4444444444444444,
              "#bd3786"
             ],
             [
              0.5555555555555556,
              "#d8576b"
             ],
             [
              0.6666666666666666,
              "#ed7953"
             ],
             [
              0.7777777777777778,
              "#fb9f3a"
             ],
             [
              0.8888888888888888,
              "#fdca26"
             ],
             [
              1,
              "#f0f921"
             ]
            ],
            "type": "histogram2d"
           }
          ],
          "histogram2dcontour": [
           {
            "colorbar": {
             "outlinewidth": 0,
             "ticks": ""
            },
            "colorscale": [
             [
              0,
              "#0d0887"
             ],
             [
              0.1111111111111111,
              "#46039f"
             ],
             [
              0.2222222222222222,
              "#7201a8"
             ],
             [
              0.3333333333333333,
              "#9c179e"
             ],
             [
              0.4444444444444444,
              "#bd3786"
             ],
             [
              0.5555555555555556,
              "#d8576b"
             ],
             [
              0.6666666666666666,
              "#ed7953"
             ],
             [
              0.7777777777777778,
              "#fb9f3a"
             ],
             [
              0.8888888888888888,
              "#fdca26"
             ],
             [
              1,
              "#f0f921"
             ]
            ],
            "type": "histogram2dcontour"
           }
          ],
          "mesh3d": [
           {
            "colorbar": {
             "outlinewidth": 0,
             "ticks": ""
            },
            "type": "mesh3d"
           }
          ],
          "parcoords": [
           {
            "line": {
             "colorbar": {
              "outlinewidth": 0,
              "ticks": ""
             }
            },
            "type": "parcoords"
           }
          ],
          "pie": [
           {
            "automargin": true,
            "type": "pie"
           }
          ],
          "scatter": [
           {
            "fillpattern": {
             "fillmode": "overlay",
             "size": 10,
             "solidity": 0.2
            },
            "type": "scatter"
           }
          ],
          "scatter3d": [
           {
            "line": {
             "colorbar": {
              "outlinewidth": 0,
              "ticks": ""
             }
            },
            "marker": {
             "colorbar": {
              "outlinewidth": 0,
              "ticks": ""
             }
            },
            "type": "scatter3d"
           }
          ],
          "scattercarpet": [
           {
            "marker": {
             "colorbar": {
              "outlinewidth": 0,
              "ticks": ""
             }
            },
            "type": "scattercarpet"
           }
          ],
          "scattergeo": [
           {
            "marker": {
             "colorbar": {
              "outlinewidth": 0,
              "ticks": ""
             }
            },
            "type": "scattergeo"
           }
          ],
          "scattergl": [
           {
            "marker": {
             "colorbar": {
              "outlinewidth": 0,
              "ticks": ""
             }
            },
            "type": "scattergl"
           }
          ],
          "scattermap": [
           {
            "marker": {
             "colorbar": {
              "outlinewidth": 0,
              "ticks": ""
             }
            },
            "type": "scattermap"
           }
          ],
          "scattermapbox": [
           {
            "marker": {
             "colorbar": {
              "outlinewidth": 0,
              "ticks": ""
             }
            },
            "type": "scattermapbox"
           }
          ],
          "scatterpolar": [
           {
            "marker": {
             "colorbar": {
              "outlinewidth": 0,
              "ticks": ""
             }
            },
            "type": "scatterpolar"
           }
          ],
          "scatterpolargl": [
           {
            "marker": {
             "colorbar": {
              "outlinewidth": 0,
              "ticks": ""
             }
            },
            "type": "scatterpolargl"
           }
          ],
          "scatterternary": [
           {
            "marker": {
             "colorbar": {
              "outlinewidth": 0,
              "ticks": ""
             }
            },
            "type": "scatterternary"
           }
          ],
          "surface": [
           {
            "colorbar": {
             "outlinewidth": 0,
             "ticks": ""
            },
            "colorscale": [
             [
              0,
              "#0d0887"
             ],
             [
              0.1111111111111111,
              "#46039f"
             ],
             [
              0.2222222222222222,
              "#7201a8"
             ],
             [
              0.3333333333333333,
              "#9c179e"
             ],
             [
              0.4444444444444444,
              "#bd3786"
             ],
             [
              0.5555555555555556,
              "#d8576b"
             ],
             [
              0.6666666666666666,
              "#ed7953"
             ],
             [
              0.7777777777777778,
              "#fb9f3a"
             ],
             [
              0.8888888888888888,
              "#fdca26"
             ],
             [
              1,
              "#f0f921"
             ]
            ],
            "type": "surface"
           }
          ],
          "table": [
           {
            "cells": {
             "fill": {
              "color": "#EBF0F8"
             },
             "line": {
              "color": "white"
             }
            },
            "header": {
             "fill": {
              "color": "#C8D4E3"
             },
             "line": {
              "color": "white"
             }
            },
            "type": "table"
           }
          ]
         },
         "layout": {
          "annotationdefaults": {
           "arrowcolor": "#2a3f5f",
           "arrowhead": 0,
           "arrowwidth": 1
          },
          "autotypenumbers": "strict",
          "coloraxis": {
           "colorbar": {
            "outlinewidth": 0,
            "ticks": ""
           }
          },
          "colorscale": {
           "diverging": [
            [
             0,
             "#8e0152"
            ],
            [
             0.1,
             "#c51b7d"
            ],
            [
             0.2,
             "#de77ae"
            ],
            [
             0.3,
             "#f1b6da"
            ],
            [
             0.4,
             "#fde0ef"
            ],
            [
             0.5,
             "#f7f7f7"
            ],
            [
             0.6,
             "#e6f5d0"
            ],
            [
             0.7,
             "#b8e186"
            ],
            [
             0.8,
             "#7fbc41"
            ],
            [
             0.9,
             "#4d9221"
            ],
            [
             1,
             "#276419"
            ]
           ],
           "sequential": [
            [
             0,
             "#0d0887"
            ],
            [
             0.1111111111111111,
             "#46039f"
            ],
            [
             0.2222222222222222,
             "#7201a8"
            ],
            [
             0.3333333333333333,
             "#9c179e"
            ],
            [
             0.4444444444444444,
             "#bd3786"
            ],
            [
             0.5555555555555556,
             "#d8576b"
            ],
            [
             0.6666666666666666,
             "#ed7953"
            ],
            [
             0.7777777777777778,
             "#fb9f3a"
            ],
            [
             0.8888888888888888,
             "#fdca26"
            ],
            [
             1,
             "#f0f921"
            ]
           ],
           "sequentialminus": [
            [
             0,
             "#0d0887"
            ],
            [
             0.1111111111111111,
             "#46039f"
            ],
            [
             0.2222222222222222,
             "#7201a8"
            ],
            [
             0.3333333333333333,
             "#9c179e"
            ],
            [
             0.4444444444444444,
             "#bd3786"
            ],
            [
             0.5555555555555556,
             "#d8576b"
            ],
            [
             0.6666666666666666,
             "#ed7953"
            ],
            [
             0.7777777777777778,
             "#fb9f3a"
            ],
            [
             0.8888888888888888,
             "#fdca26"
            ],
            [
             1,
             "#f0f921"
            ]
           ]
          },
          "colorway": [
           "#636efa",
           "#EF553B",
           "#00cc96",
           "#ab63fa",
           "#FFA15A",
           "#19d3f3",
           "#FF6692",
           "#B6E880",
           "#FF97FF",
           "#FECB52"
          ],
          "font": {
           "color": "#2a3f5f"
          },
          "geo": {
           "bgcolor": "white",
           "lakecolor": "white",
           "landcolor": "#E5ECF6",
           "showlakes": true,
           "showland": true,
           "subunitcolor": "white"
          },
          "hoverlabel": {
           "align": "left"
          },
          "hovermode": "closest",
          "mapbox": {
           "style": "light"
          },
          "paper_bgcolor": "white",
          "plot_bgcolor": "#E5ECF6",
          "polar": {
           "angularaxis": {
            "gridcolor": "white",
            "linecolor": "white",
            "ticks": ""
           },
           "bgcolor": "#E5ECF6",
           "radialaxis": {
            "gridcolor": "white",
            "linecolor": "white",
            "ticks": ""
           }
          },
          "scene": {
           "xaxis": {
            "backgroundcolor": "#E5ECF6",
            "gridcolor": "white",
            "gridwidth": 2,
            "linecolor": "white",
            "showbackground": true,
            "ticks": "",
            "zerolinecolor": "white"
           },
           "yaxis": {
            "backgroundcolor": "#E5ECF6",
            "gridcolor": "white",
            "gridwidth": 2,
            "linecolor": "white",
            "showbackground": true,
            "ticks": "",
            "zerolinecolor": "white"
           },
           "zaxis": {
            "backgroundcolor": "#E5ECF6",
            "gridcolor": "white",
            "gridwidth": 2,
            "linecolor": "white",
            "showbackground": true,
            "ticks": "",
            "zerolinecolor": "white"
           }
          },
          "shapedefaults": {
           "line": {
            "color": "#2a3f5f"
           }
          },
          "ternary": {
           "aaxis": {
            "gridcolor": "white",
            "linecolor": "white",
            "ticks": ""
           },
           "baxis": {
            "gridcolor": "white",
            "linecolor": "white",
            "ticks": ""
           },
           "bgcolor": "#E5ECF6",
           "caxis": {
            "gridcolor": "white",
            "linecolor": "white",
            "ticks": ""
           }
          },
          "title": {
           "x": 0.05
          },
          "xaxis": {
           "automargin": true,
           "gridcolor": "white",
           "linecolor": "white",
           "ticks": "",
           "title": {
            "standoff": 15
           },
           "zerolinecolor": "white",
           "zerolinewidth": 2
          },
          "yaxis": {
           "automargin": true,
           "gridcolor": "white",
           "linecolor": "white",
           "ticks": "",
           "title": {
            "standoff": 15
           },
           "zerolinecolor": "white",
           "zerolinewidth": 2
          }
         }
        },
        "width": 600,
        "xaxis": {
         "range": [
          0.5,
          4.78
         ],
         "title": {
          "text": "Daily emissions [tCO2eq]"
         }
        },
        "yaxis": {
         "range": [
          1.3,
          1.55
         ],
         "title": {
          "text": "Cost per parcel [EUR]"
         }
        }
       }
      }
     },
     "metadata": {},
     "output_type": "display_data"
    }
   ],
   "source": [
    "# Prepare key plot of the paper showing the BAU and policy scenarios\n",
    "colors = px.colors.qualitative.Plotly\n",
    "co2_scale = 1e-3 # 1e-3 * 202\n",
    "\n",
    "df_co2 = df_cases[df_cases[\"case\"].str.contains(\"co2\")].copy()\n",
    "df_co2[\"price\"] = df_co2[\"case\"].apply(lambda x: x.split(\"_\")[-1])\n",
    "\n",
    "df_thermic = df_cases[df_cases[\"case\"].str.contains(\"thermic\")].copy()\n",
    "df_thermic[\"tax\"] = df_thermic[\"case\"].apply(lambda x: \"+\" + x.split(\"_\")[-1].replace(\"pct\", \"%\"))\n",
    "\n",
    "df_2030 = df_cases[df_cases[\"case\"] == \"future_2030\"]\n",
    "co2_2030 = df_2030[\"co2eq_kg\"].values[0]\n",
    "cost_2030 = df_2030[\"cost_per_delivery_EUR\"].values[0]\n",
    "\n",
    "df_2019 = df_cases[df_cases[\"case\"] == \"baseline_2019\"]\n",
    "co2_2019 = df_2019[\"co2eq_kg\"].values[0]\n",
    "cost_2019 = df_2019[\"cost_per_delivery_EUR\"].values[0]\n",
    "\n",
    "df_2024 = df_cases[df_cases[\"case\"] == \"today_2024\"]\n",
    "co2_2024 = df_2024[\"co2eq_kg\"].values[0]\n",
    "cost_2024 = df_2024[\"cost_per_delivery_EUR\"].values[0]\n",
    "\n",
    "df_qualitative = df_cases[df_cases[\"case\"].isin([\n",
    "    \"policy_elez\", \"policy_electric\", \"policy_cost_parity\", \"policy_cost_parity_high_range\"\n",
    "])].sort_values(by = \"case\")\n",
    "\n",
    "figure = go.Figure()\n",
    "\n",
    "#figure.add_trace(go.Scatter(\n",
    "#    x = [df_2019[\"co2eq_kg\"].values[0] * co2_scale],\n",
    "#    y = [1.51],\n",
    "#    mode = \"lines+text\", text = [\" 2019 Emissions  <br />({:.2f} EUR)  \".format(cost_2024)],\n",
    "#    line_color = \"#AAAAAA\", textposition = \"middle left\",\n",
    "#    showlegend = False, textfont = dict(color = \"#AAAAAA\")\n",
    "#))\n",
    "\n",
    "#figure.add_trace(go.Scatter(\n",
    "#    x = [df_2019[\"co2eq_kg\"].values[0] * co2_scale] * 2,\n",
    "#    y = [0.0, 1.65],\n",
    "#    mode = \"lines\",\n",
    "#    line_color = \"#AAAAAA\", line_dash = \"dot\",\n",
    "#    showlegend = False\n",
    "#))\n",
    "\n",
    "figure.add_trace(go.Scatter(\n",
    "    x = [co2_2019 * co2_scale, co2_2024 * co2_scale, co2_2030 * co2_scale],\n",
    "    y = [cost_2019, cost_2024, cost_2030], line_color = \"black\",\n",
    "    mode=\"lines+markers+text\",\n",
    "    text = [\"2019\", \"2024\", \"2030\"], textposition = \"middle right\",\n",
    "    name = \"BAU\"\n",
    "))\n",
    "\n",
    "figure.add_trace(go.Scatter(\n",
    "    x = [co2_2030 * co2_scale] + list(df_co2[\"co2eq_kg\"] * co2_scale),\n",
    "    y = [cost_2030] + list(df_co2[\"cost_per_delivery_EUR\"]),\n",
    "    mode=\"lines+markers+text\",\n",
    "    text = [\"\"] + list(df_co2[\"price\"]), textposition = \"top right\",\n",
    "    name = \"Carbon tax\", line_color = colors[0], textfont = dict(color = colors[0])\n",
    "))\n",
    "\n",
    "figure.add_trace(go.Scatter(\n",
    "    x = [co2_2030 * co2_scale] + list(df_thermic[\"co2eq_kg\"] * co2_scale),\n",
    "    y = [cost_2030] + list(df_thermic[\"cost_per_delivery_EUR\"]),\n",
    "    mode=\"lines+markers+text\",\n",
    "    text = [\"\"] + list(df_thermic[\"tax\"]), textposition = \"bottom center\",\n",
    "    name = \"ICV tax\", line_color = colors[1], textfont = dict(color = colors[1])\n",
    "))\n",
    "\n",
    "figure.add_trace(go.Scatter(\n",
    "    x = df_qualitative[\"co2eq_kg\"] * co2_scale,\n",
    "    y = df_qualitative[\"cost_per_delivery_EUR\"],\n",
    "    mode=\"markers+text\",\n",
    "    text = [\"Cost parity\", \"Full Electric\", \"eLEZ\"], textposition = [\"top right\", \"top right\", \"bottom center\"],\n",
    "    name = \"Qualitative\", marker = dict(size = 7), line_color = colors[2],\n",
    "    textfont = dict(color = colors[2])\n",
    "))\n",
    "\n",
    "figure.update_layout(\n",
    "    xaxis_title = \"Daily emissions [tCO2eq]\",\n",
    "    yaxis_title = \"Cost per parcel [EUR]\",\n",
    "    yaxis_range = [1.3, 1.55],\n",
    "    xaxis_range = [0.5, 4.78],\n",
    "    width = 600, height = 300,\n",
    "    margin = dict(l = 0, r = 0, b = 0, t = 15, pad = 0)\n",
    ")\n",
    "\n",
    "figure.write_image(figures_path / \"scenario_results.pdf\")\n",
    "figure"
   ]
  },
  {
   "cell_type": "code",
   "execution_count": 86,
   "metadata": {},
   "outputs": [
    {
     "data": {
      "application/vnd.plotly.v1+json": {
       "config": {
        "plotlyServerURL": "https://plot.ly"
       },
       "data": [
        {
         "hovertemplate": "Retries=1<br>Shipments=%{x}<br>Solution time [h]=%{y}<extra></extra>",
         "legendgroup": "1",
         "marker": {
          "color": "#636efa",
          "symbol": "circle"
         },
         "mode": "markers",
         "name": "1",
         "showlegend": true,
         "type": "scattergl",
         "x": {
          "bdata": "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",
          "dtype": "i2"
         },
         "xaxis": "x",
         "y": {
          "bdata": "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",
          "dtype": "f8"
         },
         "yaxis": "y"
        },
        {
         "hovertemplate": "Retries=2<br>Shipments=%{x}<br>Solution time [h]=%{y}<extra></extra>",
         "legendgroup": "2",
         "marker": {
          "color": "#EF553B",
          "symbol": "circle"
         },
         "mode": "markers",
         "name": "2",
         "showlegend": true,
         "type": "scattergl",
         "x": {
          "bdata": "FBJFETgSWhtFETgSWhtFETgSWhtFETgSWhtFETgSWhtFETgSWhtaG1obRRE4ElobRRE4ElobRRE4Er4MWhtFETgSvgxaG0URWhtFETgSvgxaG0UROBJaGw==",
          "dtype": "i2"
         },
         "xaxis": "x",
         "y": {
          "bdata": "XVaw7//iDUAjHsWIpqgRQDMNTvUCJxFAtWbccrkeIkCSwoDWmrkRQE9lPg0FuRFAxYYyBQl1IkDGUE60q1ARQPkEdiKuuRFAc9CHo/pMIkDM5z51+1YRQCub/TK2sxFA6NCtiDjZIkDWOQZkr48RQK6Hfs+E1RFAAmYNQN+lIkBZJBPdoFsRQAGl8AJhdhFA2jrWUBtjIkCrdfU9/TYiQJQLqEpu1yFAdl00s/gREUBr/z+dVOgQQEmil1EsMyFAuWpPZ7KgEEAV+J05/pYQQEd+m4maSiFAnLA5Vot0EEA3pics8YgQQHnZnHCcYf8/4eCWQOhIIUApusx0YI8QQLN8rEI/2hBAt7rrzk9A/j8/2sMPbEwhQHCBBMWPkQZAIvcluYddEkDhE9iJuG4QQDvJ9A/T/A9APY75kwvI/T/WZbxeOCMhQAqqM+TFzxBA5DfUUUpPEEC9NPbDkz4hQA==",
          "dtype": "f8"
         },
         "yaxis": "y"
        }
       ],
       "layout": {
        "height": 200,
        "legend": {
         "title": {
          "text": "Retries"
         },
         "tracegroupgap": 0
        },
        "margin": {
         "b": 0,
         "l": 0,
         "pad": 0,
         "r": 0,
         "t": 0
        },
        "template": {
         "data": {
          "bar": [
           {
            "error_x": {
             "color": "#2a3f5f"
            },
            "error_y": {
             "color": "#2a3f5f"
            },
            "marker": {
             "line": {
              "color": "#E5ECF6",
              "width": 0.5
             },
             "pattern": {
              "fillmode": "overlay",
              "size": 10,
              "solidity": 0.2
             }
            },
            "type": "bar"
           }
          ],
          "barpolar": [
           {
            "marker": {
             "line": {
              "color": "#E5ECF6",
              "width": 0.5
             },
             "pattern": {
              "fillmode": "overlay",
              "size": 10,
              "solidity": 0.2
             }
            },
            "type": "barpolar"
           }
          ],
          "carpet": [
           {
            "aaxis": {
             "endlinecolor": "#2a3f5f",
             "gridcolor": "white",
             "linecolor": "white",
             "minorgridcolor": "white",
             "startlinecolor": "#2a3f5f"
            },
            "baxis": {
             "endlinecolor": "#2a3f5f",
             "gridcolor": "white",
             "linecolor": "white",
             "minorgridcolor": "white",
             "startlinecolor": "#2a3f5f"
            },
            "type": "carpet"
           }
          ],
          "choropleth": [
           {
            "colorbar": {
             "outlinewidth": 0,
             "ticks": ""
            },
            "type": "choropleth"
           }
          ],
          "contour": [
           {
            "colorbar": {
             "outlinewidth": 0,
             "ticks": ""
            },
            "colorscale": [
             [
              0,
              "#0d0887"
             ],
             [
              0.1111111111111111,
              "#46039f"
             ],
             [
              0.2222222222222222,
              "#7201a8"
             ],
             [
              0.3333333333333333,
              "#9c179e"
             ],
             [
              0.4444444444444444,
              "#bd3786"
             ],
             [
              0.5555555555555556,
              "#d8576b"
             ],
             [
              0.6666666666666666,
              "#ed7953"
             ],
             [
              0.7777777777777778,
              "#fb9f3a"
             ],
             [
              0.8888888888888888,
              "#fdca26"
             ],
             [
              1,
              "#f0f921"
             ]
            ],
            "type": "contour"
           }
          ],
          "contourcarpet": [
           {
            "colorbar": {
             "outlinewidth": 0,
             "ticks": ""
            },
            "type": "contourcarpet"
           }
          ],
          "heatmap": [
           {
            "colorbar": {
             "outlinewidth": 0,
             "ticks": ""
            },
            "colorscale": [
             [
              0,
              "#0d0887"
             ],
             [
              0.1111111111111111,
              "#46039f"
             ],
             [
              0.2222222222222222,
              "#7201a8"
             ],
             [
              0.3333333333333333,
              "#9c179e"
             ],
             [
              0.4444444444444444,
              "#bd3786"
             ],
             [
              0.5555555555555556,
              "#d8576b"
             ],
             [
              0.6666666666666666,
              "#ed7953"
             ],
             [
              0.7777777777777778,
              "#fb9f3a"
             ],
             [
              0.8888888888888888,
              "#fdca26"
             ],
             [
              1,
              "#f0f921"
             ]
            ],
            "type": "heatmap"
           }
          ],
          "histogram": [
           {
            "marker": {
             "pattern": {
              "fillmode": "overlay",
              "size": 10,
              "solidity": 0.2
             }
            },
            "type": "histogram"
           }
          ],
          "histogram2d": [
           {
            "colorbar": {
             "outlinewidth": 0,
             "ticks": ""
            },
            "colorscale": [
             [
              0,
              "#0d0887"
             ],
             [
              0.1111111111111111,
              "#46039f"
             ],
             [
              0.2222222222222222,
              "#7201a8"
             ],
             [
              0.3333333333333333,
              "#9c179e"
             ],
             [
              0.4444444444444444,
              "#bd3786"
             ],
             [
              0.5555555555555556,
              "#d8576b"
             ],
             [
              0.6666666666666666,
              "#ed7953"
             ],
             [
              0.7777777777777778,
              "#fb9f3a"
             ],
             [
              0.8888888888888888,
              "#fdca26"
             ],
             [
              1,
              "#f0f921"
             ]
            ],
            "type": "histogram2d"
           }
          ],
          "histogram2dcontour": [
           {
            "colorbar": {
             "outlinewidth": 0,
             "ticks": ""
            },
            "colorscale": [
             [
              0,
              "#0d0887"
             ],
             [
              0.1111111111111111,
              "#46039f"
             ],
             [
              0.2222222222222222,
              "#7201a8"
             ],
             [
              0.3333333333333333,
              "#9c179e"
             ],
             [
              0.4444444444444444,
              "#bd3786"
             ],
             [
              0.5555555555555556,
              "#d8576b"
             ],
             [
              0.6666666666666666,
              "#ed7953"
             ],
             [
              0.7777777777777778,
              "#fb9f3a"
             ],
             [
              0.8888888888888888,
              "#fdca26"
             ],
             [
              1,
              "#f0f921"
             ]
            ],
            "type": "histogram2dcontour"
           }
          ],
          "mesh3d": [
           {
            "colorbar": {
             "outlinewidth": 0,
             "ticks": ""
            },
            "type": "mesh3d"
           }
          ],
          "parcoords": [
           {
            "line": {
             "colorbar": {
              "outlinewidth": 0,
              "ticks": ""
             }
            },
            "type": "parcoords"
           }
          ],
          "pie": [
           {
            "automargin": true,
            "type": "pie"
           }
          ],
          "scatter": [
           {
            "fillpattern": {
             "fillmode": "overlay",
             "size": 10,
             "solidity": 0.2
            },
            "type": "scatter"
           }
          ],
          "scatter3d": [
           {
            "line": {
             "colorbar": {
              "outlinewidth": 0,
              "ticks": ""
             }
            },
            "marker": {
             "colorbar": {
              "outlinewidth": 0,
              "ticks": ""
             }
            },
            "type": "scatter3d"
           }
          ],
          "scattercarpet": [
           {
            "marker": {
             "colorbar": {
              "outlinewidth": 0,
              "ticks": ""
             }
            },
            "type": "scattercarpet"
           }
          ],
          "scattergeo": [
           {
            "marker": {
             "colorbar": {
              "outlinewidth": 0,
              "ticks": ""
             }
            },
            "type": "scattergeo"
           }
          ],
          "scattergl": [
           {
            "marker": {
             "colorbar": {
              "outlinewidth": 0,
              "ticks": ""
             }
            },
            "type": "scattergl"
           }
          ],
          "scattermap": [
           {
            "marker": {
             "colorbar": {
              "outlinewidth": 0,
              "ticks": ""
             }
            },
            "type": "scattermap"
           }
          ],
          "scattermapbox": [
           {
            "marker": {
             "colorbar": {
              "outlinewidth": 0,
              "ticks": ""
             }
            },
            "type": "scattermapbox"
           }
          ],
          "scatterpolar": [
           {
            "marker": {
             "colorbar": {
              "outlinewidth": 0,
              "ticks": ""
             }
            },
            "type": "scatterpolar"
           }
          ],
          "scatterpolargl": [
           {
            "marker": {
             "colorbar": {
              "outlinewidth": 0,
              "ticks": ""
             }
            },
            "type": "scatterpolargl"
           }
          ],
          "scatterternary": [
           {
            "marker": {
             "colorbar": {
              "outlinewidth": 0,
              "ticks": ""
             }
            },
            "type": "scatterternary"
           }
          ],
          "surface": [
           {
            "colorbar": {
             "outlinewidth": 0,
             "ticks": ""
            },
            "colorscale": [
             [
              0,
              "#0d0887"
             ],
             [
              0.1111111111111111,
              "#46039f"
             ],
             [
              0.2222222222222222,
              "#7201a8"
             ],
             [
              0.3333333333333333,
              "#9c179e"
             ],
             [
              0.4444444444444444,
              "#bd3786"
             ],
             [
              0.5555555555555556,
              "#d8576b"
             ],
             [
              0.6666666666666666,
              "#ed7953"
             ],
             [
              0.7777777777777778,
              "#fb9f3a"
             ],
             [
              0.8888888888888888,
              "#fdca26"
             ],
             [
              1,
              "#f0f921"
             ]
            ],
            "type": "surface"
           }
          ],
          "table": [
           {
            "cells": {
             "fill": {
              "color": "#EBF0F8"
             },
             "line": {
              "color": "white"
             }
            },
            "header": {
             "fill": {
              "color": "#C8D4E3"
             },
             "line": {
              "color": "white"
             }
            },
            "type": "table"
           }
          ]
         },
         "layout": {
          "annotationdefaults": {
           "arrowcolor": "#2a3f5f",
           "arrowhead": 0,
           "arrowwidth": 1
          },
          "autotypenumbers": "strict",
          "coloraxis": {
           "colorbar": {
            "outlinewidth": 0,
            "ticks": ""
           }
          },
          "colorscale": {
           "diverging": [
            [
             0,
             "#8e0152"
            ],
            [
             0.1,
             "#c51b7d"
            ],
            [
             0.2,
             "#de77ae"
            ],
            [
             0.3,
             "#f1b6da"
            ],
            [
             0.4,
             "#fde0ef"
            ],
            [
             0.5,
             "#f7f7f7"
            ],
            [
             0.6,
             "#e6f5d0"
            ],
            [
             0.7,
             "#b8e186"
            ],
            [
             0.8,
             "#7fbc41"
            ],
            [
             0.9,
             "#4d9221"
            ],
            [
             1,
             "#276419"
            ]
           ],
           "sequential": [
            [
             0,
             "#0d0887"
            ],
            [
             0.1111111111111111,
             "#46039f"
            ],
            [
             0.2222222222222222,
             "#7201a8"
            ],
            [
             0.3333333333333333,
             "#9c179e"
            ],
            [
             0.4444444444444444,
             "#bd3786"
            ],
            [
             0.5555555555555556,
             "#d8576b"
            ],
            [
             0.6666666666666666,
             "#ed7953"
            ],
            [
             0.7777777777777778,
             "#fb9f3a"
            ],
            [
             0.8888888888888888,
             "#fdca26"
            ],
            [
             1,
             "#f0f921"
            ]
           ],
           "sequentialminus": [
            [
             0,
             "#0d0887"
            ],
            [
             0.1111111111111111,
             "#46039f"
            ],
            [
             0.2222222222222222,
             "#7201a8"
            ],
            [
             0.3333333333333333,
             "#9c179e"
            ],
            [
             0.4444444444444444,
             "#bd3786"
            ],
            [
             0.5555555555555556,
             "#d8576b"
            ],
            [
             0.6666666666666666,
             "#ed7953"
            ],
            [
             0.7777777777777778,
             "#fb9f3a"
            ],
            [
             0.8888888888888888,
             "#fdca26"
            ],
            [
             1,
             "#f0f921"
            ]
           ]
          },
          "colorway": [
           "#636efa",
           "#EF553B",
           "#00cc96",
           "#ab63fa",
           "#FFA15A",
           "#19d3f3",
           "#FF6692",
           "#B6E880",
           "#FF97FF",
           "#FECB52"
          ],
          "font": {
           "color": "#2a3f5f"
          },
          "geo": {
           "bgcolor": "white",
           "lakecolor": "white",
           "landcolor": "#E5ECF6",
           "showlakes": true,
           "showland": true,
           "subunitcolor": "white"
          },
          "hoverlabel": {
           "align": "left"
          },
          "hovermode": "closest",
          "mapbox": {
           "style": "light"
          },
          "paper_bgcolor": "white",
          "plot_bgcolor": "#E5ECF6",
          "polar": {
           "angularaxis": {
            "gridcolor": "white",
            "linecolor": "white",
            "ticks": ""
           },
           "bgcolor": "#E5ECF6",
           "radialaxis": {
            "gridcolor": "white",
            "linecolor": "white",
            "ticks": ""
           }
          },
          "scene": {
           "xaxis": {
            "backgroundcolor": "#E5ECF6",
            "gridcolor": "white",
            "gridwidth": 2,
            "linecolor": "white",
            "showbackground": true,
            "ticks": "",
            "zerolinecolor": "white"
           },
           "yaxis": {
            "backgroundcolor": "#E5ECF6",
            "gridcolor": "white",
            "gridwidth": 2,
            "linecolor": "white",
            "showbackground": true,
            "ticks": "",
            "zerolinecolor": "white"
           },
           "zaxis": {
            "backgroundcolor": "#E5ECF6",
            "gridcolor": "white",
            "gridwidth": 2,
            "linecolor": "white",
            "showbackground": true,
            "ticks": "",
            "zerolinecolor": "white"
           }
          },
          "shapedefaults": {
           "line": {
            "color": "#2a3f5f"
           }
          },
          "ternary": {
           "aaxis": {
            "gridcolor": "white",
            "linecolor": "white",
            "ticks": ""
           },
           "baxis": {
            "gridcolor": "white",
            "linecolor": "white",
            "ticks": ""
           },
           "bgcolor": "#E5ECF6",
           "caxis": {
            "gridcolor": "white",
            "linecolor": "white",
            "ticks": ""
           }
          },
          "title": {
           "x": 0.05
          },
          "xaxis": {
           "automargin": true,
           "gridcolor": "white",
           "linecolor": "white",
           "ticks": "",
           "title": {
            "standoff": 15
           },
           "zerolinecolor": "white",
           "zerolinewidth": 2
          },
          "yaxis": {
           "automargin": true,
           "gridcolor": "white",
           "linecolor": "white",
           "ticks": "",
           "title": {
            "standoff": 15
           },
           "zerolinecolor": "white",
           "zerolinewidth": 2
          }
         }
        },
        "width": 600,
        "xaxis": {
         "anchor": "y",
         "domain": [
          0,
          1
         ],
         "title": {
          "text": "Shipments"
         }
        },
        "yaxis": {
         "anchor": "x",
         "domain": [
          0,
          1
         ],
         "title": {
          "text": "Solution time [h]"
         }
        }
       }
      }
     },
     "metadata": {},
     "output_type": "display_data"
    }
   ],
   "source": [
    "# Prepare runtime information plot\n",
    "df_runtime = []\n",
    "\n",
    "for case in cases:\n",
    "    df_partial = pd.read_parquet(results_path / \"scenario_solutions/{}.instances.parquet\".format(case))\n",
    "    df_partial = df_partial[[\"deliveries\", \"runtime:writing\", \"runtime:reading\", \"runtime:vroom_loading\", \"runtime:vroom_solving\", \"retries\"]]\n",
    "    df_runtime.append(df_partial)\n",
    "\n",
    "df_runtime = pd.concat(df_runtime)\n",
    "df_runtime[\"retries\"] = df_runtime[\"retries\"].astype(str)\n",
    "\n",
    "df_runtime[\"runtime:vroom_solving\"] *= 1e-3 \n",
    "df_runtime[\"runtime:vroom_solving\"] /= 3600\n",
    "\n",
    "df_runtime = df_runtime.rename(columns = {\n",
    "    \"retries\": \"Retries\",\n",
    "    \"runtime:vroom_solving\": \"Solution time [h]\",\n",
    "    \"deliveries\": \"Shipments\"\n",
    "})\n",
    "\n",
    "figure = px.scatter(df_runtime, x = \"Shipments\", y = \"Solution time [h]\", color = \"Retries\")\n",
    "\n",
    "figure.update_layout(\n",
    "    width = 600, height = 200,\n",
    "    margin = dict(l = 0, r = 0, b = 0, t = 0, pad = 0)\n",
    ")\n",
    "\n",
    "figure.write_image(figures_path / \"runtime.pdf\")\n",
    "figure"
   ]
  }
 ],
 "metadata": {
  "kernelspec": {
   "display_name": "lead",
   "language": "python",
   "name": "python3"
  },
  "language_info": {
   "codemirror_mode": {
    "name": "ipython",
    "version": 3
   },
   "file_extension": ".py",
   "mimetype": "text/x-python",
   "name": "python",
   "nbconvert_exporter": "python",
   "pygments_lexer": "ipython3",
   "version": "3.12.7"
  }
 },
 "nbformat": 4,
 "nbformat_minor": 2
}
