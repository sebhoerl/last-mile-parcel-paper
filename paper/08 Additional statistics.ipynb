{
 "cells": [
  {
   "cell_type": "code",
   "execution_count": null,
   "metadata": {},
   "outputs": [],
   "source": [
    "import pandas as pd\n",
    "from pathlib import Path"
   ]
  },
  {
   "cell_type": "markdown",
   "metadata": {},
   "source": [
    "### Additional statistics\n",
    "This notebooks calculates additional numbers given in the paper text."
   ]
  },
  {
   "cell_type": "code",
   "execution_count": null,
   "metadata": {},
   "outputs": [],
   "source": [
    "# Inputs and outputs\n",
    "results_path = Path(\"../results\")"
   ]
  },
  {
   "cell_type": "code",
   "execution_count": null,
   "metadata": {},
   "outputs": [],
   "source": [
    "# Extract information based on instances\n",
    "cases = [\n",
    "    \"baseline_2019\", \"today_2024\", \"future_2030\",\n",
    "    \"policy_co2_100EUR\", \"policy_co2_200EUR\", \"policy_co2_500EUR\", \"policy_co2_750EUR\",\"policy_co2_1000EUR\", \"policy_co2_1500EUR\", \"policy_co2_2000EUR\",\n",
    "    \"policy_thermic_20pct\", \"policy_thermic_50pct\", \"policy_thermic_75pct\", \"policy_thermic_100pct\",\n",
    "    \"policy_elez\", \"policy_electric\"\n",
    "]\n",
    "\n",
    "vrps = 0\n",
    "runtime = 0\n",
    "\n",
    "for case in cases:\n",
    "    df_partial = pd.read_parquet(results_path / \"scenario_solutions/{}.instances.parquet\".format(case))\n",
    "    vrps += len(df_partial)\n",
    "    runtime += df_partial[\"runtime:vroom_solving\"].sum() / 1000 / 3600\n",
    "\n",
    "print(\"Total number of VRPs:\", vrps)\n",
    "print(\"Total runtime [h]:\", runtime)"
   ]
  }
 ],
 "metadata": {
  "kernelspec": {
   "display_name": "lead",
   "language": "python",
   "name": "python3"
  },
  "language_info": {
   "codemirror_mode": {
    "name": "ipython",
    "version": 3
   },
   "file_extension": ".py",
   "mimetype": "text/x-python",
   "name": "python",
   "nbconvert_exporter": "python",
   "pygments_lexer": "ipython3",
   "version": "3.12.1"
  }
 },
 "nbformat": 4,
 "nbformat_minor": 2
}
