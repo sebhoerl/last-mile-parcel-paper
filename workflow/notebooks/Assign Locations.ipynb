{
 "cells": [
  {
   "cell_type": "code",
   "execution_count": null,
   "id": "4fc6e42e",
   "metadata": {
    "tags": []
   },
   "outputs": [],
   "source": [
    "import osmnx as ox\n",
    "import geopandas as gpd"
   ]
  },
  {
   "cell_type": "markdown",
   "id": "b5738626",
   "metadata": {},
   "source": [
    "### Assign locations\n",
    "This notebook assigns locations (nodes of the network) to the parcels."
   ]
  },
  {
   "cell_type": "code",
   "execution_count": null,
   "id": "dc88cd7c",
   "metadata": {},
   "outputs": [],
   "source": [
    "# Manage inputs and outputs\n",
    "graph_path = \"../../results/network/accessible.graphml\"\n",
    "input_path = \"../../results/parcels/demand/baseline_2022.gpkg\"\n",
    "output_path = \"../../results/parcels/located/.baseline_2022.gpkg\"\n",
    "\n",
    "if \"snakemake\" in locals():\n",
    "    graph_path = snakemake.input[\"graph\"]\n",
    "    input_path = snakemake.input[\"input\"]\n",
    "    output_path = snakemake.output[0]"
   ]
  },
  {
   "cell_type": "code",
   "execution_count": null,
   "id": "e6d4d938",
   "metadata": {},
   "outputs": [],
   "source": [
    "# Load the data\n",
    "graph = ox.load_graphml(graph_path)"
   ]
  },
  {
   "cell_type": "code",
   "execution_count": null,
   "id": "3134d45f",
   "metadata": {},
   "outputs": [],
   "source": [
    "# Load tasks\n",
    "df_locations = gpd.read_file(input_path)\n",
    "crs = df_locations.crs\n",
    "df_locations.to_crs(\"EPSG:4326\", inplace = True)"
   ]
  },
  {
   "cell_type": "code",
   "execution_count": null,
   "id": "0d908c66",
   "metadata": {},
   "outputs": [],
   "source": [
    "# Find closest nodes\n",
    "df_locations[\"node\"] = ox.distance.nearest_nodes(graph, \n",
    "    df_locations[\"geometry\"].x.values,\n",
    "    df_locations[\"geometry\"].y.values)"
   ]
  },
  {
   "cell_type": "code",
   "execution_count": null,
   "id": "f70c03ca",
   "metadata": {},
   "outputs": [],
   "source": [
    "# Output\n",
    "df_locations.to_crs(crs, inplace = True)\n",
    "df_locations.to_file(output_path)"
   ]
  }
 ],
 "metadata": {
  "celltoolbar": "Tags",
  "kernelspec": {
   "display_name": "Python 3 (ipykernel)",
   "language": "python",
   "name": "python3"
  },
  "language_info": {
   "codemirror_mode": {
    "name": "ipython",
    "version": 3
   },
   "file_extension": ".py",
   "mimetype": "text/x-python",
   "name": "python",
   "nbconvert_exporter": "python",
   "pygments_lexer": "ipython3",
   "version": "3.12.1"
  }
 },
 "nbformat": 4,
 "nbformat_minor": 5
}
