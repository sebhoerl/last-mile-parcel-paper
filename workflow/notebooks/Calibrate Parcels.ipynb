{
 "cells": [
  {
   "cell_type": "code",
   "execution_count": null,
   "metadata": {},
   "outputs": [],
   "source": [
    "import pandas as pd\n",
    "import numpy as np\n",
    "import geopandas as gpd\n",
    "\n",
    "from tqdm.notebook import tqdm"
   ]
  },
  {
   "cell_type": "markdown",
   "metadata": {},
   "source": [
    "### Calibrate parcels\n",
    "This notebook calibrates the demand generation model by fitting the marginal distributions of the ADM report. It basically implements some kind of uniform seed IPF."
   ]
  },
  {
   "cell_type": "code",
   "execution_count": null,
   "metadata": {},
   "outputs": [],
   "source": [
    "# Manage inputs and outputs\n",
    "persons_path = \"../../resources/external/population_2022/lead_2022_100pct_persons.csv\"\n",
    "homes_path = \"../../resources/external/population_2022/lead_2022_100pct_homes.gpkg\"\n",
    "metropole_path = \"../../results/metropole.gpkg\"\n",
    "output_path = \"../../results/parcel_model.parquet\"\n",
    "\n",
    "crs = \"EPSG:2154\"\n",
    "random_seed = 0\n",
    "\n",
    "if \"snakemake\" in locals():\n",
    "    persons_path = snakemake.input[\"persons\"]\n",
    "    homes_path = snakemake.input[\"homes\"]\n",
    "    metropole_path = snakemake.input[\"metropole\"]\n",
    "    output_path = snakemake.output[0]\n",
    "    \n",
    "    params = snakemake.params[0] if len(snakemake.params) == 1 and len(snakemake.params.keys()) == 0 else snakemake.params\n",
    "\n",
    "    if \"crs\" in params:\n",
    "        crs = params[\"crs\"]\n",
    "\n",
    "    if \"random_seed\" in params:\n",
    "        random_seed = params[\"random_seed\"]"
   ]
  },
  {
   "cell_type": "code",
   "execution_count": null,
   "metadata": {},
   "outputs": [],
   "source": [
    "# Filter out persons not within the Grand Lyon Metropole\n",
    "df_homes = gpd.read_file(homes_path)[[\"household_id\", \"geometry\"]].to_crs(crs)\n",
    "df_metropole = gpd.read_file(metropole_path).to_crs(crs)\n",
    "\n",
    "df_homes = gpd.sjoin(df_homes, df_metropole, predicate = \"within\")"
   ]
  },
  {
   "cell_type": "code",
   "execution_count": null,
   "metadata": {},
   "outputs": [],
   "source": [
    "# Filter for persons over 18 to find reference persons\n",
    "df_persons = pd.read_csv(persons_path, sep = \";\", usecols = [\n",
    "    \"household_id\", \"age\", \"socioprofessional_class\"])\n",
    "\n",
    "df_persons = df_persons[df_persons[\"age\"] >= 18]\n",
    "\n",
    "df_persons = df_persons[df_persons[\"household_id\"].isin(\n",
    "    df_homes[\"household_id\"]\n",
    ")]"
   ]
  },
  {
   "cell_type": "code",
   "execution_count": null,
   "metadata": {},
   "outputs": [],
   "source": [
    "# Assign age class\n",
    "df_persons.loc[(df_persons[\"age\"] >= 18) & (df_persons[\"age\"] <= 34), \"ac\"] = 0 # 18 - 34\n",
    "df_persons.loc[(df_persons[\"age\"] >= 35) & (df_persons[\"age\"] <= 49), \"ac\"] = 1 # 35 - 49\n",
    "df_persons.loc[(df_persons[\"age\"] >= 50) & (df_persons[\"age\"] <= 64), \"ac\"] = 2 # 50 - 64\n",
    "df_persons.loc[(df_persons[\"age\"] >= 65), \"ac\"] = 3 # 65+\n",
    "df_persons[\"ac\"] = df_persons[\"ac\"].astype(int)"
   ]
  },
  {
   "cell_type": "code",
   "execution_count": null,
   "metadata": {},
   "outputs": [],
   "source": [
    "# Assign socio-professional class\n",
    "df_persons.loc[df_persons[\"socioprofessional_class\"] == 1, \"sc\"] = -1 # Agriculture\n",
    "df_persons.loc[df_persons[\"socioprofessional_class\"] == 2, \"sc\"] = 0 # CE,Artis,Com\n",
    "df_persons.loc[df_persons[\"socioprofessional_class\"] == 3, \"sc\"] = 1 # Cadre\n",
    "df_persons.loc[df_persons[\"socioprofessional_class\"] == 4, \"sc\"] = 2 # Prof Int\n",
    "df_persons.loc[df_persons[\"socioprofessional_class\"] == 5, \"sc\"] = 3 # Employe\n",
    "df_persons.loc[df_persons[\"socioprofessional_class\"] == 6, \"sc\"] = 4 # Ouvrier\n",
    "df_persons.loc[df_persons[\"socioprofessional_class\"] == 7, \"sc\"] = 5 # Retraite\n",
    "df_persons.loc[df_persons[\"socioprofessional_class\"] == 8, \"sc\"] = 6 # Sans Act\n",
    "df_persons[\"sc\"] = df_persons[\"sc\"].astype(int)"
   ]
  },
  {
   "cell_type": "code",
   "execution_count": null,
   "metadata": {},
   "outputs": [],
   "source": [
    "# Assign household size class\n",
    "df_household_size = df_persons.groupby(\"household_id\").size().reset_index(name = \"household_size\")\n",
    "df_persons = pd.merge(df_persons, df_household_size, on = \"household_id\")\n",
    "\n",
    "df_persons.loc[df_persons[\"household_size\"] == 1, \"hc\"] = 0 # 1\n",
    "df_persons.loc[df_persons[\"household_size\"] == 2, \"hc\"] = 1 # 2\n",
    "df_persons.loc[df_persons[\"household_size\"] == 3, \"hc\"] = 2 # 3\n",
    "df_persons.loc[df_persons[\"household_size\"] >= 4, \"hc\"] = 3 # 4+\n",
    "df_persons[\"hc\"] = df_persons[\"hc\"].astype(int)"
   ]
  },
  {
   "cell_type": "markdown",
   "metadata": {},
   "source": [
    "In the following cell we digitalize the marginal information reported in \n",
    "\n",
    "> Gardrat, M., 2019. Méthodologie d’enquête: le découplage de l’achat et de la récupération des marchandises par les ménages (Resarch report). LAET, Lyon, France."
   ]
  },
  {
   "cell_type": "code",
   "execution_count": null,
   "metadata": {},
   "outputs": [],
   "source": [
    "# LAD by household size class and socioprofessional class (Figure 29)\n",
    "marginal_hc_sc = np.array([\n",
    "    [4, 12, 9, 14, 10, 5, 5],\n",
    "    [27, 18, 15, 4, 16, 6, 13],\n",
    "    [24, 26, 22, 6, 12, 10, 22],\n",
    "    [30, 29, 22, 15, 29, 16, 17],\n",
    "])\n",
    "\n",
    "# LAD by age class and socioprofessional class (Figure 30)\n",
    "marginal_ac_sc = np.array([\n",
    "    [45, 29, 21, 18, 20, 0, 18],\n",
    "    [30, 29, 19, 14, 22, 0, 11],\n",
    "    [14, 17, 10, 5, 16, 12, 9],\n",
    "    [12, 9, 0, 0, 0, 5, 2],\n",
    "])\n",
    "\n",
    "# LAD by socioprofessional class (Table 8)\n",
    "marginal_sc = np.array([\n",
    "    23.51, 21.19, 19.08, 15.15, 10.31, 9.77, 6.11\n",
    "])\n",
    "\n",
    "# Home delivery by socioprofessional class (Table 8)\n",
    "probability_home_delivery = np.array([\n",
    "    53.2, 46.8, 40.7, 49.1, 26.3, 56.5, 70.2\n",
    "]) * 1e-2\n",
    "\n",
    "# Total number of orders per year\n",
    "marginal_total = 14.0"
   ]
  },
  {
   "cell_type": "code",
   "execution_count": null,
   "metadata": {},
   "outputs": [],
   "source": [
    "# Sample reference persons and aggregate counts\n",
    "np.random.seed(random_seed)\n",
    "\n",
    "sorter = np.arange(len(df_persons))\n",
    "np.random.shuffle(sorter)\n",
    "\n",
    "df_persons = df_persons.iloc[sorter]\n",
    "df_persons = df_persons.drop_duplicates(\"household_id\")"
   ]
  },
  {
   "cell_type": "code",
   "execution_count": null,
   "metadata": {},
   "outputs": [],
   "source": [
    "df = df_persons.groupby([\n",
    "    \"ac\", \"hc\", \"sc\"\n",
    "]).size().reset_index(name = \"count\")\n",
    "\n",
    "df[\"weight\"] = 1.0\n",
    "df.loc[df[\"sc\"] == -1, \"weight\"] = 0.0"
   ]
  },
  {
   "cell_type": "code",
   "execution_count": null,
   "metadata": {},
   "outputs": [],
   "source": [
    "# Apply weighting procedure\n",
    "for k in tqdm(range(100)): # Run 100 iterations\n",
    "    \n",
    "    # Weighting of household size x socioprofessional class\n",
    "    for hc in range(4):\n",
    "        for sc in range(7):\n",
    "            f = (df[\"hc\"] == hc) & (df[\"sc\"] == sc)\n",
    "\n",
    "            if np.count_nonzero(f) > 0:\n",
    "                current_weight = (df[f][\"weight\"] * df[f][\"count\"]).sum()\n",
    "                target_weight = marginal_hc_sc[hc, sc] * df[f][\"count\"].sum()\n",
    "\n",
    "                if current_weight > 0:\n",
    "                    factor = target_weight / current_weight\n",
    "                    df.loc[f, \"weight\"] *= factor\n",
    "                    \n",
    "    # Weighting of household size x socioprofessional class\n",
    "    for ac in range(4):\n",
    "        for sc in range(7):\n",
    "            f = (df[\"ac\"] == ac) & (df[\"sc\"] == sc)\n",
    "\n",
    "            if np.count_nonzero(f) > 0:\n",
    "                current_weight = (df[f][\"weight\"] * df[f][\"count\"]).sum()\n",
    "                target_weight = marginal_ac_sc[ac, sc] * df[f][\"count\"].sum()\n",
    "\n",
    "                if current_weight > 0:\n",
    "                    factor = target_weight / current_weight\n",
    "                    df.loc[f, \"weight\"] *= factor\n",
    "    \n",
    "    # Weighting of socioprofessional class\n",
    "    for sc in range(7):\n",
    "        f = df[\"sc\"] == sc\n",
    "\n",
    "        if np.count_nonzero(f) > 0:\n",
    "            current_weight = (df[f][\"weight\"] * df[f][\"count\"]).sum()\n",
    "            target_weight = marginal_sc[sc] * df[f][\"count\"].sum()\n",
    "\n",
    "            if current_weight > 0:\n",
    "                factor = target_weight / current_weight\n",
    "                df.loc[f, \"weight\"] *= factor\n",
    "                \n",
    "    # Weighting of total       \n",
    "    current_weight = (df[\"weight\"] * df[\"count\"]).sum()\n",
    "    factor = marginal_total * df[\"count\"].sum() / current_weight\n",
    "    df[\"weight\"] *= factor"
   ]
  },
  {
   "cell_type": "code",
   "execution_count": null,
   "metadata": {},
   "outputs": [],
   "source": [
    "(df[\"count\"] * df[\"weight\"]).sum() / df[\"count\"].sum() # Should be around 14"
   ]
  },
  {
   "cell_type": "code",
   "execution_count": null,
   "metadata": {},
   "outputs": [],
   "source": [
    "# Assign home delivery probability\n",
    "df[\"home_probability\"] = 0.0\n",
    "\n",
    "for sc in range(7):\n",
    "    f = df[\"sc\"] == sc\n",
    "    df.loc[f, \"home_probability\"] = probability_home_delivery[sc]"
   ]
  },
  {
   "cell_type": "code",
   "execution_count": null,
   "metadata": {},
   "outputs": [],
   "source": [
    "# Write output\n",
    "df.to_parquet(output_path)"
   ]
  }
 ],
 "metadata": {
  "celltoolbar": "Tags",
  "kernelspec": {
   "display_name": "Python 3 (ipykernel)",
   "language": "python",
   "name": "python3"
  },
  "language_info": {
   "codemirror_mode": {
    "name": "ipython",
    "version": 3
   },
   "file_extension": ".py",
   "mimetype": "text/x-python",
   "name": "python",
   "nbconvert_exporter": "python",
   "pygments_lexer": "ipython3",
   "version": "3.12.1"
  },
  "vscode": {
   "interpreter": {
    "hash": "d4d0f3cc94eea0ddf6eeacdc2be0ed1d793b5ffaea4957e793a8209321ab5548"
   }
  }
 },
 "nbformat": 4,
 "nbformat_minor": 4
}
