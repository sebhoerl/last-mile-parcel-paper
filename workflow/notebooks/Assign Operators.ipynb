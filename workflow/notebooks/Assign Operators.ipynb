{
 "cells": [
  {
   "cell_type": "code",
   "execution_count": 4,
   "metadata": {},
   "outputs": [],
   "source": [
    "import geopandas as gpd\n",
    "import pandas as pd\n",
    "import yaml\n",
    "import numpy as np"
   ]
  },
  {
   "cell_type": "markdown",
   "metadata": {},
   "source": [
    "### Assign operators\n",
    "This notebook assigns operators to parcels based on the market shares."
   ]
  },
  {
   "cell_type": "code",
   "execution_count": 2,
   "metadata": {},
   "outputs": [],
   "source": [
    "# Manage inputs and outputs\n",
    "parcels_path = \"../../results/parcels/located_parcels.baseline_2022.gpkg\"\n",
    "operators_path = \"../../resources/operators.yml\"\n",
    "output_path = \"../../results/parcels/assigned_parcels.gpkg\"\n",
    "random_seed = 0\n",
    "\n",
    "if \"snakemake\" in locals():\n",
    "    parcels_path = snakemake.input[\"parcels\"]\n",
    "    operators_path = snakemake.input[\"operators\"]\n",
    "    output_path = snakemake.output[0]\n",
    "\n",
    "    params = snakemake.params[0] if len(snakemake.params) == 1 and len(snakemake.params.keys()) == 0 else snakemake.params\n",
    "\n",
    "    if \"random_seed\" in params:\n",
    "        random_seed = params[\"random_seed\"]"
   ]
  },
  {
   "cell_type": "code",
   "execution_count": 3,
   "metadata": {},
   "outputs": [],
   "source": [
    "# Read parcels\n",
    "df_parcels = gpd.read_file(parcels_path)"
   ]
  },
  {
   "cell_type": "code",
   "execution_count": 8,
   "metadata": {},
   "outputs": [],
   "source": [
    "# Read operator data\n",
    "with open(operators_path) as f:\n",
    "    operator_data = yaml.load(f, yaml.SafeLoader)[\"operators\"]\n",
    "    \n",
    "df_operators = []\n",
    "\n",
    "for operator_id, operator in operator_data.items():\n",
    "    df_operators.append({ \"operator\": operator_id, \"weight\": operator[\"market_share\"] })\n",
    "    \n",
    "df_operators = pd.DataFrame.from_records(df_operators)\n",
    "df_operators[\"weight\"] /= df_operators[\"weight\"].sum()"
   ]
  },
  {
   "cell_type": "code",
   "execution_count": 9,
   "metadata": {},
   "outputs": [],
   "source": [
    "# Sample operators\n",
    "cdf = np.cumsum(df_operators[\"weight\"].values)\n",
    "cdf /= cdf[-1]\n",
    "\n",
    "np.random.seed(random_seed)\n",
    "indices = [np.count_nonzero(s > cdf) for s in np.random.random(len(df_parcels))]\n",
    "df_parcels[\"operator\"] = df_operators.iloc[indices][\"operator\"].values"
   ]
  },
  {
   "cell_type": "code",
   "execution_count": 10,
   "metadata": {},
   "outputs": [],
   "source": [
    "# Output\n",
    "df_parcels.to_file(output_path)"
   ]
  }
 ],
 "metadata": {
  "celltoolbar": "Tags",
  "kernelspec": {
   "display_name": "Python 3 (ipykernel)",
   "language": "python",
   "name": "python3"
  },
  "language_info": {
   "codemirror_mode": {
    "name": "ipython",
    "version": 3
   },
   "file_extension": ".py",
   "mimetype": "text/x-python",
   "name": "python",
   "nbconvert_exporter": "python",
   "pygments_lexer": "ipython3",
   "version": "3.12.1"
  },
  "vscode": {
   "interpreter": {
    "hash": "d4d0f3cc94eea0ddf6eeacdc2be0ed1d793b5ffaea4957e793a8209321ab5548"
   }
  }
 },
 "nbformat": 4,
 "nbformat_minor": 4
}
