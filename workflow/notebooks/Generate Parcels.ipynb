{
 "cells": [
  {
   "cell_type": "code",
   "execution_count": 1,
   "metadata": {},
   "outputs": [],
   "source": [
    "import pandas as pd\n",
    "import numpy as np\n",
    "import itertools\n",
    "import scipy.stats as stats\n",
    "import geopandas as gpd\n",
    "\n",
    "from tqdm.notebook import tqdm"
   ]
  },
  {
   "cell_type": "markdown",
   "metadata": {},
   "source": [
    "### Generate parcels\n",
    "This notebook loads the calibrated parcel model and generates parcels for the *study area* (in contrast to the Lyon Metropolis on which the model is calibrated)."
   ]
  },
  {
   "cell_type": "code",
   "execution_count": 2,
   "metadata": {},
   "outputs": [],
   "source": [
    "# Manage inputs and outputs\n",
    "persons_path = \"../../resources/external/population_2022/lead_2022_100pct_persons.csv\"\n",
    "homes_path = \"../../resources/external/population_2022/lead_2022_100pct_homes.gpkg\"\n",
    "study_area_path = \"../../resources/spatial/study_area.gpkg\"\n",
    "model_path = \"../../results/parcel_model.parquet\"\n",
    "output_path = \"../../results/parcels/parcels.gpkg\"\n",
    "\n",
    "random_seed = 0\n",
    "delivery_days = 260\n",
    "scaling = 1.0\n",
    "crs = \"EPSG:2154\"\n",
    "\n",
    "if \"snakemake\" in locals():\n",
    "    persons_path = snakemake.input[\"persons\"]\n",
    "    homes_path = snakemake.input[\"homes\"]\n",
    "    study_area_path = snakemake.input[\"study_area\"]\n",
    "    model_path = snakemake.input[\"model\"]\n",
    "    output_path = snakemake.output[0]\n",
    "\n",
    "    params = snakemake.params[0] if len(snakemake.params) == 1 and len(snakemake.params.keys()) == 0 else snakemake.params\n",
    "\n",
    "    if \"random_seed\" in params:\n",
    "        random_seed = params[\"random_seed\"]\n",
    "\n",
    "    if \"delivery_days\" in params:\n",
    "        delivery_days = params[\"delivery_days\"]\n",
    "    \n",
    "    if \"scaling\" in params:\n",
    "        scaling = params[\"scaling\"]\n",
    "    \n",
    "    if \"crs\" in params:\n",
    "        crs = params[\"crs\"]"
   ]
  },
  {
   "cell_type": "code",
   "execution_count": 3,
   "metadata": {},
   "outputs": [],
   "source": [
    "# Load population and study area\n",
    "df_homes = gpd.read_file(homes_path)[[\"household_id\", \"geometry\"]].to_crs(crs)\n",
    "df_area = gpd.read_file(study_area_path).dissolve().to_crs(crs)\n",
    "\n",
    "# Filter out persons not within the study area\n",
    "df_homes = gpd.sjoin(df_homes, df_area, predicate = \"within\")"
   ]
  },
  {
   "cell_type": "code",
   "execution_count": 4,
   "metadata": {},
   "outputs": [],
   "source": [
    "# Filter for persons over 18 to find reference persons\n",
    "df_persons = pd.read_csv(persons_path, sep = \";\", usecols = [\n",
    "    \"household_id\", \"age\", \"socioprofessional_class\"])\n",
    "\n",
    "df_persons = df_persons[df_persons[\"age\"] >= 18]\n",
    "\n",
    "df_persons = df_persons[df_persons[\"household_id\"].isin(\n",
    "    df_homes[\"household_id\"]\n",
    ")]"
   ]
  },
  {
   "cell_type": "code",
   "execution_count": 5,
   "metadata": {},
   "outputs": [],
   "source": [
    "# Assign age class\n",
    "df_persons.loc[(df_persons[\"age\"] >= 18) & (df_persons[\"age\"] <= 34), \"ac\"] = 0 # 18 - 34\n",
    "df_persons.loc[(df_persons[\"age\"] >= 35) & (df_persons[\"age\"] <= 49), \"ac\"] = 1 # 35 - 49\n",
    "df_persons.loc[(df_persons[\"age\"] >= 50) & (df_persons[\"age\"] <= 64), \"ac\"] = 2 # 50 - 64\n",
    "df_persons.loc[(df_persons[\"age\"] >= 65), \"ac\"] = 3 # 65+\n",
    "df_persons[\"ac\"] = df_persons[\"ac\"].astype(int)"
   ]
  },
  {
   "cell_type": "code",
   "execution_count": 6,
   "metadata": {},
   "outputs": [],
   "source": [
    "# Assign socioprofessional class\n",
    "df_persons.loc[df_persons[\"socioprofessional_class\"] == 1, \"sc\"] = -1 # Agriculture\n",
    "df_persons.loc[df_persons[\"socioprofessional_class\"] == 2, \"sc\"] = 0 # CE,Artis,Com\n",
    "df_persons.loc[df_persons[\"socioprofessional_class\"] == 3, \"sc\"] = 1 # Cadre\n",
    "df_persons.loc[df_persons[\"socioprofessional_class\"] == 4, \"sc\"] = 2 # Prof Int\n",
    "df_persons.loc[df_persons[\"socioprofessional_class\"] == 5, \"sc\"] = 3 # Employe\n",
    "df_persons.loc[df_persons[\"socioprofessional_class\"] == 6, \"sc\"] = 4 # Ouvrier\n",
    "df_persons.loc[df_persons[\"socioprofessional_class\"] == 7, \"sc\"] = 5 # Retraite\n",
    "df_persons.loc[df_persons[\"socioprofessional_class\"] == 8, \"sc\"] = 6 # Sans Act\n",
    "df_persons[\"sc\"] = df_persons[\"sc\"].astype(int)"
   ]
  },
  {
   "cell_type": "code",
   "execution_count": 7,
   "metadata": {},
   "outputs": [],
   "source": [
    "# Assign household size class\n",
    "df_household_size = df_persons.groupby(\"household_id\").size().reset_index(name = \"household_size\")\n",
    "df_persons = pd.merge(df_persons, df_household_size, on = \"household_id\")\n",
    "\n",
    "df_persons.loc[df_persons[\"household_size\"] == 1, \"hc\"] = 0 # 1\n",
    "df_persons.loc[df_persons[\"household_size\"] == 2, \"hc\"] = 1 # 2\n",
    "df_persons.loc[df_persons[\"household_size\"] == 3, \"hc\"] = 2 # 3\n",
    "df_persons.loc[df_persons[\"household_size\"] >= 4, \"hc\"] = 3 # 4+\n",
    "df_persons[\"hc\"] = df_persons[\"hc\"].astype(int)"
   ]
  },
  {
   "cell_type": "code",
   "execution_count": 8,
   "metadata": {},
   "outputs": [],
   "source": [
    "# Sample reference persons\n",
    "np.random.seed(random_seed)\n",
    "\n",
    "sorter = np.arange(len(df_persons))\n",
    "np.random.shuffle(sorter)\n",
    "\n",
    "df_persons = df_persons.iloc[sorter]\n",
    "df_persons = df_persons.drop_duplicates(\"household_id\")"
   ]
  },
  {
   "cell_type": "code",
   "execution_count": 9,
   "metadata": {},
   "outputs": [],
   "source": [
    "# Load model\n",
    "df_model = pd.read_parquet(model_path)"
   ]
  },
  {
   "cell_type": "code",
   "execution_count": 10,
   "metadata": {},
   "outputs": [],
   "source": [
    "# Generate parcels\n",
    "df_parcels = df_persons[[\"household_id\", \"ac\", \"hc\", \"sc\"]].copy()\n",
    "df_parcels = pd.merge(df_parcels, df_model, on = [\"ac\", \"hc\", \"sc\"])\n",
    "\n",
    "for sc, ac, hc in itertools.product(range(7), range(4), range(4)):\n",
    "    f = df_parcels[\"sc\"] == sc\n",
    "    f &= df_parcels[\"ac\"] == ac\n",
    "    f &= df_parcels[\"hc\"] == hc\n",
    "    \n",
    "    if np.count_nonzero(f) > 0:\n",
    "        weight = scaling * df_parcels[f][\"weight\"].values[0] / delivery_days\n",
    "        \n",
    "        df_parcels.loc[f, \"parcels\"] = stats.poisson(weight).rvs(np.count_nonzero(f))\n",
    "        df_parcels.loc[f, \"home_parcels\"] = stats.poisson(\n",
    "            weight * df_parcels[f][\"home_probability\"].values[0]).rvs(np.count_nonzero(f))"
   ]
  },
  {
   "cell_type": "code",
   "execution_count": 13,
   "metadata": {},
   "outputs": [],
   "source": [
    "# Extract non-zero households\n",
    "df_parcels = df_parcels[df_parcels[\"home_parcels\"] > 0]\n",
    "df_parcels[\"home_parcels\"] = df_parcels[\"home_parcels\"].astype(int)\n",
    "df_parcels = df_parcels.loc[df_parcels.index.repeat(df_parcels[\"home_parcels\"])]\n",
    "df_parcels = df_parcels[[\"household_id\", \"sc\", \"ac\", \"hc\"]]"
   ]
  },
  {
   "cell_type": "code",
   "execution_count": 14,
   "metadata": {},
   "outputs": [],
   "source": [
    "# Attach geometry\n",
    "df_parcels = pd.merge(df_homes, df_parcels, on = \"household_id\")[[\"geometry\", \"sc\", \"ac\", \"hc\", \"household_id\"]]"
   ]
  },
  {
   "cell_type": "code",
   "execution_count": 15,
   "metadata": {},
   "outputs": [],
   "source": [
    "# Assign unique identifiers\n",
    "df_parcels[\"parcel_id\"] = np.arange(len(df_parcels))"
   ]
  },
  {
   "cell_type": "code",
   "execution_count": 16,
   "metadata": {},
   "outputs": [],
   "source": [
    "# Output\n",
    "df_parcels.to_file(output_path)"
   ]
  }
 ],
 "metadata": {
  "celltoolbar": "Tags",
  "kernelspec": {
   "display_name": "Python 3 (ipykernel)",
   "language": "python",
   "name": "python3"
  },
  "language_info": {
   "codemirror_mode": {
    "name": "ipython",
    "version": 3
   },
   "file_extension": ".py",
   "mimetype": "text/x-python",
   "name": "python",
   "nbconvert_exporter": "python",
   "pygments_lexer": "ipython3",
   "version": "3.12.1"
  },
  "vscode": {
   "interpreter": {
    "hash": "d4d0f3cc94eea0ddf6eeacdc2be0ed1d793b5ffaea4957e793a8209321ab5548"
   }
  }
 },
 "nbformat": 4,
 "nbformat_minor": 4
}
