{
 "cells": [
  {
   "cell_type": "code",
   "execution_count": null,
   "metadata": {},
   "outputs": [],
   "source": [
    "import osmnx as ox\n",
    "import networkx as nx\n",
    "import geopandas as gpd\n",
    "import pandas as pd\n",
    "import xarray as xr\n",
    "import numpy as np\n",
    "from tqdm.notebook import tqdm\n",
    "import multiprocessing as mp"
   ]
  },
  {
   "cell_type": "markdown",
   "metadata": {},
   "source": [
    "### Instance routing\n",
    "This notebook takes the depot and all parcels for one instance and performs a parallelized N:N routing to generate a distance and travel time matrix."
   ]
  },
  {
   "cell_type": "code",
   "execution_count": null,
   "metadata": {},
   "outputs": [],
   "source": [
    "# Manage inputs and outputs\n",
    "graph_path = \"../../results/network/without_zfe.graphml\"\n",
    "depots_path = \"../../results/depots/individual/laposte/96.gpkg\"\n",
    "parcels_path = \"../../results/parcels/per_depot/baseline_2022/laposte/96.gpkg\"\n",
    "output_path = \"/home/shoerl/temp/test.nc\"\n",
    "processes = 3\n",
    "\n",
    "if \"snakemake\" in locals():\n",
    "    graph_path = snakemake.input[\"graph\"]\n",
    "    depots_path = snakemake.input[\"depots\"]\n",
    "    parcels_path = snakemake.input[\"parcels\"]\n",
    "    output_path = snakemake.output[0]\n",
    "    # processes = snakemake.threads"
   ]
  },
  {
   "cell_type": "code",
   "execution_count": null,
   "metadata": {},
   "outputs": [],
   "source": [
    "# Load network graph\n",
    "graph = ox.load_graphml(graph_path)"
   ]
  },
  {
   "cell_type": "code",
   "execution_count": null,
   "metadata": {},
   "outputs": [],
   "source": [
    "# Load parcels\n",
    "df_parcels = gpd.read_file(parcels_path)\n",
    "\n",
    "assert len(df_parcels[\"depot_id\"].unique()) == 1\n",
    "depot_id = df_parcels[\"depot_id\"].unique()[0]"
   ]
  },
  {
   "cell_type": "code",
   "execution_count": null,
   "metadata": {},
   "outputs": [],
   "source": [
    "# Load depots and select the relevant one\n",
    "df_depots = gpd.read_file(depots_path)\n",
    "df_depots = df_depots[df_depots[\"depot_id\"] == depot_id]\n",
    "assert len(df_depots) == 1"
   ]
  },
  {
   "cell_type": "code",
   "execution_count": null,
   "metadata": {},
   "outputs": [],
   "source": [
    "# Find all relevant nodes\n",
    "nodes = set(df_parcels[\"node\"].unique()) | set(df_depots[\"node\"].unique())\n",
    "nodes = [node for node in nodes if node in graph.nodes]"
   ]
  },
  {
   "cell_type": "code",
   "execution_count": null,
   "metadata": {},
   "outputs": [],
   "source": [
    "# Parallel routing of all distances requires in the instance\n",
    "def initializer(nodes, graph):\n",
    "    globals()[\"nodes\"] = nodes\n",
    "    globals()[\"graph\"] = graph \n",
    "    globals()[\"edge_lengths\"] = nx.get_edge_attributes(graph, \"length\")\n",
    "    globals()[\"edge_travel_times\"] = nx.get_edge_attributes(graph, \"travel_time\")\n",
    "\n",
    "def process(node_index):\n",
    "    source_node = nodes[node_index]\n",
    "    routes = nx.single_source_dijkstra_path(graph, source_node, weight = \"travel_time\")\n",
    "\n",
    "    row = xr.DataArray(\n",
    "        dims = (\"origin\", \"destination\", \"attribute\"),\n",
    "        coords = { \n",
    "            \"origin\": [source_node], \"destination\": nodes, \n",
    "            \"attribute\": [\"travel_time\", \"distance\"] }\n",
    "    )\n",
    "\n",
    "    for target_node in nodes:\n",
    "        route = routes[target_node]\n",
    "        row.loc[source_node, target_node, \"travel_time\"] = nx.path_weight(graph, route, \"travel_time\")\n",
    "        row.loc[source_node, target_node, \"distance\"] = nx.path_weight(graph, route, \"length\")\n",
    "    \n",
    "    return row\n",
    "\n",
    "if processes == 1:\n",
    "    initializer(nodes, graph)\n",
    "    matrix = [process(index) for index in tqdm(range(len(nodes)))]\n",
    "\n",
    "else:\n",
    "    with mp.Pool(processes, initializer, (nodes, graph)) as pool:\n",
    "        matrix = [row for row in \n",
    "            tqdm(pool.imap_unordered(process, range(len(nodes))), total = len(nodes))\n",
    "        ]\n",
    "\n",
    "if len(nodes) > 0:\n",
    "    matrix = xr.concat(matrix, \"origin\").sortby([\"origin\", \"destination\", \"attribute\"])\n",
    "else:\n",
    "    matrix = xr.DataArray(np.zeros((0,0,2)), dims = (\"origin\", \"destination\", \"attribute\"), coords = {\n",
    "        \"origin\": np.zeros((0,), dtype=np.int64), \"destination\": np.zeros((0,), dtype=np.int64), \"attribute\": [\"travel_time\", \"distance\"]\n",
    "    })"
   ]
  },
  {
   "cell_type": "code",
   "execution_count": null,
   "metadata": {},
   "outputs": [],
   "source": [
    "assert set(matrix.coords[\"origin\"].values) == set(nodes)\n",
    "assert set(matrix.coords[\"destination\"].values) == set(nodes)"
   ]
  },
  {
   "cell_type": "code",
   "execution_count": null,
   "metadata": {},
   "outputs": [],
   "source": [
    "# Output\n",
    "matrix.to_netcdf(output_path)"
   ]
  }
 ],
 "metadata": {
  "kernelspec": {
   "display_name": "lead",
   "language": "python",
   "name": "python3"
  },
  "language_info": {
   "codemirror_mode": {
    "name": "ipython",
    "version": 3
   },
   "file_extension": ".py",
   "mimetype": "text/x-python",
   "name": "python",
   "nbconvert_exporter": "python",
   "pygments_lexer": "ipython3",
   "version": "3.12.1"
  }
 },
 "nbformat": 4,
 "nbformat_minor": 2
}
