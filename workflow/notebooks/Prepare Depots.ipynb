{
 "cells": [
  {
   "cell_type": "code",
   "execution_count": null,
   "id": "5eea3588",
   "metadata": {},
   "outputs": [],
   "source": [
    "import yaml, json\n",
    "import pandas as pd\n",
    "import geopandas as gpd\n",
    "import numpy as np\n",
    "from tqdm.notebook import tqdm\n",
    "import requests\n",
    "import time, os\n",
    "import shapely.geometry as geo"
   ]
  },
  {
   "cell_type": "markdown",
   "id": "2cf987b3",
   "metadata": {},
   "source": [
    "### Prepare depots\n",
    "This notebooks loads the addresses of the depots of the operators as defined in the configuration input from the enterprise census. The addresses are then geocoded to obtain detailed coordinates using the open BAN API."
   ]
  },
  {
   "cell_type": "code",
   "execution_count": null,
   "id": "6e1352a1",
   "metadata": {},
   "outputs": [],
   "source": [
    "# Manage inputs and outputs\n",
    "study_area_path = \"../../resources/spatial/study_area.gpkg\"\n",
    "siret_path = \"../../resources/external/sirene/StockEtablissement_utf8.zip\"\n",
    "operators_path = \"../../resources/operators.yml\"\n",
    "output_path = \"../../results/depots/prepared.gpkg\"\n",
    "\n",
    "crs = \"EPSG:2154\"\n",
    "\n",
    "if \"snakemake\" in locals():\n",
    "    study_area_path = snakemake.input[\"study_area\"]\n",
    "    siret_path = snakemake.input[\"siret\"]\n",
    "    operators_path = snakemake.input[\"operators\"]\n",
    "    output_path = snakemake.output[0]\n",
    "\n",
    "    params = snakemake.params[0] if len(snakemake.params) == 1 and len(snakemake.params.keys()) == 0 else snakemake.params\n",
    "\n",
    "    if \"crs\" in params:\n",
    "        rs = params[\"crs\"]"
   ]
  },
  {
   "cell_type": "code",
   "execution_count": null,
   "id": "49d2f25c",
   "metadata": {},
   "outputs": [],
   "source": [
    "# Load operator data\n",
    "with open(operators_path) as f:\n",
    "    operators = yaml.load(f, yaml.SafeLoader)[\"operators\"]"
   ]
  },
  {
   "cell_type": "code",
   "execution_count": null,
   "id": "b07100e5",
   "metadata": {},
   "outputs": [],
   "source": [
    "# Find all SIREN identifiers\n",
    "all_siren = set()\n",
    "\n",
    "for operator in operators.values():\n",
    "    all_siren |= set(operator[\"siren\"])"
   ]
  },
  {
   "cell_type": "code",
   "execution_count": null,
   "id": "1b0edb11",
   "metadata": {},
   "outputs": [],
   "source": [
    "# Load study area and find municipalities\n",
    "df_study_area = gpd.read_file(study_area_path)\n",
    "municipalities = set([str(x) for x in df_study_area[\"INSEE_COM\"].unique()])"
   ]
  },
  {
   "cell_type": "code",
   "execution_count": null,
   "id": "01861397",
   "metadata": {},
   "outputs": [],
   "source": [
    "# Read relevant information from enterprise census\n",
    "df_siret = []\n",
    "\n",
    "with tqdm(desc = \"Reading SIRET\", total = 33835760) as progress:\n",
    "    for df_chunk in pd.read_csv(siret_path, usecols = [\n",
    "        \"siren\", \"codeCommuneEtablissement\",\n",
    "        \"codePostalEtablissement\", \"libelleCommuneEtablissement\",\n",
    "        \"libelleVoieEtablissement\", \"numeroVoieEtablissement\",\n",
    "        \"complementAdresseEtablissement\", \"typeVoieEtablissement\",\n",
    "        \"trancheEffectifsEtablissement\", \"etatAdministratifEtablissement\"\n",
    "    ], dtype = { \"codeCommuneEtablissement\": str, \"siren\": str, \n",
    "                \"codePostalEtablissement\": str,\n",
    "                \"trancheEffectifsEtablissement\": str }, chunksize = 10240):\n",
    "        progress.update(len(df_chunk))\n",
    "        \n",
    "        f = df_chunk[\"codeCommuneEtablissement\"].isin(municipalities)\n",
    "        f &= df_chunk[\"etatAdministratifEtablissement\"] == \"A\"\n",
    "        f &= df_chunk[\"siren\"].isin(all_siren)\n",
    "        \n",
    "        if np.count_nonzero(f) > 0:\n",
    "            df_chunk = df_chunk[f].copy()\n",
    "            \n",
    "            df_chunk[\"number\"] = df_chunk[\"numeroVoieEtablissement\"].astype(float).fillna(0).astype(int).astype(str)\n",
    "            df_chunk.loc[df_chunk[\"number\"] == \"0\", \"number\"] = \"\"\n",
    "            \n",
    "            df_chunk[\"address\"] = df_chunk[\"number\"] + \" \"\n",
    "            df_chunk[\"address\"] += df_chunk[\"typeVoieEtablissement\"].astype(str) + \" \"\n",
    "            df_chunk[\"address\"] += df_chunk[\"libelleVoieEtablissement\"].astype(str) + \", \"\n",
    "            df_chunk[\"address\"] += df_chunk[\"codePostalEtablissement\"] + \" \"\n",
    "            df_chunk[\"address\"] += df_chunk[\"libelleCommuneEtablissement\"].astype(str)\n",
    "            \n",
    "            df_chunk[\"complementAdresseEtablissement\"] = df_chunk[\"complementAdresseEtablissement\"].replace(\n",
    "                \"ZI MI PLAINE\", \"\").replace(\"ZAC LES MARCHES DU RHONE\", \"\")\n",
    "            \n",
    "            f = df_chunk[\"complementAdresseEtablissement\"].str.len() > 0\n",
    "            df_chunk.loc[f, \"address\"] += \", \" + df_chunk.loc[f, \"complementAdresseEtablissement\"].astype(str)\n",
    "\n",
    "            df_chunk[\"employment\"] = df_chunk[\"trancheEffectifsEtablissement\"]\n",
    "            df_chunk[\"municipality\"] = df_chunk[\"codeCommuneEtablissement\"]\n",
    "            df_chunk[\"postcode\"] = df_chunk[\"codePostalEtablissement\"]\n",
    "            \n",
    "            df_siret.append(df_chunk[[\"siren\", \"address\", \"employment\", \"postcode\", \"municipality\"]].copy())\n",
    "\n",
    "df_siret = pd.concat(df_siret)"
   ]
  },
  {
   "cell_type": "code",
   "execution_count": null,
   "id": "3bbcddd3",
   "metadata": {},
   "outputs": [],
   "source": [
    "assert len(all_siren) == len(df_siret[\"siren\"].unique())"
   ]
  },
  {
   "cell_type": "code",
   "execution_count": null,
   "id": "49a99f15",
   "metadata": {},
   "outputs": [],
   "source": [
    "for operator_id, operator in operators.items():\n",
    "    f = df_siret[\"siren\"].isin([str(x) for x in operator[\"siren\"]])\n",
    "    df_siret.loc[f, \"operator\"] = operator_id"
   ]
  },
  {
   "cell_type": "code",
   "execution_count": null,
   "id": "868b654a",
   "metadata": {},
   "outputs": [],
   "source": [
    "# Apply employment filters, mainly for the post offices\n",
    "for operator_id, operator in operators.items():\n",
    "    if \"employment_filter\" in operator:\n",
    "        f_operator = df_siret[\"operator\"] == operator_id\n",
    "        \n",
    "        f = df_siret[\"employment\"].isna()\n",
    "\n",
    "        for item in operator[\"employment_filter\"]:\n",
    "            f |= df_siret[\"employment\"] == item\n",
    "\n",
    "        f &= f_operator\n",
    "        \n",
    "        print(operator_id, \"filtering out\", np.count_nonzero(f), \"of\", np.count_nonzero(f_operator))\n",
    "        \n",
    "        df_siret = df_siret[~f].copy()"
   ]
  },
  {
   "cell_type": "code",
   "execution_count": null,
   "id": "aec63e2d",
   "metadata": {},
   "outputs": [],
   "source": [
    "# Assign identifiers\n",
    "df_siret = df_siret.sort_values(by = [\"operator\", \"siren\", \"address\"])\n",
    "df_siret[\"depot_id\"] = np.arange(len(df_siret))"
   ]
  },
  {
   "cell_type": "code",
   "execution_count": null,
   "id": "a4964c12",
   "metadata": {},
   "outputs": [],
   "source": [
    "# Perform geocoding using the BAN API\n",
    "df_coordinates = []\n",
    "\n",
    "for index, row in tqdm(df_siret.iterrows(), total = len(df_siret)):\n",
    "    response = requests.get(\"https://api-adresse.data.gouv.fr/search/\", {\n",
    "        \"q\": row[\"address\"],\n",
    "        \"autocomplete\": \"0\",\n",
    "        \"citycode\": row[\"municipality\"]\n",
    "    })\n",
    "\n",
    "    if response.ok:\n",
    "        content = json.loads(response.content)\n",
    "\n",
    "        if len(content[\"features\"]) > 0:\n",
    "            df_coordinates.append({\n",
    "                \"depot_id\": row[\"depot_id\"],\n",
    "                \"geometry\": geo.Point(\n",
    "                    content[\"features\"][0][\"geometry\"][\"coordinates\"][0],\n",
    "                    content[\"features\"][0][\"geometry\"][\"coordinates\"][1],\n",
    "                )\n",
    "            })\n",
    "    \n",
    "    time.sleep(0.5)\n",
    "        \n",
    "df_coordinates = pd.DataFrame.from_records(df_coordinates)\n",
    "df_coordinates = gpd.GeoDataFrame(df_coordinates, crs = \"EPSG:4326\")"
   ]
  },
  {
   "cell_type": "code",
   "execution_count": null,
   "id": "80806e0b",
   "metadata": {},
   "outputs": [],
   "source": [
    "assert len(df_coordinates) == len(df_siret)\n",
    "assert len(df_coordinates[\"depot_id\"].unique()) == len(df_siret[\"depot_id\"].unique())"
   ]
  },
  {
   "cell_type": "code",
   "execution_count": null,
   "id": "5875258e",
   "metadata": {},
   "outputs": [],
   "source": [
    "# Final clean-up and output\n",
    "df_centers = pd.merge(\n",
    "    df_siret[[\"depot_id\", \"operator\"]], df_coordinates, on = \"depot_id\")\n",
    "\n",
    "df_centers = gpd.GeoDataFrame(df_centers, crs = \"EPSG:4326\").to_crs(crs)\n",
    "df_centers.to_file(output_path)"
   ]
  }
 ],
 "metadata": {
  "celltoolbar": "Tags",
  "kernelspec": {
   "display_name": "Python 3 (ipykernel)",
   "language": "python",
   "name": "python3"
  },
  "language_info": {
   "codemirror_mode": {
    "name": "ipython",
    "version": 3
   },
   "file_extension": ".py",
   "mimetype": "text/x-python",
   "name": "python",
   "nbconvert_exporter": "python",
   "pygments_lexer": "ipython3",
   "version": "3.12.1"
  },
  "vscode": {
   "interpreter": {
    "hash": "d4d0f3cc94eea0ddf6eeacdc2be0ed1d793b5ffaea4957e793a8209321ab5548"
   }
  }
 },
 "nbformat": 4,
 "nbformat_minor": 5
}
