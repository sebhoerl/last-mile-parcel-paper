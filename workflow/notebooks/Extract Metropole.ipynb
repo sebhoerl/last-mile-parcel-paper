{
 "cells": [
  {
   "cell_type": "code",
   "execution_count": 1,
   "metadata": {},
   "outputs": [],
   "source": [
    "import pandas as pd\n",
    "import geopandas as gpd\n",
    "import py7zr, tempfile"
   ]
  },
  {
   "cell_type": "markdown",
   "metadata": {},
   "source": [
    "### Extract Metropole\n",
    "This notebook takes a list of municipality identifiers that belong to the Lyon Metropole and generates a unique polygon file that covers this area."
   ]
  },
  {
   "cell_type": "code",
   "execution_count": 2,
   "metadata": {},
   "outputs": [],
   "source": [
    "# Manage inputs and outputs\n",
    "iris_path = \"../../resources/external/iris/CONTOURS-IRIS_2-1__SHP__FRA_2022-01-01.7z\"\n",
    "metropole_path = \"../../resources/spatial/metropole.csv\"\n",
    "output_path = \"../../results/metropole.gpkg\"\n",
    "\n",
    "if \"snakemake\" in locals():\n",
    "    iris_path = snakemake.input[\"iris\"]\n",
    "    metropole_path = snakemake.input[\"metropole\"]\n",
    "    output_path = snakemake.output[0]"
   ]
  },
  {
   "cell_type": "code",
   "execution_count": 3,
   "metadata": {},
   "outputs": [],
   "source": [
    "# Load municipality identifiers\n",
    "df_metropole = pd.read_csv(metropole_path, sep = \";\", dtype = {\n",
    "    \"municipality_id\": str\n",
    "})"
   ]
  },
  {
   "cell_type": "code",
   "execution_count": 6,
   "metadata": {},
   "outputs": [],
   "source": [
    "# Load IRIS data\n",
    "with tempfile.TemporaryDirectory(delete = True) as directory:\n",
    "    with py7zr.SevenZipFile(iris_path) as archive:\n",
    "        archive.extractall(path = directory)\n",
    "\n",
    "    source_path = \"/\".join([\n",
    "        directory, \n",
    "        \"CONTOURS-IRIS_2-1__SHP__FRA_2022-01-01\",\n",
    "        \"CONTOURS-IRIS\",\n",
    "        \"1_DONNEES_LIVRAISON_2022-06-00180\",\n",
    "        \"CONTOURS-IRIS_2-1_SHP_LAMB93_FXX-2022\",\n",
    "        \"CONTOURS-IRIS.shp\"\n",
    "    ])\n",
    "\n",
    "    df_iris = gpd.read_file(source_path)"
   ]
  },
  {
   "cell_type": "code",
   "execution_count": 7,
   "metadata": {},
   "outputs": [],
   "source": [
    "# Cleanup IRIS data\n",
    "df_iris = df_iris[[\"INSEE_COM\", \"geometry\"]].rename(columns = { \n",
    "    \"INSEE_COM\": \"municipality_id\"\n",
    "})\n",
    "\n",
    "df_iris = df_iris[df_iris[\"municipality_id\"].isin(\n",
    "    df_metropole[\"municipality_id\"]\n",
    ")]"
   ]
  },
  {
   "cell_type": "code",
   "execution_count": 8,
   "metadata": {},
   "outputs": [],
   "source": [
    "# Save a single polygon covering the Metropole\n",
    "df_iris.dissolve().to_file(output_path)"
   ]
  }
 ],
 "metadata": {
  "kernelspec": {
   "display_name": "lead",
   "language": "python",
   "name": "python3"
  },
  "language_info": {
   "codemirror_mode": {
    "name": "ipython",
    "version": 3
   },
   "file_extension": ".py",
   "mimetype": "text/x-python",
   "name": "python",
   "nbconvert_exporter": "python",
   "pygments_lexer": "ipython3",
   "version": "3.12.7"
  }
 },
 "nbformat": 4,
 "nbformat_minor": 2
}
