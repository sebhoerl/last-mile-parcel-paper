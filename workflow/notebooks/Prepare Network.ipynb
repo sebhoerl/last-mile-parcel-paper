{
 "cells": [
  {
   "cell_type": "code",
   "execution_count": 2,
   "id": "d1eefafc",
   "metadata": {},
   "outputs": [],
   "source": [
    "import osmnx as ox\n",
    "import networkx as nx\n",
    "import geopandas as gpd"
   ]
  },
  {
   "cell_type": "markdown",
   "id": "dcfafebc",
   "metadata": {},
   "source": [
    "### Prepare network\n",
    "This notebook loads OpenStreetMap data and uses osmnx to extract a routable network graph. Several filters are applied and the network is cleaned before writing it out."
   ]
  },
  {
   "cell_type": "code",
   "execution_count": 1,
   "id": "0da3dda5",
   "metadata": {},
   "outputs": [],
   "source": [
    "# Manage inputs and outputs\n",
    "osm_path = \"../../results/network/network.osm\"\n",
    "output_path = \"../../results/network/network.default.graphml\"\n",
    "\n",
    "excluded_area_path = None #  \"../../resources/spatial/zfe.gpkg\"\n",
    "excluded_tags = None\n",
    "crs = \"EPSG:2154\"\n",
    "\n",
    "if \"snakemake\" in locals():\n",
    "    osm_path = snakemake.input[\"osm\"]\n",
    "\n",
    "    if \"excluded_area\" in snakemake.input.keys():\n",
    "        excluded_area_path = snakemake.input[\"excluded_area\"]\n",
    "\n",
    "    params = snakemake.params[0] if len(snakemake.params) == 1 and len(snakemake.params.keys()) == 0 else snakemake.params\n",
    "\n",
    "    if \"excluded_tags\" in params:\n",
    "        excluded_tags = params[\"excluded_tags\"]\n",
    "\n",
    "    if \"crs\" in params:\n",
    "        crs = params[\"crs\"]\n",
    "\n",
    "    output_path = snakemake.output[0]"
   ]
  },
  {
   "cell_type": "code",
   "execution_count": 3,
   "id": "db2dc6f7",
   "metadata": {},
   "outputs": [],
   "source": [
    "# Load the data\n",
    "graph = ox.graph_from_xml(osm_path, bidirectional = True)"
   ]
  },
  {
   "cell_type": "code",
   "execution_count": 4,
   "id": "dd017cf4",
   "metadata": {},
   "outputs": [
    {
     "name": "stdout",
     "output_type": "stream",
     "text": [
      "Nodes before filtering: 151286\n",
      "Nodes after filtering: 120526\n"
     ]
    }
   ],
   "source": [
    "# Filter out areas if requested\n",
    "if excluded_area_path is not None:\n",
    "    df_excluded = gpd.read_file(excluded_area_path).to_crs(crs)\n",
    "    print(\"Nodes before filtering:\", len(graph.nodes))\n",
    "\n",
    "    df_nodes = ox.utils_graph.graph_to_gdfs(graph, nodes = True, edges = False).reset_index()[[\n",
    "        \"osmid\", \"geometry\"]].to_crs(crs)\n",
    "    \n",
    "    df_nodes = gpd.sjoin(df_nodes, df_excluded, predicate = \"within\")\n",
    "    graph.remove_nodes_from(df_nodes[\"osmid\"].values)\n",
    "\n",
    "    print(\"Nodes after filtering:\", len(graph.nodes))"
   ]
  },
  {
   "cell_type": "code",
   "execution_count": 5,
   "id": "ab6c7803",
   "metadata": {},
   "outputs": [],
   "source": [
    "# Filter out road tags if requested\n",
    "if excluded_tags is not None:\n",
    "    print(\"Edges before filtering:\", len(graph.edges))\n",
    "\n",
    "    excluded_edges = set()\n",
    "    for u, v, data in graph.edges(data = True):\n",
    "        if data[\"highway\"] in excluded_tags:\n",
    "            excluded_edges.add((u, v))\n",
    "\n",
    "    graph.remove_edges_from(excluded_edges)\n",
    "    \n",
    "    print(\"Edges after filtering:\", len(graph.edges))"
   ]
  },
  {
   "cell_type": "code",
   "execution_count": 6,
   "id": "5caf2581",
   "metadata": {},
   "outputs": [],
   "source": [
    "## Network clean-up\n",
    "\n",
    "# Self-loop edges\n",
    "self_loop_edges = list(nx.selfloop_edges(graph))\n",
    "graph.remove_edges_from(self_loop_edges)\n",
    "\n",
    "# Isolated nodes\n",
    "graph = ox.utils_graph.remove_isolated_nodes(graph)\n",
    "\n",
    "# Find strongly connected component\n",
    "graph = ox.utils_graph.get_largest_component(graph, strongly = True)\n",
    "\n",
    "# Speeds and travel times\n",
    "graph = ox.add_edge_speeds(graph)\n",
    "graph = ox.add_edge_travel_times(graph)"
   ]
  },
  {
   "cell_type": "code",
   "execution_count": 8,
   "id": "a09e3689",
   "metadata": {},
   "outputs": [],
   "source": [
    "# Output\n",
    "ox.io.save_graphml(graph, output_path)"
   ]
  }
 ],
 "metadata": {
  "celltoolbar": "Tags",
  "kernelspec": {
   "display_name": "Python 3 (ipykernel)",
   "language": "python",
   "name": "python3"
  },
  "language_info": {
   "codemirror_mode": {
    "name": "ipython",
    "version": 3
   },
   "file_extension": ".py",
   "mimetype": "text/x-python",
   "name": "python",
   "nbconvert_exporter": "python",
   "pygments_lexer": "ipython3",
   "version": "3.12.1"
  },
  "vscode": {
   "interpreter": {
    "hash": "d4d0f3cc94eea0ddf6eeacdc2be0ed1d793b5ffaea4957e793a8209321ab5548"
   }
  }
 },
 "nbformat": 4,
 "nbformat_minor": 5
}
